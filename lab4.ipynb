{
 "cells": [
  {
   "cell_type": "code",
   "execution_count": 1,
   "id": "788c5a25",
   "metadata": {},
   "outputs": [],
   "source": [
    "import numpy as np\n",
    "import pandas as pd"
   ]
  },
  {
   "cell_type": "markdown",
   "id": "9c175be1",
   "metadata": {},
   "source": [
    "Гулкевич Борис Ка-32МП, варіант 8\n",
    "Алгоритм DBSCAN. Розрахувати додатковий результат кластеризацiї:\n",
    "estimated number of noise points.\n",
    "Метрики якостi: Estimated number of clusters, Homogeneity, Completeness,\n",
    "V-measure.\n",
    "Чи є розбиття стабiльним на пiдвибiрках даних?"
   ]
  },
  {
   "cell_type": "markdown",
   "id": "8a6a3b9e",
   "metadata": {},
   "source": [
    "Початковi данi:\n",
    "(а) sklearn.datasets.make_moons\n",
    "(б) from s k l e a r n . d a t a s e t s . sample s_gene ra to r import make_blobs\n",
    "X1, y_true = make_blobs ( n_samples =10000 , c e n t e r s =4,\n",
    "\n",
    "cl u s t e r _ s t d =0.60 , random_state=0)\n",
    "\n",
    "rng = np . random . RandomState (13 )\n",
    "X = np . dot (X1, rng . randn ( 2 , 2 ) )"
   ]
  },
  {
   "cell_type": "code",
   "execution_count": 2,
   "id": "8a0a4c92",
   "metadata": {},
   "outputs": [],
   "source": [
    "from sklearn.datasets import make_moons"
   ]
  },
  {
   "cell_type": "code",
   "execution_count": 3,
   "id": "3f18c701",
   "metadata": {},
   "outputs": [],
   "source": [
    "from sklearn.cluster import DBSCAN"
   ]
  },
  {
   "cell_type": "markdown",
   "id": "c4ca19e6",
   "metadata": {},
   "source": [
    "Для варіанту а)make moons"
   ]
  },
  {
   "cell_type": "code",
   "execution_count": 4,
   "id": "da7f87c4",
   "metadata": {},
   "outputs": [],
   "source": [
    "X, y = make_moons(noise=0.01, random_state=42)"
   ]
  },
  {
   "cell_type": "code",
   "execution_count": 5,
   "id": "7745a9cf",
   "metadata": {},
   "outputs": [],
   "source": [
    "from matplotlib import pyplot as plt"
   ]
  },
  {
   "cell_type": "markdown",
   "id": "6fd63bbd",
   "metadata": {},
   "source": [
    "Візуалізація"
   ]
  },
  {
   "cell_type": "code",
   "execution_count": 6,
   "id": "d38ad821",
   "metadata": {
    "scrolled": false
   },
   "outputs": [
    {
     "data": {
      "image/png": "[encoded data removed]",
      "text/plain": [
       "<Figure size 640x480 with 1 Axes>"
      ]
     },
     "metadata": {},
     "output_type": "display_data"
    }
   ],
   "source": [
    "plt.plot(X[:, 0][y==1], X[:, 1][y==1], \"bs\")\n",
    "plt.plot(X[:, 0][y==0], X[:, 1][y==0], \"g^\")\n",
    "plt.xlabel(r\"$x_1$\", fontsize=20)\n",
    "plt.ylabel(r\"$x_2$\", fontsize=20)\n",
    "plt.xticks([])\n",
    "plt.yticks([])\n",
    "plt.show()"
   ]
  },
  {
   "cell_type": "code",
   "execution_count": 7,
   "id": "e61c217f",
   "metadata": {},
   "outputs": [],
   "source": [
    "from sklearn.model_selection import train_test_split"
   ]
  },
  {
   "cell_type": "code",
   "execution_count": 8,
   "id": "f06ea01f",
   "metadata": {},
   "outputs": [],
   "source": [
    "X_train, X_test, y_train, y_test = train_test_split(X, y, test_size=0.33, random_state=42)"
   ]
  },
  {
   "cell_type": "markdown",
   "id": "17b0b1b8",
   "metadata": {},
   "source": [
    "Проведення кластеризації"
   ]
  },
  {
   "cell_type": "code",
   "execution_count": 9,
   "id": "cde555d5",
   "metadata": {},
   "outputs": [],
   "source": [
    "clustering = DBSCAN()"
   ]
  },
  {
   "cell_type": "code",
   "execution_count": 10,
   "id": "2e37b9fc",
   "metadata": {},
   "outputs": [],
   "source": [
    "y_pred = clustering.fit_predict(X)"
   ]
  },
  {
   "cell_type": "code",
   "execution_count": 11,
   "id": "00fbc65b",
   "metadata": {},
   "outputs": [
    {
     "data": {
      "image/png": "[encoded data removed]",
      "text/plain": [
       "<Figure size 640x480 with 1 Axes>"
      ]
     },
     "metadata": {},
     "output_type": "display_data"
    }
   ],
   "source": [
    "plt.plot(X[:, 0][y_pred==1], X[:, 1][y_pred==1], \"bs\")\n",
    "plt.plot(X[:, 0][y_pred==0], X[:, 1][y_pred==0], \"g^\")\n",
    "plt.xlabel(r\"$x_1$\", fontsize=20)\n",
    "plt.ylabel(r\"$x_2$\", fontsize=20)\n",
    "plt.xticks([])\n",
    "plt.yticks([])\n",
    "plt.show()"
   ]
  },
  {
   "cell_type": "markdown",
   "id": "8842796f",
   "metadata": {},
   "source": [
    "У ході проведення експерименту було виявлено, що створюються лише один кластер якщо додавати хоч якийсь параметр шуму"
   ]
  },
  {
   "cell_type": "markdown",
   "id": "d846f473",
   "metadata": {},
   "source": [
    "Розгляд часу роботи на просто взятому"
   ]
  },
  {
   "cell_type": "code",
   "execution_count": 12,
   "id": "562d3b8b",
   "metadata": {},
   "outputs": [],
   "source": [
    "from time import process_time"
   ]
  },
  {
   "cell_type": "code",
   "execution_count": 13,
   "id": "48aca866",
   "metadata": {},
   "outputs": [
    {
     "data": {
      "text/plain": [
       "0.015625"
      ]
     },
     "execution_count": 13,
     "metadata": {},
     "output_type": "execute_result"
    }
   ],
   "source": [
    "clustering = DBSCAN()\n",
    "start = process_time()\n",
    "y_pred = clustering.fit_predict(X)\n",
    "end = process_time()\n",
    "end-start"
   ]
  },
  {
   "cell_type": "markdown",
   "id": "da269620",
   "metadata": {},
   "source": [
    "Збільшимо кількість до дуже великого"
   ]
  },
  {
   "cell_type": "code",
   "execution_count": 17,
   "id": "72bc7e01",
   "metadata": {},
   "outputs": [],
   "source": [
    "X_big, y_big = make_moons(n_samples=100000)"
   ]
  },
  {
   "cell_type": "code",
   "execution_count": 18,
   "id": "40bce00d",
   "metadata": {},
   "outputs": [],
   "source": [
    "clustering = DBSCAN()"
   ]
  },
  {
   "cell_type": "code",
   "execution_count": 19,
   "id": "a7b8f167",
   "metadata": {},
   "outputs": [
    {
     "data": {
      "text/plain": [
       "40.453125"
      ]
     },
     "execution_count": 19,
     "metadata": {},
     "output_type": "execute_result"
    }
   ],
   "source": [
    "start = process_time()\n",
    "y_pred = clustering.fit_predict(X_big)\n",
    "end = process_time()\n",
    "end-start"
   ]
  },
  {
   "cell_type": "markdown",
   "id": "f7e54b39",
   "metadata": {},
   "source": [
    "При збільшенні у півтора рази йде у нескінченний луп"
   ]
  },
  {
   "cell_type": "markdown",
   "id": "c0171e27",
   "metadata": {},
   "source": [
    "Розглянемо з різними параметрами. Спершу подивимося на eps=0.4"
   ]
  },
  {
   "cell_type": "code",
   "execution_count": 38,
   "id": "bdb82d4e",
   "metadata": {},
   "outputs": [],
   "source": [
    "from sklearn.metrics.cluster import completeness_score\n",
    "from sklearn.metrics.cluster import homogeneity_score"
   ]
  },
  {
   "cell_type": "code",
   "execution_count": 39,
   "id": "a2e6c7de",
   "metadata": {
    "scrolled": true
   },
   "outputs": [],
   "source": [
    "clustering = DBSCAN(eps=0.4)\n",
    "start = process_time()\n",
    "y_pred = clustering.fit_predict(X)\n",
    "labels = clustering.labels_\n",
    "n_clusters_ = len(set(labels)) - (1 if -1 in labels else 0)\n",
    "homog = homogeneity_score(y,y_pred)\n",
    "completen = completeness_score(y,y_pred)"
   ]
  },
  {
   "cell_type": "code",
   "execution_count": 41,
   "id": "def1a209",
   "metadata": {
    "scrolled": true
   },
   "outputs": [
    {
     "name": "stdout",
     "output_type": "stream",
     "text": [
      "predicted clusters =  2\n",
      "homogeneity =  1.0\n",
      "completeness =  1.0\n"
     ]
    }
   ],
   "source": [
    "print(\"predicted clusters = \", n_clusters_)\n",
    "print(\"homogeneity = \", homog)\n",
    "print(\"completeness = \", completen)"
   ]
  },
  {
   "cell_type": "markdown",
   "id": "204ed4a2",
   "metadata": {},
   "source": [
    "Для демонстрації зміни від шуму і розміру епс покажу цю модель. Висновок виходить що при збільшенні епс то буде просто один клас"
   ]
  },
  {
   "cell_type": "code",
   "execution_count": 30,
   "id": "eaaeced9",
   "metadata": {},
   "outputs": [
    {
     "data": {
      "image/png": "[encoded data removed]",
      "text/plain": [
       "<Figure size 640x480 with 1 Axes>"
      ]
     },
     "metadata": {},
     "output_type": "display_data"
    }
   ],
   "source": [
    "X1, y1 = make_moons(noise=0.2, random_state=42)\n",
    "clustering = DBSCAN(eps=0.3)\n",
    "start = process_time()\n",
    "y_pred1 = clustering.fit_predict(X1)\n",
    "plt.plot(X1[:, 0][y_pred1==1], X1[:, 1][y_pred1==1], \"bs\")\n",
    "plt.plot(X1[:, 0][y_pred1==0], X1[:, 1][y_pred1==0], \"g^\")\n",
    "plt.xlabel(r\"$x_1$\", fontsize=20)\n",
    "plt.ylabel(r\"$x_2$\", fontsize=20)\n",
    "plt.xticks([])\n",
    "plt.yticks([])\n",
    "plt.show()"
   ]
  },
  {
   "cell_type": "markdown",
   "id": "29161711",
   "metadata": {},
   "source": [
    "Розглянемо різні варіанти відстані. Спершу ‘nan_euclidean’"
   ]
  },
  {
   "cell_type": "code",
   "execution_count": 42,
   "id": "7c224b63",
   "metadata": {},
   "outputs": [
    {
     "name": "stdout",
     "output_type": "stream",
     "text": [
      "predicted clusters =  2\n",
      "homogeneity =  1.0\n",
      "completeness =  1.0\n"
     ]
    }
   ],
   "source": [
    "clustering = DBSCAN(eps=0.4, metric='nan_euclidean')\n",
    "start = process_time()\n",
    "y_pred = clustering.fit_predict(X)\n",
    "labels = clustering.labels_\n",
    "n_clusters_ = len(set(labels)) - (1 if -1 in labels else 0)\n",
    "homog = homogeneity_score(y,y_pred)\n",
    "completen = completeness_score(y,y_pred)\n",
    "print(\"predicted clusters = \", n_clusters_)\n",
    "print(\"homogeneity = \", homog)\n",
    "print(\"completeness = \", completen)"
   ]
  },
  {
   "cell_type": "markdown",
   "id": "edd56d46",
   "metadata": {},
   "source": [
    "Для l1"
   ]
  },
  {
   "cell_type": "code",
   "execution_count": 43,
   "id": "af0c2da2",
   "metadata": {},
   "outputs": [
    {
     "name": "stdout",
     "output_type": "stream",
     "text": [
      "predicted clusters =  2\n",
      "homogeneity =  1.0\n",
      "completeness =  1.0\n"
     ]
    }
   ],
   "source": [
    "clustering = DBSCAN(eps=0.4, metric='l1')\n",
    "start = process_time()\n",
    "y_pred = clustering.fit_predict(X)\n",
    "labels = clustering.labels_\n",
    "n_clusters_ = len(set(labels)) - (1 if -1 in labels else 0)\n",
    "homog = homogeneity_score(y,y_pred)\n",
    "completen = completeness_score(y,y_pred)\n",
    "print(\"predicted clusters = \", n_clusters_)\n",
    "print(\"homogeneity = \", homog)\n",
    "print(\"completeness = \", completen)"
   ]
  },
  {
   "cell_type": "markdown",
   "id": "5b87ac4e",
   "metadata": {},
   "source": [
    "Зменшимо кількість мінімальних точок поряд біля точки щоб вважати її центром кластера"
   ]
  },
  {
   "cell_type": "code",
   "execution_count": 44,
   "id": "600b1fc2",
   "metadata": {},
   "outputs": [
    {
     "name": "stdout",
     "output_type": "stream",
     "text": [
      "predicted clusters =  2\n",
      "homogeneity =  1.0\n",
      "completeness =  1.0\n"
     ]
    }
   ],
   "source": [
    "clustering = DBSCAN(eps=0.4, min_samples=1)\n",
    "start = process_time()\n",
    "y_pred = clustering.fit_predict(X)\n",
    "labels = clustering.labels_\n",
    "n_clusters_ = len(set(labels)) - (1 if -1 in labels else 0)\n",
    "homog = homogeneity_score(y,y_pred)\n",
    "completen = completeness_score(y,y_pred)\n",
    "print(\"predicted clusters = \", n_clusters_)\n",
    "print(\"homogeneity = \", homog)\n",
    "print(\"completeness = \", completen)"
   ]
  },
  {
   "cell_type": "markdown",
   "id": "9d52739e",
   "metadata": {},
   "source": [
    "Для 50"
   ]
  },
  {
   "cell_type": "code",
   "execution_count": 45,
   "id": "b77c5227",
   "metadata": {},
   "outputs": [
    {
     "name": "stdout",
     "output_type": "stream",
     "text": [
      "predicted clusters =  0\n",
      "homogeneity =  0.0\n",
      "completeness =  1.0\n"
     ]
    }
   ],
   "source": [
    "clustering = DBSCAN(eps=0.4, min_samples=50)\n",
    "start = process_time()\n",
    "y_pred = clustering.fit_predict(X)\n",
    "labels = clustering.labels_\n",
    "n_clusters_ = len(set(labels)) - (1 if -1 in labels else 0)\n",
    "homog = homogeneity_score(y,y_pred)\n",
    "completen = completeness_score(y,y_pred)\n",
    "print(\"predicted clusters = \", n_clusters_)\n",
    "print(\"homogeneity = \", homog)\n",
    "print(\"completeness = \", completen)"
   ]
  },
  {
   "cell_type": "markdown",
   "id": "6ce2caaa",
   "metadata": {},
   "source": [
    "Чи є розбиття стабiльним на пiдвибiрках даних?"
   ]
  },
  {
   "cell_type": "code",
   "execution_count": 53,
   "id": "3fc7f3f7",
   "metadata": {},
   "outputs": [
    {
     "name": "stdout",
     "output_type": "stream",
     "text": [
      "Mean Adjusted Rand Index: 1\n"
     ]
    }
   ],
   "source": [
    "from sklearn.metrics import adjusted_rand_score\n",
    "from sklearn.model_selection import KFold\n",
    "\n",
    "\n",
    "clustering = DBSCAN(eps=0.4)\n",
    "y_pred = clustering.fit_predict(X)\n",
    "kf = KFold(n_splits=5, shuffle=True, random_state=42)\n",
    "stability_scores = []\n",
    "\n",
    "for train_index, test_index in kf.split(X):\n",
    "    \n",
    "    dbscan = DBSCAN(eps=0.4, min_samples=5)\n",
    "    \n",
    "    test_clusters = dbscan.fit_predict(X)\n",
    "    \n",
    "    ari = adjusted_rand_score(y_pred[test_index], test_clusters)\n",
    "    stability_scores.append(ari)\n",
    "\n",
    "# Результати\n",
    "mean_ari = np.mean(stability_scores)\n",
    "\n",
    "print(f'Mean Adjusted Rand Index: {mean_ari}')"
   ]
  },
  {
   "cell_type": "markdown",
   "id": "e0ad6427",
   "metadata": {},
   "source": [
    "Висновок по першому набору даних: модель показала себе ідеально на взятому наборі даних, але лише при правильному eps. Так, якщо eps не буде відповідати рівню шумів у цьому датасеті, то або дані всі будуть взяті в один кластер, або не буде жодного кластера."
   ]
  },
  {
   "cell_type": "markdown",
   "id": "0c4b14a9",
   "metadata": {},
   "source": [
    "Розглянемо для другого набору даних"
   ]
  },
  {
   "cell_type": "code",
   "execution_count": 55,
   "id": "cc3d39a8",
   "metadata": {},
   "outputs": [],
   "source": [
    "from sklearn.datasets import make_blobs\n",
    "X1, y_true = make_blobs (n_samples =10000, \n",
    "                         centers=4, \n",
    "                         cluster_std =0.60, \n",
    "                         random_state=0) \n",
    "rng = np.random.RandomState(13)\n",
    "X = np.dot(X1,rng.randn(2,2))"
   ]
  },
  {
   "cell_type": "code",
   "execution_count": 56,
   "id": "d2c1c67f",
   "metadata": {},
   "outputs": [
    {
     "name": "stdout",
     "output_type": "stream",
     "text": [
      "[0 3 2 ... 2 1 2]\n"
     ]
    }
   ],
   "source": []
  },
  {
   "cell_type": "markdown",
   "id": "e02481f2",
   "metadata": {},
   "source": [
    "Візуалізація"
   ]
  },
  {
   "cell_type": "code",
   "execution_count": 57,
   "id": "7d54a7b4",
   "metadata": {},
   "outputs": [
    {
     "data": {
      "image/png": "[encoded data removed]",
      "text/plain": [
       "<Figure size 640x480 with 1 Axes>"
      ]
     },
     "metadata": {},
     "output_type": "display_data"
    }
   ],
   "source": [
    "plt.plot(X[:, 0][y_true==3], X[:, 1][y_true==3], \"y\")\n",
    "plt.plot(X[:, 0][y_true==2], X[:, 1][y_true==2], \"k\")\n",
    "plt.plot(X[:, 0][y_true==1], X[:, 1][y_true==1], \"bs\")\n",
    "plt.plot(X[:, 0][y_true==0], X[:, 1][y_true==0], \"g^\")\n",
    "\n",
    "plt.xlabel(r\"$x_1$\", fontsize=20)\n",
    "plt.ylabel(r\"$x_2$\", fontsize=20)\n",
    "plt.xticks([])\n",
    "plt.yticks([])\n",
    "plt.show()"
   ]
  },
  {
   "cell_type": "markdown",
   "id": "f60b3dc9",
   "metadata": {},
   "source": [
    "Проведення кластеризації"
   ]
  },
  {
   "cell_type": "code",
   "execution_count": 81,
   "id": "92f8c5d3",
   "metadata": {},
   "outputs": [
    {
     "data": {
      "image/png": "[encoded data removed]",
      "text/plain": [
       "<Figure size 640x480 with 1 Axes>"
      ]
     },
     "metadata": {},
     "output_type": "display_data"
    }
   ],
   "source": [
    "clustering = DBSCAN(eps=0.077)\n",
    "y_pred = clustering.fit_predict(X)\n",
    "labels = clustering.labels_\n",
    "plt.plot(X[:, 0][y_pred==3], X[:, 1][y_pred==3], \"y\")\n",
    "plt.plot(X[:, 0][y_pred==2], X[:, 1][y_pred==2], \"k\")\n",
    "plt.plot(X[:, 0][y_pred==1], X[:, 1][y_pred==1], \"bs\")\n",
    "plt.plot(X[:, 0][y_pred==0], X[:, 1][y_pred==0], \"g^\")\n",
    "\n",
    "plt.xlabel(r\"$x_1$\", fontsize=20)\n",
    "plt.ylabel(r\"$x_2$\", fontsize=20)\n",
    "plt.xticks([])\n",
    "plt.yticks([])\n",
    "plt.show()"
   ]
  },
  {
   "cell_type": "code",
   "execution_count": 82,
   "id": "a864142b",
   "metadata": {},
   "outputs": [
    {
     "name": "stdout",
     "output_type": "stream",
     "text": [
      "predicted clusters =  11\n",
      "homogeneity =  0.7292989279574332\n",
      "completeness =  0.8600218028627366\n"
     ]
    }
   ],
   "source": [
    "n_clusters_ = len(set(labels)) - (1 if -1 in labels else 0)\n",
    "homog = homogeneity_score(y_true,y_pred)\n",
    "completen = completeness_score(y_true,y_pred)\n",
    "print(\"predicted clusters = \", n_clusters_)\n",
    "print(\"homogeneity = \", homog)\n",
    "print(\"completeness = \", completen)"
   ]
  },
  {
   "cell_type": "markdown",
   "id": "be591634",
   "metadata": {},
   "source": [
    "Бачимо ненайкращий розгляд"
   ]
  },
  {
   "cell_type": "markdown",
   "id": "66fdbd9e",
   "metadata": {},
   "source": [
    "Подивимося на роботу на дуже великому зразку даних"
   ]
  },
  {
   "cell_type": "code",
   "execution_count": 120,
   "id": "e127f2d5",
   "metadata": {},
   "outputs": [
    {
     "name": "stdout",
     "output_type": "stream",
     "text": [
      "predicted clusters =  5\n",
      "homogeneity =  0.00039007947336063914\n",
      "completeness =  0.03162203957724351\n"
     ]
    }
   ],
   "source": [
    "X11, y_true1 = make_blobs (n_samples =100000, \n",
    "                         centers=4, \n",
    "                         cluster_std =0.60, \n",
    "                         random_state=0) \n",
    "rngg = np.random.RandomState(13)\n",
    "X12 = np.dot(X11,rngg.randn(2,2))\n",
    "clustering1 = DBSCAN(eps=0.077)\n",
    "start = process_time()\n",
    "y_pred1 = clustering1.fit_predict(X12)\n",
    "end = process_time()\n",
    "labels = clustering1.labels_\n",
    "n_clusters_ = len(set(labels)) - (1 if -1 in labels else 0)\n",
    "homog = homogeneity_score(y_true1,y_pred1)\n",
    "completen = completeness_score(y_true1,y_pred1)\n",
    "print(\"predicted clusters = \", n_clusters_)\n",
    "print(\"homogeneity = \", homog)\n",
    "print(\"completeness = \", completen)"
   ]
  },
  {
   "cell_type": "code",
   "execution_count": 121,
   "id": "8f93a9fa",
   "metadata": {},
   "outputs": [
    {
     "data": {
      "text/plain": [
       "2.046875"
      ]
     },
     "execution_count": 121,
     "metadata": {},
     "output_type": "execute_result"
    }
   ],
   "source": [
    "end-start"
   ]
  },
  {
   "cell_type": "code",
   "execution_count": 95,
   "id": "f89a024c",
   "metadata": {},
   "outputs": [
    {
     "data": {
      "image/png": "[encoded data removed]",
      "text/plain": [
       "<Figure size 640x480 with 1 Axes>"
      ]
     },
     "metadata": {},
     "output_type": "display_data"
    }
   ],
   "source": [
    "plt.plot(X12[:, 0][y_pred1==3], X12[:, 1][y_pred1==3], \"y*\")\n",
    "plt.plot(X12[:, 0][y_pred1==2], X12[:, 1][y_pred1==2], \"k^\")\n",
    "plt.plot(X12[:, 0][y_pred1==1], X12[:, 1][y_pred1==1], \"bs\")\n",
    "plt.plot(X12[:, 0][y_pred1==0], X12[:, 1][y_pred1==0], \"g*\")\n",
    "\n",
    "plt.xlabel(r\"$x_1$\", fontsize=20)\n",
    "plt.ylabel(r\"$x_2$\", fontsize=20)\n",
    "plt.xticks([])\n",
    "plt.yticks([])\n",
    "plt.show()"
   ]
  },
  {
   "cell_type": "markdown",
   "id": "3e41e0fa",
   "metadata": {},
   "source": [
    "Розглянемо при різних параметрах eps: 0.5, 0.1, 0.05, 0.03, 0.01, eps=0.089"
   ]
  },
  {
   "cell_type": "code",
   "execution_count": 97,
   "id": "7ba42dc6",
   "metadata": {},
   "outputs": [
    {
     "name": "stdout",
     "output_type": "stream",
     "text": [
      "predicted clusters =  1\n",
      "homogeneity =  0.0001000144298374093\n",
      "completeness =  0.07284232560440568\n"
     ]
    }
   ],
   "source": [
    "clustering = DBSCAN(eps=0.5)\n",
    "y_pred = clustering.fit_predict(X)\n",
    "labels = clustering.labels_\n",
    "n_clusters_ = len(set(labels)) - (1 if -1 in labels else 0)\n",
    "homog = homogeneity_score(y_true,y_pred)\n",
    "completen = completeness_score(y_true,y_pred)\n",
    "print(\"predicted clusters = \", n_clusters_)\n",
    "print(\"homogeneity = \", homog)\n",
    "print(\"completeness = \", completen)"
   ]
  },
  {
   "cell_type": "code",
   "execution_count": 98,
   "id": "acec071f",
   "metadata": {},
   "outputs": [
    {
     "name": "stdout",
     "output_type": "stream",
     "text": [
      "predicted clusters =  44\n",
      "homogeneity =  0.9054018824622158\n",
      "completeness =  0.7115940878656039\n"
     ]
    }
   ],
   "source": [
    "clustering = DBSCAN(eps=0.05)\n",
    "y_pred = clustering.fit_predict(X)\n",
    "labels = clustering.labels_\n",
    "n_clusters_ = len(set(labels)) - (1 if -1 in labels else 0)\n",
    "homog = homogeneity_score(y_true,y_pred)\n",
    "completen = completeness_score(y_true,y_pred)\n",
    "print(\"predicted clusters = \", n_clusters_)\n",
    "print(\"homogeneity = \", homog)\n",
    "print(\"completeness = \", completen)"
   ]
  },
  {
   "cell_type": "code",
   "execution_count": 110,
   "id": "03446a89",
   "metadata": {},
   "outputs": [
    {
     "name": "stdout",
     "output_type": "stream",
     "text": [
      "predicted clusters =  4\n",
      "homogeneity =  0.40029920022063414\n",
      "completeness =  0.8817643483248188\n"
     ]
    }
   ],
   "source": [
    "clustering = DBSCAN(eps=0.1)\n",
    "y_pred = clustering.fit_predict(X)\n",
    "labels = clustering.labels_\n",
    "n_clusters_ = len(set(labels)) - (1 if -1 in labels else 0)\n",
    "homog = homogeneity_score(y_true,y_pred)\n",
    "completen = completeness_score(y_true,y_pred)\n",
    "print(\"predicted clusters = \", n_clusters_)\n",
    "print(\"homogeneity = \", homog)\n",
    "print(\"completeness = \", completen)\n"
   ]
  },
  {
   "cell_type": "code",
   "execution_count": null,
   "id": "d73d3e5b",
   "metadata": {},
   "outputs": [],
   "source": []
  },
  {
   "cell_type": "code",
   "execution_count": 100,
   "id": "6e579d42",
   "metadata": {},
   "outputs": [
    {
     "name": "stdout",
     "output_type": "stream",
     "text": [
      "predicted clusters =  172\n",
      "homogeneity =  0.7547418193186002\n",
      "completeness =  0.40581195873954123\n"
     ]
    }
   ],
   "source": [
    "clustering = DBSCAN(eps=0.03)\n",
    "y_pred = clustering.fit_predict(X)\n",
    "labels = clustering.labels_\n",
    "n_clusters_ = len(set(labels)) - (1 if -1 in labels else 0)\n",
    "homog = homogeneity_score(y_true,y_pred)\n",
    "completen = completeness_score(y_true,y_pred)\n",
    "print(\"predicted clusters = \", n_clusters_)\n",
    "print(\"homogeneity = \", homog)\n",
    "print(\"completeness = \", completen)"
   ]
  },
  {
   "cell_type": "code",
   "execution_count": 101,
   "id": "a7103c37",
   "metadata": {},
   "outputs": [
    {
     "name": "stdout",
     "output_type": "stream",
     "text": [
      "predicted clusters =  48\n",
      "homogeneity =  0.027212244031065\n",
      "completeness =  0.16420911128713875\n"
     ]
    }
   ],
   "source": [
    "clustering = DBSCAN(eps=0.01)\n",
    "y_pred = clustering.fit_predict(X)\n",
    "labels = clustering.labels_\n",
    "n_clusters_ = len(set(labels)) - (1 if -1 in labels else 0)\n",
    "homog = homogeneity_score(y_true,y_pred)\n",
    "completen = completeness_score(y_true,y_pred)\n",
    "print(\"predicted clusters = \", n_clusters_)\n",
    "print(\"homogeneity = \", homog)\n",
    "print(\"completeness = \", completen)"
   ]
  },
  {
   "cell_type": "markdown",
   "id": "af1d142c",
   "metadata": {},
   "source": [
    "Для eps=0.1 розглянемо різні довжини"
   ]
  },
  {
   "cell_type": "code",
   "execution_count": 111,
   "id": "fe8c3b30",
   "metadata": {},
   "outputs": [
    {
     "name": "stdout",
     "output_type": "stream",
     "text": [
      "predicted clusters =  4\n",
      "homogeneity =  0.40029920022063414\n",
      "completeness =  0.8817643483248188\n"
     ]
    }
   ],
   "source": [
    "clustering = DBSCAN(eps=0.1, metric='nan_euclidean')\n",
    "y_pred = clustering.fit_predict(X)\n",
    "labels = clustering.labels_\n",
    "n_clusters_ = len(set(labels)) - (1 if -1 in labels else 0)\n",
    "homog = homogeneity_score(y_true,y_pred)\n",
    "completen = completeness_score(y_true,y_pred)\n",
    "print(\"predicted clusters = \", n_clusters_)\n",
    "print(\"homogeneity = \", homog)\n",
    "print(\"completeness = \", completen)"
   ]
  },
  {
   "cell_type": "code",
   "execution_count": 118,
   "id": "836c30bd",
   "metadata": {},
   "outputs": [
    {
     "name": "stdout",
     "output_type": "stream",
     "text": [
      "predicted clusters =  8\n",
      "homogeneity =  0.7305639368563626\n",
      "completeness =  0.8754953477372364\n"
     ]
    }
   ],
   "source": [
    "clustering = DBSCAN(eps=0.1, metric='l1')\n",
    "y_pred = clustering.fit_predict(X)\n",
    "labels = clustering.labels_\n",
    "n_clusters_ = len(set(labels)) - (1 if -1 in labels else 0)\n",
    "homog = homogeneity_score(y_true,y_pred)\n",
    "completen = completeness_score(y_true,y_pred)\n",
    "print(\"predicted clusters = \", n_clusters_)\n",
    "print(\"homogeneity = \", homog)\n",
    "print(\"completeness = \", completen)"
   ]
  },
  {
   "cell_type": "code",
   "execution_count": 119,
   "id": "7585fc7a",
   "metadata": {},
   "outputs": [
    {
     "name": "stdout",
     "output_type": "stream",
     "text": [
      "predicted clusters =  4\n",
      "homogeneity =  0.40029920022063414\n",
      "completeness =  0.8817643483248188\n"
     ]
    }
   ],
   "source": [
    "clustering = DBSCAN(eps=0.1, metric='l2')\n",
    "y_pred = clustering.fit_predict(X)\n",
    "labels = clustering.labels_\n",
    "n_clusters_ = len(set(labels)) - (1 if -1 in labels else 0)\n",
    "homog = homogeneity_score(y_true,y_pred)\n",
    "completen = completeness_score(y_true,y_pred)\n",
    "print(\"predicted clusters = \", n_clusters_)\n",
    "print(\"homogeneity = \", homog)\n",
    "print(\"completeness = \", completen)"
   ]
  },
  {
   "cell_type": "markdown",
   "id": "2373969e",
   "metadata": {},
   "source": [
    "Найращий варіант отримано навколо eps=0.1 та метрик евклідової та l2"
   ]
  },
  {
   "cell_type": "code",
   "execution_count": null,
   "id": "d4a50953",
   "metadata": {},
   "outputs": [],
   "source": []
  },
  {
   "cell_type": "code",
   "execution_count": null,
   "id": "748c0c45",
   "metadata": {},
   "outputs": [],
   "source": []
  },
  {
   "cell_type": "markdown",
   "id": "2bae830b",
   "metadata": {},
   "source": [
    "Висновок: виконавши роботу я оцінив роботу алгоритму DBSCAN при кластеризації двох датасетів. Він показав себе нормально на першому датасеті та гірше на другому. Вважаю, що результати першого вийгли такими через слабко задані параметри утворення датасету, хоча при правильному підборі епс всеодно ідеально знаходило. Параметри інші в більшості не впливали на результати для першого датасету. На ньому ж алгоритм починає зависати при роботі з даними розміром 140+ тисячами. Для другого датасету було отроимано в певній мірі \"реалістичніші по відчуттях результати\". Також на цьому датасеті алгоритм працював відчутно швидше і \"надійніше\". Для нього найкращим варіантом стало епсілон 0.1 та відстані через евклідової та l2. За виконаною роботою можна побачити, що на підвибірках зберігається розбиття, хоча і дещо менш ясно"
   ]
  },
  {
   "cell_type": "code",
   "execution_count": null,
   "id": "d2d25585",
   "metadata": {},
   "outputs": [],
   "source": []
  }
 ],
 "metadata": {
  "kernelspec": {
   "display_name": "Python 3 (ipykernel)",
   "language": "python",
   "name": "python3"
  },
  "language_info": {
   "codemirror_mode": {
    "name": "ipython",
    "version": 3
   },
   "file_extension": ".py",
   "mimetype": "text/x-python",
   "name": "python",
   "nbconvert_exporter": "python",
   "pygments_lexer": "ipython3",
   "version": "3.11.0"
  }
 },
 "nbformat": 4,
 "nbformat_minor": 5
}

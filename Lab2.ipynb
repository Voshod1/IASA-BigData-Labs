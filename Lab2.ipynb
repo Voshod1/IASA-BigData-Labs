{
 "cells": [
  {
   "cell_type": "code",
   "execution_count": 63,
   "id": "c9a240a7",
   "metadata": {},
   "outputs": [],
   "source": [
    "import numpy as np\n",
    "import pandas as pd\n",
    "from ucimlrepo import fetch_ucirepo"
   ]
  },
  {
   "cell_type": "markdown",
   "id": "ff076a64",
   "metadata": {},
   "source": [
    "Згенеруємо дані"
   ]
  },
  {
   "cell_type": "code",
   "execution_count": 64,
   "id": "53e94df3",
   "metadata": {},
   "outputs": [],
   "source": [
    "# fetch dataset Перший набір\n",
    "wine = fetch_ucirepo(id=109) \n",
    "  \n",
    "# data (as pandas dataframes) \n",
    "X = wine.data.features \n",
    "y = wine.data.targets "
   ]
  },
  {
   "cell_type": "code",
   "execution_count": 65,
   "id": "e89a545c",
   "metadata": {},
   "outputs": [],
   "source": [
    "from sklearn.datasets import make_classification"
   ]
  },
  {
   "cell_type": "code",
   "execution_count": 66,
   "id": "a7f5dbc0",
   "metadata": {},
   "outputs": [
    {
     "data": {
      "text/plain": [
       "array([[-0.76140922,  0.11431366,  0.33376965, ...,  1.13047408,\n",
       "         0.57047797,  0.22553018],\n",
       "       [ 2.1042099 ,  0.85005082, -0.74935695, ..., -0.4050164 ,\n",
       "        -1.46956242,  1.13532303],\n",
       "       [ 1.41463755, -0.39977483,  1.05157174, ...,  0.60679048,\n",
       "        -1.77791874, -1.30066825],\n",
       "       ...,\n",
       "       [ 0.86071483,  0.54555554,  0.15041709, ...,  0.08984181,\n",
       "        -0.82099997, -1.21116543],\n",
       "       [-0.65516929,  1.54784747, -0.54755183, ...,  1.57662577,\n",
       "        -0.61437948,  0.64050888],\n",
       "       [ 0.00300501,  0.78134044, -0.92892264, ..., -0.44145915,\n",
       "        -0.05976929, -1.05744972]])"
      ]
     },
     "execution_count": 66,
     "metadata": {},
     "output_type": "execute_result"
    }
   ],
   "source": [
    "x_g, y_g = make_classification(n_samples=181, n_features=16, n_informative=3, n_redundant=4)\n",
    "x_g"
   ]
  },
  {
   "cell_type": "markdown",
   "id": "365e5286",
   "metadata": {},
   "source": [
    "3. Оцінити важливість ознак, використовуючи наступні алгоритми, реалізовані в scikit-learn python: \n",
    "- Univariate feature selection,"
   ]
  },
  {
   "cell_type": "code",
   "execution_count": 67,
   "id": "1295de96",
   "metadata": {},
   "outputs": [],
   "source": [
    "from sklearn.feature_selection import GenericUnivariateSelect"
   ]
  },
  {
   "cell_type": "code",
   "execution_count": 68,
   "id": "80dcc5a8",
   "metadata": {},
   "outputs": [],
   "source": [
    "x = X.copy()\n",
    "yy = y.copy()\n",
    "X_gen = x_g.copy()\n",
    "Y_gen = y_g.copy()"
   ]
  },
  {
   "cell_type": "code",
   "execution_count": 69,
   "id": "ad78aeb2",
   "metadata": {},
   "outputs": [],
   "source": [
    "gUS = GenericUnivariateSelect()\n",
    "x = gUS.fit_transform(x, yy.values.ravel())\n",
    "#gUS.fit(x,yy)\n",
    "#x = gUS.transform(x)"
   ]
  },
  {
   "cell_type": "code",
   "execution_count": 70,
   "id": "08ec4344",
   "metadata": {},
   "outputs": [
    {
     "data": {
      "text/plain": [
       "(178, 1)"
      ]
     },
     "execution_count": 70,
     "metadata": {},
     "output_type": "execute_result"
    }
   ],
   "source": [
    "x.shape"
   ]
  },
  {
   "cell_type": "code",
   "execution_count": 71,
   "id": "c4154d69",
   "metadata": {},
   "outputs": [
    {
     "data": {
      "text/plain": [
       "(181, 16)"
      ]
     },
     "execution_count": 71,
     "metadata": {},
     "output_type": "execute_result"
    }
   ],
   "source": [
    "X_gen.shape"
   ]
  },
  {
   "cell_type": "code",
   "execution_count": 72,
   "id": "bd6c31d5",
   "metadata": {},
   "outputs": [
    {
     "data": {
      "text/plain": [
       "array([False, False, False, False, False, False,  True, False, False,\n",
       "       False, False, False, False])"
      ]
     },
     "execution_count": 72,
     "metadata": {},
     "output_type": "execute_result"
    }
   ],
   "source": [
    "gUS.get_support()"
   ]
  },
  {
   "cell_type": "markdown",
   "id": "28901a9e",
   "metadata": {},
   "source": [
    "При застосуванні Generic Unvariate Select кількість характеристик скорочується до однієї, для такої речі як відрізняти вино за характиристиками виглядає дивно. Причому цей параметр - фламаноїди"
   ]
  },
  {
   "cell_type": "code",
   "execution_count": 73,
   "id": "8cf982e6",
   "metadata": {},
   "outputs": [],
   "source": [
    "gUS1 = GenericUnivariateSelect()\n",
    "X_gen = gUS1.fit_transform(X_gen, Y_gen.ravel())"
   ]
  },
  {
   "cell_type": "code",
   "execution_count": 74,
   "id": "5b9525f3",
   "metadata": {},
   "outputs": [
    {
     "data": {
      "text/plain": [
       "(181, 1)"
      ]
     },
     "execution_count": 74,
     "metadata": {},
     "output_type": "execute_result"
    }
   ],
   "source": [
    "X_gen.shape"
   ]
  },
  {
   "cell_type": "code",
   "execution_count": 75,
   "id": "9a0c1a17",
   "metadata": {},
   "outputs": [
    {
     "data": {
      "text/plain": [
       "array([[-1.65851076],\n",
       "       [ 0.2914561 ],\n",
       "       [ 0.36796532],\n",
       "       [-0.16664689],\n",
       "       [-0.53606983],\n",
       "       [ 2.86558342],\n",
       "       [ 1.95351352],\n",
       "       [ 1.74202447],\n",
       "       [ 2.20509286],\n",
       "       [ 0.74775288],\n",
       "       [ 1.4592632 ],\n",
       "       [ 0.16859317],\n",
       "       [-0.94696562],\n",
       "       [-1.72285598],\n",
       "       [ 1.01743351],\n",
       "       [ 1.83860246],\n",
       "       [ 0.08605833],\n",
       "       [-1.07723946],\n",
       "       [-1.23876315],\n",
       "       [ 0.03739207],\n",
       "       [-0.69366746],\n",
       "       [-2.76332207],\n",
       "       [-5.24853981],\n",
       "       [ 0.39972426],\n",
       "       [-0.42025574],\n",
       "       [-0.10743825],\n",
       "       [ 1.60450618],\n",
       "       [-1.60258779],\n",
       "       [ 2.01304657],\n",
       "       [ 0.03126843],\n",
       "       [-0.95975669],\n",
       "       [ 1.33728729],\n",
       "       [-1.3345921 ],\n",
       "       [ 2.259574  ],\n",
       "       [ 1.88367483],\n",
       "       [-2.22083814],\n",
       "       [ 0.34482983],\n",
       "       [-0.30240669],\n",
       "       [ 0.81628672],\n",
       "       [-2.89891415],\n",
       "       [ 0.15673104],\n",
       "       [ 3.47242242],\n",
       "       [-2.15114363],\n",
       "       [-4.94097534],\n",
       "       [-3.69398346],\n",
       "       [ 0.72067867],\n",
       "       [-3.17850356],\n",
       "       [ 1.32650475],\n",
       "       [ 1.97404425],\n",
       "       [-3.17690148],\n",
       "       [ 0.28979478],\n",
       "       [ 1.7517237 ],\n",
       "       [ 1.35256786],\n",
       "       [ 1.37998876],\n",
       "       [ 0.94584452],\n",
       "       [ 0.13589834],\n",
       "       [-0.16177336],\n",
       "       [ 2.26388534],\n",
       "       [ 1.50543308],\n",
       "       [-0.87302053],\n",
       "       [ 0.57947916],\n",
       "       [ 0.10707523],\n",
       "       [ 1.6854233 ],\n",
       "       [ 0.09476453],\n",
       "       [-2.12242789],\n",
       "       [ 1.74695896],\n",
       "       [ 1.7043394 ],\n",
       "       [ 2.92635243],\n",
       "       [ 0.12987552],\n",
       "       [ 0.51457133],\n",
       "       [ 1.33131838],\n",
       "       [-0.79801717],\n",
       "       [-0.52378351],\n",
       "       [-0.75675108],\n",
       "       [-3.08212139],\n",
       "       [ 0.33872133],\n",
       "       [ 1.57116228],\n",
       "       [ 2.22500528],\n",
       "       [ 2.63109569],\n",
       "       [ 0.36265543],\n",
       "       [-3.55378362],\n",
       "       [-1.4905027 ],\n",
       "       [-2.02231265],\n",
       "       [-1.76472744],\n",
       "       [ 1.53158033],\n",
       "       [ 0.09580044],\n",
       "       [-0.92593965],\n",
       "       [ 0.37061292],\n",
       "       [ 2.89066044],\n",
       "       [ 0.85213808],\n",
       "       [-2.45860855],\n",
       "       [-0.45015467],\n",
       "       [-4.60534802],\n",
       "       [-1.90612186],\n",
       "       [ 0.41321383],\n",
       "       [-1.0768797 ],\n",
       "       [ 1.9652766 ],\n",
       "       [ 0.71053179],\n",
       "       [ 4.29703969],\n",
       "       [ 1.65994153],\n",
       "       [ 1.50116223],\n",
       "       [ 2.69301291],\n",
       "       [ 2.19306909],\n",
       "       [-1.61075527],\n",
       "       [-1.71434615],\n",
       "       [ 2.11346409],\n",
       "       [-0.32072918],\n",
       "       [ 0.35886945],\n",
       "       [-0.62455034],\n",
       "       [ 0.95442657],\n",
       "       [ 1.52948795],\n",
       "       [-1.79072665],\n",
       "       [-0.11476976],\n",
       "       [ 1.55998363],\n",
       "       [ 1.55228228],\n",
       "       [-3.9086124 ],\n",
       "       [-0.04452862],\n",
       "       [-0.10895817],\n",
       "       [-1.78788604],\n",
       "       [ 1.70765633],\n",
       "       [-2.43047928],\n",
       "       [-0.89357356],\n",
       "       [-2.86752924],\n",
       "       [ 1.61562121],\n",
       "       [-1.81604772],\n",
       "       [-1.51653065],\n",
       "       [-1.54591766],\n",
       "       [ 0.1211702 ],\n",
       "       [-1.22165409],\n",
       "       [ 1.7455166 ],\n",
       "       [-3.08707795],\n",
       "       [ 0.87853605],\n",
       "       [-6.12941289],\n",
       "       [ 0.21451331],\n",
       "       [-1.18741962],\n",
       "       [-3.6637262 ],\n",
       "       [ 2.66244754],\n",
       "       [-2.19057509],\n",
       "       [-0.41859075],\n",
       "       [ 1.80140728],\n",
       "       [-2.05988895],\n",
       "       [ 0.00615228],\n",
       "       [-2.56059216],\n",
       "       [-0.23115733],\n",
       "       [-1.17286349],\n",
       "       [ 0.39362757],\n",
       "       [-0.17236337],\n",
       "       [-2.05912318],\n",
       "       [ 3.98497401],\n",
       "       [ 0.62368995],\n",
       "       [-0.02720089],\n",
       "       [ 1.19007631],\n",
       "       [-1.95915039],\n",
       "       [-1.24994997],\n",
       "       [ 1.00743234],\n",
       "       [-4.94269071],\n",
       "       [ 1.50207133],\n",
       "       [-0.7287882 ],\n",
       "       [ 2.9120607 ],\n",
       "       [ 0.57753092],\n",
       "       [-1.89702823],\n",
       "       [ 0.54311549],\n",
       "       [ 0.24229463],\n",
       "       [-0.01642485],\n",
       "       [-0.46189675],\n",
       "       [-0.3645773 ],\n",
       "       [ 1.73441222],\n",
       "       [ 0.05910727],\n",
       "       [-2.91461399],\n",
       "       [ 3.39729723],\n",
       "       [ 1.38847677],\n",
       "       [ 1.31676647],\n",
       "       [ 2.5901969 ],\n",
       "       [-0.19686771],\n",
       "       [ 1.00804468],\n",
       "       [-0.53011478],\n",
       "       [-0.79884363],\n",
       "       [ 0.66814045],\n",
       "       [-1.10546913],\n",
       "       [ 0.12963228],\n",
       "       [-0.70109726]])"
      ]
     },
     "execution_count": 75,
     "metadata": {},
     "output_type": "execute_result"
    }
   ],
   "source": [
    "X_gen"
   ]
  },
  {
   "cell_type": "code",
   "execution_count": 76,
   "id": "63b940ac",
   "metadata": {},
   "outputs": [
    {
     "data": {
      "text/plain": [
       "array([1.38011386e-01, 8.30637723e-01, 3.14158821e-01, 3.54770824e+01,\n",
       "       2.06216634e+01, 1.77946625e+01, 1.03579772e+00, 3.69469151e+01,\n",
       "       6.55368853e-03, 3.24195875e-03, 1.86098745e+01, 5.25284191e+00,\n",
       "       4.30266673e+01, 3.60447098e+00, 1.86482709e+01, 1.69130139e-01])"
      ]
     },
     "execution_count": 76,
     "metadata": {},
     "output_type": "execute_result"
    }
   ],
   "source": [
    "gUS1.scores_"
   ]
  },
  {
   "cell_type": "code",
   "execution_count": 77,
   "id": "ea8b6aee",
   "metadata": {},
   "outputs": [
    {
     "data": {
      "text/plain": [
       "array([False, False, False, False, False, False, False, False, False,\n",
       "       False, False, False,  True, False, False, False])"
      ]
     },
     "execution_count": 77,
     "metadata": {},
     "output_type": "execute_result"
    }
   ],
   "source": [
    "gUS1.get_support()"
   ]
  },
  {
   "cell_type": "markdown",
   "id": "60f57bd0",
   "metadata": {},
   "source": [
    "З самостійно згенерованим датасетом так само обрано лише одну ознаку, хоча при генерації задавалося три важливі. Тому, на мою думку цей алгоритм не підійшов у обох датасетах"
   ]
  },
  {
   "cell_type": "markdown",
   "id": "f45b6eb3",
   "metadata": {},
   "source": [
    "Recursive feature elimination"
   ]
  },
  {
   "cell_type": "code",
   "execution_count": 78,
   "id": "fbd74ecf",
   "metadata": {},
   "outputs": [],
   "source": [
    "from sklearn.feature_selection import RFE\n",
    "from sklearn.svm import SVR"
   ]
  },
  {
   "cell_type": "code",
   "execution_count": 79,
   "id": "5e93f5ee",
   "metadata": {},
   "outputs": [],
   "source": [
    "x = X.copy()\n",
    "yy = y.copy()\n",
    "X_gen = x_g.copy()\n",
    "Y_gen = y_g.copy()"
   ]
  },
  {
   "cell_type": "markdown",
   "id": "e29ba22e",
   "metadata": {},
   "source": [
    "У клітинці вище - код з присвоєнням значень для дослідження. Я потім зрозумів що можна було зробити функцію, але не хотів переробляти роботу бо це не дуже релевантно"
   ]
  },
  {
   "cell_type": "code",
   "execution_count": 80,
   "id": "00ca31d7",
   "metadata": {},
   "outputs": [
    {
     "data": {
      "text/plain": [
       "array([ True, False, False, False, False,  True,  True,  True, False,\n",
       "       False,  True,  True, False])"
      ]
     },
     "execution_count": 80,
     "metadata": {},
     "output_type": "execute_result"
    }
   ],
   "source": [
    "estimator = SVR(kernel=\"linear\")\n",
    "selector = RFE(estimator, step=1)\n",
    "selector = selector.fit(x, yy.values.ravel())\n",
    "selector.support_"
   ]
  },
  {
   "cell_type": "code",
   "execution_count": 81,
   "id": "30a08b8d",
   "metadata": {},
   "outputs": [
    {
     "data": {
      "text/plain": [
       "6"
      ]
     },
     "execution_count": 81,
     "metadata": {},
     "output_type": "execute_result"
    }
   ],
   "source": [
    "sum(selector.support_)"
   ]
  },
  {
   "cell_type": "markdown",
   "id": "d264e1cd",
   "metadata": {},
   "source": [
    "При застосуванні recursive feature elimination було визначено 6 важливих ознак у датасету. Для естіматора тут використовується Support Vector Regression з лінійним ядром. Визначені параметри: Alcohol, Total phenols, Flavanoids, Nonflavanoid phenols, HueOD280/OD315 of diluted wines, Proline, "
   ]
  },
  {
   "cell_type": "code",
   "execution_count": 82,
   "id": "444616df",
   "metadata": {},
   "outputs": [
    {
     "data": {
      "text/plain": [
       "array([False,  True,  True,  True,  True, False,  True, False, False,\n",
       "       False, False,  True,  True,  True, False, False])"
      ]
     },
     "execution_count": 82,
     "metadata": {},
     "output_type": "execute_result"
    }
   ],
   "source": [
    "estimator = SVR(kernel=\"linear\")\n",
    "selector = RFE(estimator, step=1)\n",
    "selector = selector.fit(X_gen, Y_gen)\n",
    "selector.support_"
   ]
  },
  {
   "cell_type": "code",
   "execution_count": 83,
   "id": "6006b5c1",
   "metadata": {},
   "outputs": [
    {
     "data": {
      "text/plain": [
       "8"
      ]
     },
     "execution_count": 83,
     "metadata": {},
     "output_type": "execute_result"
    }
   ],
   "source": [
    "sum(selector.support_)"
   ]
  },
  {
   "cell_type": "markdown",
   "id": "51fb43a0",
   "metadata": {},
   "source": [
    "8 важливих ознак було визначено у згенерованому датасеті, на противагу до 3 згенерованих важливих. Це все ж краще за попередній метод, але не дуже."
   ]
  },
  {
   "cell_type": "markdown",
   "id": "1cfffa30",
   "metadata": {},
   "source": [
    "Recursive feature elimination with cross-validation to select features."
   ]
  },
  {
   "cell_type": "code",
   "execution_count": 84,
   "id": "e6a0cf52",
   "metadata": {},
   "outputs": [],
   "source": [
    "from sklearn.feature_selection import RFECV"
   ]
  },
  {
   "cell_type": "code",
   "execution_count": 85,
   "id": "ce3d048a",
   "metadata": {},
   "outputs": [
    {
     "data": {
      "text/plain": [
       "array([ True,  True,  True,  True,  True,  True,  True,  True,  True,\n",
       "        True,  True,  True,  True])"
      ]
     },
     "execution_count": 85,
     "metadata": {},
     "output_type": "execute_result"
    }
   ],
   "source": [
    "estimator = SVR(kernel=\"linear\")\n",
    "selector = RFECV(estimator, step=1, cv=5)\n",
    "selector = selector.fit(x, yy.values.ravel())\n",
    "selector.support_"
   ]
  },
  {
   "cell_type": "code",
   "execution_count": 86,
   "id": "0cd131e6",
   "metadata": {},
   "outputs": [
    {
     "data": {
      "text/plain": [
       "array([1, 1, 1, 1, 1, 1, 1, 1, 1, 1, 1, 1, 1])"
      ]
     },
     "execution_count": 86,
     "metadata": {},
     "output_type": "execute_result"
    }
   ],
   "source": [
    "selector.ranking_"
   ]
  },
  {
   "cell_type": "markdown",
   "id": "882a8c7f",
   "metadata": {},
   "source": [
    "Оскільки цей алгоритм залишив всі стовпчики, то в певній мірі він може бути найточнішим, оскільки початковий датасет (якщо вірити його сторінці) вже був скорочений плюс, за логікою можна побачити, що всі характеристики все ж є потрібними"
   ]
  },
  {
   "cell_type": "code",
   "execution_count": 87,
   "id": "d758a3b8",
   "metadata": {},
   "outputs": [
    {
     "data": {
      "text/plain": [
       "array([ True,  True,  True,  True,  True, False,  True,  True,  True,\n",
       "       False,  True,  True,  True,  True,  True,  True])"
      ]
     },
     "execution_count": 87,
     "metadata": {},
     "output_type": "execute_result"
    }
   ],
   "source": [
    "estimator = SVR(kernel=\"linear\")\n",
    "selector = RFECV(estimator, step=1, cv=5)\n",
    "selector = selector.fit(X_gen, Y_gen)\n",
    "selector.support_"
   ]
  },
  {
   "cell_type": "code",
   "execution_count": 88,
   "id": "0a31f591",
   "metadata": {},
   "outputs": [
    {
     "data": {
      "text/plain": [
       "array([1, 1, 1, 1, 1, 2, 1, 1, 1, 3, 1, 1, 1, 1, 1, 1])"
      ]
     },
     "execution_count": 88,
     "metadata": {},
     "output_type": "execute_result"
    }
   ],
   "source": [
    "selector.ranking_"
   ]
  },
  {
   "cell_type": "code",
   "execution_count": 89,
   "id": "acfa94ea",
   "metadata": {},
   "outputs": [
    {
     "data": {
      "text/plain": [
       "14"
      ]
     },
     "execution_count": 89,
     "metadata": {},
     "output_type": "execute_result"
    }
   ],
   "source": [
    "sum(selector.support_)"
   ]
  },
  {
   "cell_type": "markdown",
   "id": "d9a78d9f",
   "metadata": {},
   "source": [
    "Для згенерованого датасету було обрано 14 ознак. Ця робота дещо перестворювалася, тому надам фактом, що для іншого згенерованого датасету цим алгоритмом було отримано 2 та 16 важливих при 3 заданих при генерації. Також я не рекомендую застосування у цьому варіанті алгоритму підтримуючих векторів через суттєво повільну роботу. В подальших алгоритмах я заміню на KNN"
   ]
  },
  {
   "cell_type": "markdown",
   "id": "57e6d36f",
   "metadata": {},
   "source": [
    "Sequential Feature Selection"
   ]
  },
  {
   "cell_type": "code",
   "execution_count": 90,
   "id": "9e5c0491",
   "metadata": {},
   "outputs": [],
   "source": [
    "x = X.copy()\n",
    "yy = y.copy()\n",
    "X_gen = x_g.copy()\n",
    "Y_gen = y_g.copy()"
   ]
  },
  {
   "cell_type": "code",
   "execution_count": 91,
   "id": "1e55db2b",
   "metadata": {},
   "outputs": [],
   "source": [
    "from sklearn.feature_selection import SequentialFeatureSelector"
   ]
  },
  {
   "cell_type": "code",
   "execution_count": 92,
   "id": "14580351",
   "metadata": {},
   "outputs": [],
   "source": [
    "from sklearn.neighbors import KNeighborsClassifier\n",
    "estimator = KNeighborsClassifier(n_neighbors=3)"
   ]
  },
  {
   "cell_type": "code",
   "execution_count": 93,
   "id": "f08bea0a",
   "metadata": {},
   "outputs": [
    {
     "data": {
      "text/plain": [
       "array([ True, False,  True, False, False,  True,  True, False,  True,\n",
       "        True, False, False, False])"
      ]
     },
     "execution_count": 93,
     "metadata": {},
     "output_type": "execute_result"
    }
   ],
   "source": [
    "sfs = SequentialFeatureSelector(estimator, n_features_to_select='auto')\n",
    "sfs.fit(x, yy.values.ravel())\n",
    "sfs.get_support()"
   ]
  },
  {
   "cell_type": "code",
   "execution_count": 94,
   "id": "5bea4035",
   "metadata": {},
   "outputs": [
    {
     "data": {
      "text/plain": [
       "(178, 6)"
      ]
     },
     "execution_count": 94,
     "metadata": {},
     "output_type": "execute_result"
    }
   ],
   "source": [
    "sfs.transform(X).shape"
   ]
  },
  {
   "cell_type": "markdown",
   "id": "21e66be7",
   "metadata": {},
   "source": [
    "Використовуючи KNN з трьома сусідами у якості оцінщика ми отримали результат з шістьмома характеристиками для нашого датасету з вином. Це  Alcohol, Ash, Total, phenols, Flavanoids, Proanthocyanins, Color, intensity "
   ]
  },
  {
   "cell_type": "code",
   "execution_count": 95,
   "id": "acb42b44",
   "metadata": {},
   "outputs": [
    {
     "name": "stderr",
     "output_type": "stream",
     "text": [
      "C:\\Users\\Borya\\AppData\\Local\\Programs\\Python\\Python311\\Lib\\site-packages\\sklearn\\feature_selection\\_sequential.py:188: FutureWarning: Leaving `n_features_to_select` to None is deprecated in 1.0 and will become 'auto' in 1.3. To keep the same behaviour as with None (i.e. select half of the features) and avoid this warning, you should manually set `n_features_to_select='auto'` and set tol=None when creating an instance.\n",
      "  warnings.warn(\n"
     ]
    },
    {
     "data": {
      "text/plain": [
       "array([False,  True, False, False,  True,  True, False,  True, False,\n",
       "       False,  True,  True,  True, False, False,  True])"
      ]
     },
     "execution_count": 95,
     "metadata": {},
     "output_type": "execute_result"
    }
   ],
   "source": [
    "sfs = SequentialFeatureSelector(estimator)\n",
    "sfs.fit(X_gen, Y_gen)\n",
    "sfs.get_support()"
   ]
  },
  {
   "cell_type": "code",
   "execution_count": 96,
   "id": "60009272",
   "metadata": {},
   "outputs": [
    {
     "data": {
      "text/plain": [
       "(181, 8)"
      ]
     },
     "execution_count": 96,
     "metadata": {},
     "output_type": "execute_result"
    }
   ],
   "source": [
    "sfs.transform(X_gen).shape"
   ]
  },
  {
   "cell_type": "markdown",
   "id": "762a1711",
   "metadata": {},
   "source": [
    "Для згенерованого датасету алгоритм виділив 8 параметрів"
   ]
  },
  {
   "cell_type": "markdown",
   "id": "6b003a9c",
   "metadata": {},
   "source": [
    "Sequential Feature Selection 'backward'"
   ]
  },
  {
   "cell_type": "code",
   "execution_count": 97,
   "id": "dabb0ae0",
   "metadata": {},
   "outputs": [],
   "source": [
    "x = X.copy()\n",
    "yy = y.copy()\n",
    "X_gen = x_g.copy()\n",
    "Y_gen = y_g.copy()"
   ]
  },
  {
   "cell_type": "code",
   "execution_count": 98,
   "id": "5b4ca1e8",
   "metadata": {},
   "outputs": [
    {
     "name": "stderr",
     "output_type": "stream",
     "text": [
      "C:\\Users\\Borya\\AppData\\Local\\Programs\\Python\\Python311\\Lib\\site-packages\\sklearn\\feature_selection\\_sequential.py:188: FutureWarning: Leaving `n_features_to_select` to None is deprecated in 1.0 and will become 'auto' in 1.3. To keep the same behaviour as with None (i.e. select half of the features) and avoid this warning, you should manually set `n_features_to_select='auto'` and set tol=None when creating an instance.\n",
      "  warnings.warn(\n"
     ]
    },
    {
     "data": {
      "text/plain": [
       "array([ True, False, False,  True, False, False,  True, False,  True,\n",
       "        True, False,  True, False])"
      ]
     },
     "execution_count": 98,
     "metadata": {},
     "output_type": "execute_result"
    }
   ],
   "source": [
    "estimator = KNeighborsClassifier(n_neighbors=3)\n",
    "sfs = SequentialFeatureSelector(estimator,direction='backward')\n",
    "sfs.fit(x, yy.values.ravel())\n",
    "sfs.get_support()"
   ]
  },
  {
   "cell_type": "code",
   "execution_count": 99,
   "id": "8f47a124",
   "metadata": {},
   "outputs": [
    {
     "data": {
      "text/plain": [
       "(178, 6)"
      ]
     },
     "execution_count": 99,
     "metadata": {},
     "output_type": "execute_result"
    }
   ],
   "source": [
    "sfs.transform(X).shape"
   ]
  },
  {
   "cell_type": "markdown",
   "id": "4d8f5eb8",
   "metadata": {},
   "source": [
    "6 параметрів, не такі як у попередньому, а такі: Alcohol, Alcalinity of ash, Flavanoids, Proanthocyanins, Color intensity, Proline,"
   ]
  },
  {
   "cell_type": "code",
   "execution_count": 100,
   "id": "28b044be",
   "metadata": {},
   "outputs": [
    {
     "name": "stderr",
     "output_type": "stream",
     "text": [
      "C:\\Users\\Borya\\AppData\\Local\\Programs\\Python\\Python311\\Lib\\site-packages\\sklearn\\feature_selection\\_sequential.py:188: FutureWarning: Leaving `n_features_to_select` to None is deprecated in 1.0 and will become 'auto' in 1.3. To keep the same behaviour as with None (i.e. select half of the features) and avoid this warning, you should manually set `n_features_to_select='auto'` and set tol=None when creating an instance.\n",
      "  warnings.warn(\n"
     ]
    },
    {
     "data": {
      "text/plain": [
       "array([False,  True, False, False,  True,  True, False,  True, False,\n",
       "       False,  True,  True,  True, False, False,  True])"
      ]
     },
     "execution_count": 100,
     "metadata": {},
     "output_type": "execute_result"
    }
   ],
   "source": [
    "sfs = SequentialFeatureSelector(estimator)\n",
    "sfs.fit(X_gen, Y_gen)\n",
    "sfs.get_support()"
   ]
  },
  {
   "cell_type": "code",
   "execution_count": 101,
   "id": "b1bda526",
   "metadata": {},
   "outputs": [
    {
     "data": {
      "text/plain": [
       "(181, 8)"
      ]
     },
     "execution_count": 101,
     "metadata": {},
     "output_type": "execute_result"
    }
   ],
   "source": [
    "sfs.transform(X_gen).shape"
   ]
  },
  {
   "cell_type": "markdown",
   "id": "f388a179",
   "metadata": {},
   "source": [
    "Результат ідентичний відповіді з параметром forward"
   ]
  },
  {
   "cell_type": "markdown",
   "id": "a44bb504",
   "metadata": {},
   "source": [
    "SelectFromModel with support of L1-regularisation"
   ]
  },
  {
   "cell_type": "code",
   "execution_count": 102,
   "id": "0fc64e18",
   "metadata": {},
   "outputs": [],
   "source": [
    "from sklearn.feature_selection import SelectFromModel\n",
    "from sklearn.linear_model import LogisticRegression\n",
    "x = X.copy()\n",
    "yy = y.copy()\n",
    "X_gen = x_g.copy()\n",
    "Y_gen = y_g.copy()"
   ]
  },
  {
   "cell_type": "code",
   "execution_count": 103,
   "id": "f8f1535b",
   "metadata": {},
   "outputs": [
    {
     "data": {
      "text/plain": [
       "array([[ 6.49944714e-01,  5.08016209e-01,  7.08591565e-01,\n",
       "        -2.23728757e-01, -1.96616389e-02,  2.39876447e-01,\n",
       "         8.26858387e-01,  9.41795564e-02,  8.70120312e-02,\n",
       "         2.25974666e-01, -6.27955247e-03,  6.51419999e-01,\n",
       "         9.37498658e-03],\n",
       "       [-7.56853507e-01, -7.98605601e-01, -8.50009139e-01,\n",
       "         1.18972978e-01, -1.55414404e-02,  1.75332174e-01,\n",
       "         4.08024226e-01,  4.63440141e-02,  3.95937351e-01,\n",
       "        -1.05773342e+00,  3.45193806e-01,  3.38040520e-02,\n",
       "        -8.95596332e-03],\n",
       "       [ 1.06908793e-01,  2.90589391e-01,  1.41417575e-01,\n",
       "         1.04755779e-01,  3.52030793e-02, -4.15208621e-01,\n",
       "        -1.23488261e+00, -1.40523570e-01, -4.82949382e-01,\n",
       "         8.31758752e-01, -3.38914253e-01, -6.85224051e-01,\n",
       "        -4.19023252e-04]])"
      ]
     },
     "execution_count": 103,
     "metadata": {},
     "output_type": "execute_result"
    }
   ],
   "source": [
    "selector = SelectFromModel(estimator=LogisticRegression(max_iter=148800)).fit(x, yy.values.ravel())\n",
    "selector.estimator_.coef_"
   ]
  },
  {
   "cell_type": "code",
   "execution_count": 104,
   "id": "bf349fc3",
   "metadata": {},
   "outputs": [
    {
     "data": {
      "text/plain": [
       "1.0823831585413597"
      ]
     },
     "execution_count": 104,
     "metadata": {},
     "output_type": "execute_result"
    }
   ],
   "source": [
    "selector.threshold_"
   ]
  },
  {
   "cell_type": "code",
   "execution_count": 105,
   "id": "6ddf7391",
   "metadata": {},
   "outputs": [
    {
     "data": {
      "text/plain": [
       "array([ True,  True,  True, False, False, False,  True, False, False,\n",
       "        True, False,  True, False])"
      ]
     },
     "execution_count": 105,
     "metadata": {},
     "output_type": "execute_result"
    }
   ],
   "source": [
    "selector.get_support()"
   ]
  },
  {
   "cell_type": "code",
   "execution_count": 106,
   "id": "e6b02e41",
   "metadata": {},
   "outputs": [
    {
     "data": {
      "text/plain": [
       "array([[14.23,  1.71,  2.43,  3.06,  5.64,  3.92],\n",
       "       [13.2 ,  1.78,  2.14,  2.76,  4.38,  3.4 ],\n",
       "       [13.16,  2.36,  2.67,  3.24,  5.68,  3.17],\n",
       "       ...,\n",
       "       [13.27,  4.28,  2.26,  0.69, 10.2 ,  1.56],\n",
       "       [13.17,  2.59,  2.37,  0.68,  9.3 ,  1.62],\n",
       "       [14.13,  4.1 ,  2.74,  0.76,  9.2 ,  1.6 ]])"
      ]
     },
     "execution_count": 106,
     "metadata": {},
     "output_type": "execute_result"
    }
   ],
   "source": [
    "selector.transform(x)"
   ]
  },
  {
   "cell_type": "markdown",
   "id": "5404c19e",
   "metadata": {},
   "source": [
    "Знову 6 параметрів, але на цей раз це: Alcohol, Malic acid, Ash, Flavanoids, Color intensity, Proline,"
   ]
  },
  {
   "cell_type": "code",
   "execution_count": 107,
   "id": "eacbe16b",
   "metadata": {},
   "outputs": [
    {
     "data": {
      "text/plain": [
       "array([[-0.06796477,  0.26237879, -0.28845048,  0.22890985,  0.38536115,\n",
       "        -0.00520903,  0.23610669, -0.14340407,  0.14040197,  0.14500928,\n",
       "         0.09907993, -0.36642742, -0.23413734, -0.34677314, -0.14641197,\n",
       "        -0.19038487]])"
      ]
     },
     "execution_count": 107,
     "metadata": {},
     "output_type": "execute_result"
    }
   ],
   "source": [
    "selector = SelectFromModel(estimator=LogisticRegression()).fit(X_gen, Y_gen)\n",
    "selector.estimator_.coef_"
   ]
  },
  {
   "cell_type": "code",
   "execution_count": 108,
   "id": "5930f795",
   "metadata": {},
   "outputs": [
    {
     "data": {
      "text/plain": [
       "0.20540067201122586"
      ]
     },
     "execution_count": 108,
     "metadata": {},
     "output_type": "execute_result"
    }
   ],
   "source": [
    "selector.threshold_"
   ]
  },
  {
   "cell_type": "code",
   "execution_count": 109,
   "id": "776e4892",
   "metadata": {},
   "outputs": [
    {
     "data": {
      "text/plain": [
       "array([False,  True,  True,  True,  True, False,  True, False, False,\n",
       "       False, False,  True,  True,  True, False, False])"
      ]
     },
     "execution_count": 109,
     "metadata": {},
     "output_type": "execute_result"
    }
   ],
   "source": [
    "selector.get_support()"
   ]
  },
  {
   "cell_type": "code",
   "execution_count": 110,
   "id": "efc1f906",
   "metadata": {},
   "outputs": [
    {
     "data": {
      "text/plain": [
       "array([[ 0.11431366,  0.33376965, -0.15794801, ...,  0.09010132,\n",
       "        -1.65851076,  1.13047408],\n",
       "       [ 0.85005082, -0.74935695,  1.0235584 , ...,  2.25625091,\n",
       "         0.2914561 , -0.4050164 ],\n",
       "       [-0.39977483,  1.05157174,  1.10207732, ...,  0.36697572,\n",
       "         0.36796532,  0.60679048],\n",
       "       ...,\n",
       "       [ 0.54555554,  0.15041709,  1.07437408, ..., -0.94577654,\n",
       "        -1.10546913,  0.08984181],\n",
       "       [ 1.54784747, -0.54755183,  0.20904906, ..., -0.94558892,\n",
       "         0.12963228,  1.57662577],\n",
       "       [ 0.78134044, -0.92892264,  0.41153135, ...,  1.2877948 ,\n",
       "        -0.70109726, -0.44145915]])"
      ]
     },
     "execution_count": 110,
     "metadata": {},
     "output_type": "execute_result"
    }
   ],
   "source": [
    "selector.transform(X_gen)"
   ]
  },
  {
   "cell_type": "markdown",
   "id": "056424a9",
   "metadata": {},
   "source": [
    "Теж 8 параметрів, але відрізняється від попереднього "
   ]
  },
  {
   "cell_type": "markdown",
   "id": "df779d72",
   "metadata": {},
   "source": [
    "SelectFromModel with random forest"
   ]
  },
  {
   "cell_type": "code",
   "execution_count": 111,
   "id": "5652b219",
   "metadata": {},
   "outputs": [],
   "source": [
    "from sklearn.ensemble import RandomForestClassifier\n",
    "x = X.copy()\n",
    "yy = y.copy()\n",
    "X_gen = x_g.copy()\n",
    "Y_gen = y_g.copy()\n",
    "estimator = RandomForestClassifier()"
   ]
  },
  {
   "cell_type": "code",
   "execution_count": 112,
   "id": "8cb8d98c",
   "metadata": {},
   "outputs": [
    {
     "data": {
      "text/plain": [
       "0.07692307692307693"
      ]
     },
     "execution_count": 112,
     "metadata": {},
     "output_type": "execute_result"
    }
   ],
   "source": [
    "selector = SelectFromModel(estimator=estimator).fit(x, yy.values.ravel())\n",
    "selector.threshold_"
   ]
  },
  {
   "cell_type": "code",
   "execution_count": 113,
   "id": "99a41ba5",
   "metadata": {},
   "outputs": [
    {
     "data": {
      "text/plain": [
       "array([ True, False, False, False, False, False,  True, False, False,\n",
       "        True,  True,  True,  True])"
      ]
     },
     "execution_count": 113,
     "metadata": {},
     "output_type": "execute_result"
    }
   ],
   "source": [
    "selector.get_support()"
   ]
  },
  {
   "cell_type": "code",
   "execution_count": 114,
   "id": "36e53ea3",
   "metadata": {},
   "outputs": [
    {
     "data": {
      "text/plain": [
       "(178, 6)"
      ]
     },
     "execution_count": 114,
     "metadata": {},
     "output_type": "execute_result"
    }
   ],
   "source": [
    "selector.transform(x).shape"
   ]
  },
  {
   "cell_type": "markdown",
   "id": "b4735a3b",
   "metadata": {},
   "source": [
    "6 характеристик: Alcohol, Flavanoids, Color intensity, HueOD280/OD315 of diluted wines, Proline"
   ]
  },
  {
   "cell_type": "code",
   "execution_count": 115,
   "id": "0cb1d764",
   "metadata": {},
   "outputs": [
    {
     "data": {
      "text/plain": [
       "0.0625"
      ]
     },
     "execution_count": 115,
     "metadata": {},
     "output_type": "execute_result"
    }
   ],
   "source": [
    "selector = SelectFromModel(estimator=estimator).fit(X_gen, Y_gen)\n",
    "selector.threshold_"
   ]
  },
  {
   "cell_type": "code",
   "execution_count": 116,
   "id": "50f9f91d",
   "metadata": {},
   "outputs": [
    {
     "data": {
      "text/plain": [
       "array([False, False, False,  True,  True,  True, False,  True, False,\n",
       "       False,  True, False,  True, False,  True, False])"
      ]
     },
     "execution_count": 116,
     "metadata": {},
     "output_type": "execute_result"
    }
   ],
   "source": [
    "selector.get_support()"
   ]
  },
  {
   "cell_type": "code",
   "execution_count": 117,
   "id": "0db953e9",
   "metadata": {},
   "outputs": [
    {
     "data": {
      "text/plain": [
       "(181, 7)"
      ]
     },
     "execution_count": 117,
     "metadata": {},
     "output_type": "execute_result"
    }
   ],
   "source": [
    "selector.transform(X_gen).shape"
   ]
  },
  {
   "cell_type": "markdown",
   "id": "8078edae",
   "metadata": {},
   "source": [
    "ColumnSelector"
   ]
  },
  {
   "cell_type": "code",
   "execution_count": 118,
   "id": "112a3972",
   "metadata": {},
   "outputs": [
    {
     "data": {
      "text/plain": [
       "(181, 2)"
      ]
     },
     "execution_count": 118,
     "metadata": {},
     "output_type": "execute_result"
    }
   ],
   "source": [
    "from mlxtend.feature_selection import ColumnSelector\n",
    "x = X.copy()\n",
    "yy = y.copy()\n",
    "X_gen = x_g.copy()\n",
    "Y_gen = y_g.copy()\n",
    "\n",
    "col_selector = ColumnSelector((0,7))\n",
    "col_selector.transform(X_gen).shape"
   ]
  },
  {
   "cell_type": "code",
   "execution_count": 119,
   "id": "1caa5060",
   "metadata": {},
   "outputs": [
    {
     "data": {
      "text/plain": [
       "(178, 2)"
      ]
     },
     "execution_count": 119,
     "metadata": {},
     "output_type": "execute_result"
    }
   ],
   "source": [
    "col_selector = ColumnSelector((0,7))\n",
    "col_selector.transform(x).shape"
   ]
  },
  {
   "cell_type": "markdown",
   "id": "771af678",
   "metadata": {},
   "source": [
    "Можливо я невірно зрозумів алгоритм чи матеріали, але за допомогою цього можна вибирати саме самому. Не бачу більше особливостей для опису"
   ]
  },
  {
   "cell_type": "markdown",
   "id": "f0e77a6c",
   "metadata": {},
   "source": [
    "SequentialFeatureSelector"
   ]
  },
  {
   "cell_type": "code",
   "execution_count": 120,
   "id": "2bcfa57c",
   "metadata": {},
   "outputs": [],
   "source": [
    "from mlxtend.feature_selection import SequentialFeatureSelector as SFS\n",
    "x = X.copy()\n",
    "yy = y.copy()\n",
    "X_gen = x_g.copy()\n",
    "Y_gen = y_g.copy()"
   ]
  },
  {
   "cell_type": "code",
   "execution_count": 121,
   "id": "6125f0ae",
   "metadata": {},
   "outputs": [],
   "source": [
    "knn = KNeighborsClassifier(n_neighbors=4)\n",
    "sfs1 = SFS(knn,k_features=(1,5))\n",
    "\n",
    "sfs1 = sfs1.fit(x, yy.values.ravel())"
   ]
  },
  {
   "cell_type": "code",
   "execution_count": 122,
   "id": "e0d13e07",
   "metadata": {},
   "outputs": [
    {
     "data": {
      "text/plain": [
       "(178, 4)"
      ]
     },
     "execution_count": 122,
     "metadata": {},
     "output_type": "execute_result"
    }
   ],
   "source": [
    "sfs1.transform(x).shape"
   ]
  },
  {
   "cell_type": "markdown",
   "id": "30b41a32",
   "metadata": {},
   "source": [
    "У цьому випадку отримано 4 характеристики, що менше ніж зазвичай у решти."
   ]
  },
  {
   "cell_type": "code",
   "execution_count": 123,
   "id": "f7a75b32",
   "metadata": {},
   "outputs": [
    {
     "data": {
      "text/plain": [
       "(181, 4)"
      ]
     },
     "execution_count": 123,
     "metadata": {},
     "output_type": "execute_result"
    }
   ],
   "source": [
    "knn = KNeighborsClassifier(n_neighbors=4)\n",
    "sfs1 = SFS(knn,k_features=(1,5))\n",
    "\n",
    "sfs1 = sfs1.fit(X_gen, Y_gen)\n",
    "sfs1.transform(X_gen).shape"
   ]
  },
  {
   "cell_type": "markdown",
   "id": "8aeb7f72",
   "metadata": {},
   "source": [
    "Найближче до заданих параметрів при генерації, але в середньому менше ніж давали інші алгоритми для згенерованого датасета"
   ]
  },
  {
   "cell_type": "markdown",
   "id": "92361a85",
   "metadata": {},
   "source": [
    "Висновки\n",
    "\n",
    "Виконавши роботу я розглянув алгоритми для зменшення кількості ознак у датасетів, а саме визначення найважливіших з них. Було використано методи Univariate feature selection, - Recursive feature elimination (RFE) та його модифікацію з крос-валідацією (RFECV), - Sequential Feature Selection, - SelectFromModel та ColumnSelector, які реалізовані у бібліотеках mlxtend та sklearn.\n",
    "Більшість алгоритмів дали, що для взятого мною датасету про склад вина найважливішими є 6 чинників. І хоча точний список варіюється, частина його залишається для більшості алгоритмів однаковою: Alcohol, Flavanoids, Color intensity. Можна припустити що це най най важливіші ознаки.\n",
    "Як щодо згенерованого датасету, то попри задані 3 важливі параметри жоден алгоритм саме стільки не визначив, а визначав зазвичай біля 8 характеристик для опису."
   ]
  },
  {
   "cell_type": "markdown",
   "id": "ce30f544",
   "metadata": {},
   "source": [
    "Якщо говорити про алгоритми, то ColumnSelector мені здався ручним інструментом, а найкращими за роботою стали Sequential Feature Selection, - SelectFromModel, десь так само точно працювали  Recursive feature elimination (RFE) та його модифікацію з крос-валідацією (RFECV). Univariate feature selection Вийшов найслабшим"
   ]
  },
  {
   "cell_type": "code",
   "execution_count": null,
   "id": "c0678e19",
   "metadata": {},
   "outputs": [],
   "source": []
  }
 ],
 "metadata": {
  "kernelspec": {
   "display_name": "Python 3 (ipykernel)",
   "language": "python",
   "name": "python3"
  },
  "language_info": {
   "codemirror_mode": {
    "name": "ipython",
    "version": 3
   },
   "file_extension": ".py",
   "mimetype": "text/x-python",
   "name": "python",
   "nbconvert_exporter": "python",
   "pygments_lexer": "ipython3",
   "version": "3.11.0"
  }
 },
 "nbformat": 4,
 "nbformat_minor": 5
}

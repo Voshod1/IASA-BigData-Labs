{
 "cells": [
  {
   "cell_type": "markdown",
   "id": "d92b6765",
   "metadata": {},
   "source": [
    "Практикум номер 1 з дисципліни Інтелектуальний аналіз великих сховищ даних, виконав студент Ка-32МП Гулкевич борис"
   ]
  },
  {
   "cell_type": "code",
   "execution_count": 1,
   "id": "285c053f",
   "metadata": {},
   "outputs": [],
   "source": [
    "import pandas as pd\n",
    "from sklearn.preprocessing import LabelEncoder\n",
    "import numpy as np"
   ]
  },
  {
   "cell_type": "markdown",
   "id": "ffbcb160",
   "metadata": {},
   "source": [
    "Датасет - https://www.kaggle.com/datasets/laotse/credit-risk-dataset"
   ]
  },
  {
   "cell_type": "code",
   "execution_count": 3,
   "id": "c8f78f05",
   "metadata": {},
   "outputs": [
    {
     "data": {
      "text/html": [
       "<div>\n",
       "<style scoped>\n",
       "    .dataframe tbody tr th:only-of-type {\n",
       "        vertical-align: middle;\n",
       "    }\n",
       "\n",
       "    .dataframe tbody tr th {\n",
       "        vertical-align: top;\n",
       "    }\n",
       "\n",
       "    .dataframe thead th {\n",
       "        text-align: right;\n",
       "    }\n",
       "</style>\n",
       "<table border=\"1\" class=\"dataframe\">\n",
       "  <thead>\n",
       "    <tr style=\"text-align: right;\">\n",
       "      <th></th>\n",
       "      <th>person_age</th>\n",
       "      <th>person_income</th>\n",
       "      <th>person_home_ownership</th>\n",
       "      <th>person_emp_length</th>\n",
       "      <th>loan_intent</th>\n",
       "      <th>loan_grade</th>\n",
       "      <th>loan_amnt</th>\n",
       "      <th>loan_int_rate</th>\n",
       "      <th>loan_status</th>\n",
       "      <th>loan_percent_income</th>\n",
       "      <th>cb_person_default_on_file</th>\n",
       "      <th>cb_person_cred_hist_length</th>\n",
       "    </tr>\n",
       "  </thead>\n",
       "  <tbody>\n",
       "    <tr>\n",
       "      <th>0</th>\n",
       "      <td>22</td>\n",
       "      <td>59000</td>\n",
       "      <td>RENT</td>\n",
       "      <td>123.0</td>\n",
       "      <td>PERSONAL</td>\n",
       "      <td>D</td>\n",
       "      <td>35000</td>\n",
       "      <td>16.02</td>\n",
       "      <td>1</td>\n",
       "      <td>0.59</td>\n",
       "      <td>Y</td>\n",
       "      <td>3</td>\n",
       "    </tr>\n",
       "    <tr>\n",
       "      <th>1</th>\n",
       "      <td>21</td>\n",
       "      <td>9600</td>\n",
       "      <td>OWN</td>\n",
       "      <td>5.0</td>\n",
       "      <td>EDUCATION</td>\n",
       "      <td>B</td>\n",
       "      <td>1000</td>\n",
       "      <td>11.14</td>\n",
       "      <td>0</td>\n",
       "      <td>0.10</td>\n",
       "      <td>N</td>\n",
       "      <td>2</td>\n",
       "    </tr>\n",
       "    <tr>\n",
       "      <th>2</th>\n",
       "      <td>25</td>\n",
       "      <td>9600</td>\n",
       "      <td>MORTGAGE</td>\n",
       "      <td>1.0</td>\n",
       "      <td>MEDICAL</td>\n",
       "      <td>C</td>\n",
       "      <td>5500</td>\n",
       "      <td>12.87</td>\n",
       "      <td>1</td>\n",
       "      <td>0.57</td>\n",
       "      <td>N</td>\n",
       "      <td>3</td>\n",
       "    </tr>\n",
       "    <tr>\n",
       "      <th>3</th>\n",
       "      <td>23</td>\n",
       "      <td>65500</td>\n",
       "      <td>RENT</td>\n",
       "      <td>4.0</td>\n",
       "      <td>MEDICAL</td>\n",
       "      <td>C</td>\n",
       "      <td>35000</td>\n",
       "      <td>15.23</td>\n",
       "      <td>1</td>\n",
       "      <td>0.53</td>\n",
       "      <td>N</td>\n",
       "      <td>2</td>\n",
       "    </tr>\n",
       "    <tr>\n",
       "      <th>4</th>\n",
       "      <td>24</td>\n",
       "      <td>54400</td>\n",
       "      <td>RENT</td>\n",
       "      <td>8.0</td>\n",
       "      <td>MEDICAL</td>\n",
       "      <td>C</td>\n",
       "      <td>35000</td>\n",
       "      <td>14.27</td>\n",
       "      <td>1</td>\n",
       "      <td>0.55</td>\n",
       "      <td>Y</td>\n",
       "      <td>4</td>\n",
       "    </tr>\n",
       "    <tr>\n",
       "      <th>...</th>\n",
       "      <td>...</td>\n",
       "      <td>...</td>\n",
       "      <td>...</td>\n",
       "      <td>...</td>\n",
       "      <td>...</td>\n",
       "      <td>...</td>\n",
       "      <td>...</td>\n",
       "      <td>...</td>\n",
       "      <td>...</td>\n",
       "      <td>...</td>\n",
       "      <td>...</td>\n",
       "      <td>...</td>\n",
       "    </tr>\n",
       "    <tr>\n",
       "      <th>32576</th>\n",
       "      <td>57</td>\n",
       "      <td>53000</td>\n",
       "      <td>MORTGAGE</td>\n",
       "      <td>1.0</td>\n",
       "      <td>PERSONAL</td>\n",
       "      <td>C</td>\n",
       "      <td>5800</td>\n",
       "      <td>13.16</td>\n",
       "      <td>0</td>\n",
       "      <td>0.11</td>\n",
       "      <td>N</td>\n",
       "      <td>30</td>\n",
       "    </tr>\n",
       "    <tr>\n",
       "      <th>32577</th>\n",
       "      <td>54</td>\n",
       "      <td>120000</td>\n",
       "      <td>MORTGAGE</td>\n",
       "      <td>4.0</td>\n",
       "      <td>PERSONAL</td>\n",
       "      <td>A</td>\n",
       "      <td>17625</td>\n",
       "      <td>7.49</td>\n",
       "      <td>0</td>\n",
       "      <td>0.15</td>\n",
       "      <td>N</td>\n",
       "      <td>19</td>\n",
       "    </tr>\n",
       "    <tr>\n",
       "      <th>32578</th>\n",
       "      <td>65</td>\n",
       "      <td>76000</td>\n",
       "      <td>RENT</td>\n",
       "      <td>3.0</td>\n",
       "      <td>HOMEIMPROVEMENT</td>\n",
       "      <td>B</td>\n",
       "      <td>35000</td>\n",
       "      <td>10.99</td>\n",
       "      <td>1</td>\n",
       "      <td>0.46</td>\n",
       "      <td>N</td>\n",
       "      <td>28</td>\n",
       "    </tr>\n",
       "    <tr>\n",
       "      <th>32579</th>\n",
       "      <td>56</td>\n",
       "      <td>150000</td>\n",
       "      <td>MORTGAGE</td>\n",
       "      <td>5.0</td>\n",
       "      <td>PERSONAL</td>\n",
       "      <td>B</td>\n",
       "      <td>15000</td>\n",
       "      <td>11.48</td>\n",
       "      <td>0</td>\n",
       "      <td>0.10</td>\n",
       "      <td>N</td>\n",
       "      <td>26</td>\n",
       "    </tr>\n",
       "    <tr>\n",
       "      <th>32580</th>\n",
       "      <td>66</td>\n",
       "      <td>42000</td>\n",
       "      <td>RENT</td>\n",
       "      <td>2.0</td>\n",
       "      <td>MEDICAL</td>\n",
       "      <td>B</td>\n",
       "      <td>6475</td>\n",
       "      <td>9.99</td>\n",
       "      <td>0</td>\n",
       "      <td>0.15</td>\n",
       "      <td>N</td>\n",
       "      <td>30</td>\n",
       "    </tr>\n",
       "  </tbody>\n",
       "</table>\n",
       "<p>32581 rows × 12 columns</p>\n",
       "</div>"
      ],
      "text/plain": [
       "       person_age  person_income person_home_ownership  person_emp_length  \\\n",
       "0              22          59000                  RENT              123.0   \n",
       "1              21           9600                   OWN                5.0   \n",
       "2              25           9600              MORTGAGE                1.0   \n",
       "3              23          65500                  RENT                4.0   \n",
       "4              24          54400                  RENT                8.0   \n",
       "...           ...            ...                   ...                ...   \n",
       "32576          57          53000              MORTGAGE                1.0   \n",
       "32577          54         120000              MORTGAGE                4.0   \n",
       "32578          65          76000                  RENT                3.0   \n",
       "32579          56         150000              MORTGAGE                5.0   \n",
       "32580          66          42000                  RENT                2.0   \n",
       "\n",
       "           loan_intent loan_grade  loan_amnt  loan_int_rate  loan_status  \\\n",
       "0             PERSONAL          D      35000          16.02            1   \n",
       "1            EDUCATION          B       1000          11.14            0   \n",
       "2              MEDICAL          C       5500          12.87            1   \n",
       "3              MEDICAL          C      35000          15.23            1   \n",
       "4              MEDICAL          C      35000          14.27            1   \n",
       "...                ...        ...        ...            ...          ...   \n",
       "32576         PERSONAL          C       5800          13.16            0   \n",
       "32577         PERSONAL          A      17625           7.49            0   \n",
       "32578  HOMEIMPROVEMENT          B      35000          10.99            1   \n",
       "32579         PERSONAL          B      15000          11.48            0   \n",
       "32580          MEDICAL          B       6475           9.99            0   \n",
       "\n",
       "       loan_percent_income cb_person_default_on_file  \\\n",
       "0                     0.59                         Y   \n",
       "1                     0.10                         N   \n",
       "2                     0.57                         N   \n",
       "3                     0.53                         N   \n",
       "4                     0.55                         Y   \n",
       "...                    ...                       ...   \n",
       "32576                 0.11                         N   \n",
       "32577                 0.15                         N   \n",
       "32578                 0.46                         N   \n",
       "32579                 0.10                         N   \n",
       "32580                 0.15                         N   \n",
       "\n",
       "       cb_person_cred_hist_length  \n",
       "0                               3  \n",
       "1                               2  \n",
       "2                               3  \n",
       "3                               2  \n",
       "4                               4  \n",
       "...                           ...  \n",
       "32576                          30  \n",
       "32577                          19  \n",
       "32578                          28  \n",
       "32579                          26  \n",
       "32580                          30  \n",
       "\n",
       "[32581 rows x 12 columns]"
      ]
     },
     "execution_count": 3,
     "metadata": {},
     "output_type": "execute_result"
    }
   ],
   "source": [
    "df = pd.read_csv(\"credit_risk_dataset.csv\")\n",
    "df"
   ]
  },
  {
   "cell_type": "markdown",
   "id": "d27647a1",
   "metadata": {},
   "source": [
    "Номінальні ознаки - person_home_ownership, loan_intent"
   ]
  },
  {
   "cell_type": "code",
   "execution_count": 5,
   "id": "fd18a1d5",
   "metadata": {},
   "outputs": [
    {
     "data": {
      "text/html": [
       "<div>\n",
       "<style scoped>\n",
       "    .dataframe tbody tr th:only-of-type {\n",
       "        vertical-align: middle;\n",
       "    }\n",
       "\n",
       "    .dataframe tbody tr th {\n",
       "        vertical-align: top;\n",
       "    }\n",
       "\n",
       "    .dataframe thead th {\n",
       "        text-align: right;\n",
       "    }\n",
       "</style>\n",
       "<table border=\"1\" class=\"dataframe\">\n",
       "  <thead>\n",
       "    <tr style=\"text-align: right;\">\n",
       "      <th></th>\n",
       "      <th>person_home_ownership</th>\n",
       "      <th>loan_intent</th>\n",
       "    </tr>\n",
       "  </thead>\n",
       "  <tbody>\n",
       "    <tr>\n",
       "      <th>0</th>\n",
       "      <td>RENT</td>\n",
       "      <td>PERSONAL</td>\n",
       "    </tr>\n",
       "    <tr>\n",
       "      <th>1</th>\n",
       "      <td>OWN</td>\n",
       "      <td>EDUCATION</td>\n",
       "    </tr>\n",
       "    <tr>\n",
       "      <th>2</th>\n",
       "      <td>MORTGAGE</td>\n",
       "      <td>MEDICAL</td>\n",
       "    </tr>\n",
       "    <tr>\n",
       "      <th>3</th>\n",
       "      <td>RENT</td>\n",
       "      <td>MEDICAL</td>\n",
       "    </tr>\n",
       "    <tr>\n",
       "      <th>4</th>\n",
       "      <td>RENT</td>\n",
       "      <td>MEDICAL</td>\n",
       "    </tr>\n",
       "    <tr>\n",
       "      <th>...</th>\n",
       "      <td>...</td>\n",
       "      <td>...</td>\n",
       "    </tr>\n",
       "    <tr>\n",
       "      <th>32576</th>\n",
       "      <td>MORTGAGE</td>\n",
       "      <td>PERSONAL</td>\n",
       "    </tr>\n",
       "    <tr>\n",
       "      <th>32577</th>\n",
       "      <td>MORTGAGE</td>\n",
       "      <td>PERSONAL</td>\n",
       "    </tr>\n",
       "    <tr>\n",
       "      <th>32578</th>\n",
       "      <td>RENT</td>\n",
       "      <td>HOMEIMPROVEMENT</td>\n",
       "    </tr>\n",
       "    <tr>\n",
       "      <th>32579</th>\n",
       "      <td>MORTGAGE</td>\n",
       "      <td>PERSONAL</td>\n",
       "    </tr>\n",
       "    <tr>\n",
       "      <th>32580</th>\n",
       "      <td>RENT</td>\n",
       "      <td>MEDICAL</td>\n",
       "    </tr>\n",
       "  </tbody>\n",
       "</table>\n",
       "<p>32581 rows × 2 columns</p>\n",
       "</div>"
      ],
      "text/plain": [
       "      person_home_ownership      loan_intent\n",
       "0                      RENT         PERSONAL\n",
       "1                       OWN        EDUCATION\n",
       "2                  MORTGAGE          MEDICAL\n",
       "3                      RENT          MEDICAL\n",
       "4                      RENT          MEDICAL\n",
       "...                     ...              ...\n",
       "32576              MORTGAGE         PERSONAL\n",
       "32577              MORTGAGE         PERSONAL\n",
       "32578                  RENT  HOMEIMPROVEMENT\n",
       "32579              MORTGAGE         PERSONAL\n",
       "32580                  RENT          MEDICAL\n",
       "\n",
       "[32581 rows x 2 columns]"
      ]
     },
     "execution_count": 5,
     "metadata": {},
     "output_type": "execute_result"
    }
   ],
   "source": [
    "df[['person_home_ownership','loan_intent']]"
   ]
  },
  {
   "cell_type": "code",
   "execution_count": 6,
   "id": "1b4a5fd5",
   "metadata": {},
   "outputs": [
    {
     "data": {
      "text/html": [
       "<div>\n",
       "<style scoped>\n",
       "    .dataframe tbody tr th:only-of-type {\n",
       "        vertical-align: middle;\n",
       "    }\n",
       "\n",
       "    .dataframe tbody tr th {\n",
       "        vertical-align: top;\n",
       "    }\n",
       "\n",
       "    .dataframe thead th {\n",
       "        text-align: right;\n",
       "    }\n",
       "</style>\n",
       "<table border=\"1\" class=\"dataframe\">\n",
       "  <thead>\n",
       "    <tr style=\"text-align: right;\">\n",
       "      <th></th>\n",
       "      <th>person_age</th>\n",
       "      <th>person_income</th>\n",
       "      <th>person_emp_length</th>\n",
       "      <th>loan_grade</th>\n",
       "      <th>loan_amnt</th>\n",
       "      <th>loan_int_rate</th>\n",
       "      <th>loan_status</th>\n",
       "      <th>loan_percent_income</th>\n",
       "      <th>cb_person_default_on_file</th>\n",
       "      <th>cb_person_cred_hist_length</th>\n",
       "      <th>person_home_ownership_MORTGAGE</th>\n",
       "      <th>person_home_ownership_OTHER</th>\n",
       "      <th>person_home_ownership_OWN</th>\n",
       "      <th>person_home_ownership_RENT</th>\n",
       "      <th>loan_intent_DEBTCONSOLIDATION</th>\n",
       "      <th>loan_intent_EDUCATION</th>\n",
       "      <th>loan_intent_HOMEIMPROVEMENT</th>\n",
       "      <th>loan_intent_MEDICAL</th>\n",
       "      <th>loan_intent_PERSONAL</th>\n",
       "      <th>loan_intent_VENTURE</th>\n",
       "    </tr>\n",
       "  </thead>\n",
       "  <tbody>\n",
       "    <tr>\n",
       "      <th>0</th>\n",
       "      <td>22</td>\n",
       "      <td>59000</td>\n",
       "      <td>123.0</td>\n",
       "      <td>D</td>\n",
       "      <td>35000</td>\n",
       "      <td>16.02</td>\n",
       "      <td>1</td>\n",
       "      <td>0.59</td>\n",
       "      <td>Y</td>\n",
       "      <td>3</td>\n",
       "      <td>0</td>\n",
       "      <td>0</td>\n",
       "      <td>0</td>\n",
       "      <td>1</td>\n",
       "      <td>0</td>\n",
       "      <td>0</td>\n",
       "      <td>0</td>\n",
       "      <td>0</td>\n",
       "      <td>1</td>\n",
       "      <td>0</td>\n",
       "    </tr>\n",
       "    <tr>\n",
       "      <th>1</th>\n",
       "      <td>21</td>\n",
       "      <td>9600</td>\n",
       "      <td>5.0</td>\n",
       "      <td>B</td>\n",
       "      <td>1000</td>\n",
       "      <td>11.14</td>\n",
       "      <td>0</td>\n",
       "      <td>0.10</td>\n",
       "      <td>N</td>\n",
       "      <td>2</td>\n",
       "      <td>0</td>\n",
       "      <td>0</td>\n",
       "      <td>1</td>\n",
       "      <td>0</td>\n",
       "      <td>0</td>\n",
       "      <td>1</td>\n",
       "      <td>0</td>\n",
       "      <td>0</td>\n",
       "      <td>0</td>\n",
       "      <td>0</td>\n",
       "    </tr>\n",
       "    <tr>\n",
       "      <th>2</th>\n",
       "      <td>25</td>\n",
       "      <td>9600</td>\n",
       "      <td>1.0</td>\n",
       "      <td>C</td>\n",
       "      <td>5500</td>\n",
       "      <td>12.87</td>\n",
       "      <td>1</td>\n",
       "      <td>0.57</td>\n",
       "      <td>N</td>\n",
       "      <td>3</td>\n",
       "      <td>1</td>\n",
       "      <td>0</td>\n",
       "      <td>0</td>\n",
       "      <td>0</td>\n",
       "      <td>0</td>\n",
       "      <td>0</td>\n",
       "      <td>0</td>\n",
       "      <td>1</td>\n",
       "      <td>0</td>\n",
       "      <td>0</td>\n",
       "    </tr>\n",
       "    <tr>\n",
       "      <th>3</th>\n",
       "      <td>23</td>\n",
       "      <td>65500</td>\n",
       "      <td>4.0</td>\n",
       "      <td>C</td>\n",
       "      <td>35000</td>\n",
       "      <td>15.23</td>\n",
       "      <td>1</td>\n",
       "      <td>0.53</td>\n",
       "      <td>N</td>\n",
       "      <td>2</td>\n",
       "      <td>0</td>\n",
       "      <td>0</td>\n",
       "      <td>0</td>\n",
       "      <td>1</td>\n",
       "      <td>0</td>\n",
       "      <td>0</td>\n",
       "      <td>0</td>\n",
       "      <td>1</td>\n",
       "      <td>0</td>\n",
       "      <td>0</td>\n",
       "    </tr>\n",
       "    <tr>\n",
       "      <th>4</th>\n",
       "      <td>24</td>\n",
       "      <td>54400</td>\n",
       "      <td>8.0</td>\n",
       "      <td>C</td>\n",
       "      <td>35000</td>\n",
       "      <td>14.27</td>\n",
       "      <td>1</td>\n",
       "      <td>0.55</td>\n",
       "      <td>Y</td>\n",
       "      <td>4</td>\n",
       "      <td>0</td>\n",
       "      <td>0</td>\n",
       "      <td>0</td>\n",
       "      <td>1</td>\n",
       "      <td>0</td>\n",
       "      <td>0</td>\n",
       "      <td>0</td>\n",
       "      <td>1</td>\n",
       "      <td>0</td>\n",
       "      <td>0</td>\n",
       "    </tr>\n",
       "    <tr>\n",
       "      <th>...</th>\n",
       "      <td>...</td>\n",
       "      <td>...</td>\n",
       "      <td>...</td>\n",
       "      <td>...</td>\n",
       "      <td>...</td>\n",
       "      <td>...</td>\n",
       "      <td>...</td>\n",
       "      <td>...</td>\n",
       "      <td>...</td>\n",
       "      <td>...</td>\n",
       "      <td>...</td>\n",
       "      <td>...</td>\n",
       "      <td>...</td>\n",
       "      <td>...</td>\n",
       "      <td>...</td>\n",
       "      <td>...</td>\n",
       "      <td>...</td>\n",
       "      <td>...</td>\n",
       "      <td>...</td>\n",
       "      <td>...</td>\n",
       "    </tr>\n",
       "    <tr>\n",
       "      <th>32576</th>\n",
       "      <td>57</td>\n",
       "      <td>53000</td>\n",
       "      <td>1.0</td>\n",
       "      <td>C</td>\n",
       "      <td>5800</td>\n",
       "      <td>13.16</td>\n",
       "      <td>0</td>\n",
       "      <td>0.11</td>\n",
       "      <td>N</td>\n",
       "      <td>30</td>\n",
       "      <td>1</td>\n",
       "      <td>0</td>\n",
       "      <td>0</td>\n",
       "      <td>0</td>\n",
       "      <td>0</td>\n",
       "      <td>0</td>\n",
       "      <td>0</td>\n",
       "      <td>0</td>\n",
       "      <td>1</td>\n",
       "      <td>0</td>\n",
       "    </tr>\n",
       "    <tr>\n",
       "      <th>32577</th>\n",
       "      <td>54</td>\n",
       "      <td>120000</td>\n",
       "      <td>4.0</td>\n",
       "      <td>A</td>\n",
       "      <td>17625</td>\n",
       "      <td>7.49</td>\n",
       "      <td>0</td>\n",
       "      <td>0.15</td>\n",
       "      <td>N</td>\n",
       "      <td>19</td>\n",
       "      <td>1</td>\n",
       "      <td>0</td>\n",
       "      <td>0</td>\n",
       "      <td>0</td>\n",
       "      <td>0</td>\n",
       "      <td>0</td>\n",
       "      <td>0</td>\n",
       "      <td>0</td>\n",
       "      <td>1</td>\n",
       "      <td>0</td>\n",
       "    </tr>\n",
       "    <tr>\n",
       "      <th>32578</th>\n",
       "      <td>65</td>\n",
       "      <td>76000</td>\n",
       "      <td>3.0</td>\n",
       "      <td>B</td>\n",
       "      <td>35000</td>\n",
       "      <td>10.99</td>\n",
       "      <td>1</td>\n",
       "      <td>0.46</td>\n",
       "      <td>N</td>\n",
       "      <td>28</td>\n",
       "      <td>0</td>\n",
       "      <td>0</td>\n",
       "      <td>0</td>\n",
       "      <td>1</td>\n",
       "      <td>0</td>\n",
       "      <td>0</td>\n",
       "      <td>1</td>\n",
       "      <td>0</td>\n",
       "      <td>0</td>\n",
       "      <td>0</td>\n",
       "    </tr>\n",
       "    <tr>\n",
       "      <th>32579</th>\n",
       "      <td>56</td>\n",
       "      <td>150000</td>\n",
       "      <td>5.0</td>\n",
       "      <td>B</td>\n",
       "      <td>15000</td>\n",
       "      <td>11.48</td>\n",
       "      <td>0</td>\n",
       "      <td>0.10</td>\n",
       "      <td>N</td>\n",
       "      <td>26</td>\n",
       "      <td>1</td>\n",
       "      <td>0</td>\n",
       "      <td>0</td>\n",
       "      <td>0</td>\n",
       "      <td>0</td>\n",
       "      <td>0</td>\n",
       "      <td>0</td>\n",
       "      <td>0</td>\n",
       "      <td>1</td>\n",
       "      <td>0</td>\n",
       "    </tr>\n",
       "    <tr>\n",
       "      <th>32580</th>\n",
       "      <td>66</td>\n",
       "      <td>42000</td>\n",
       "      <td>2.0</td>\n",
       "      <td>B</td>\n",
       "      <td>6475</td>\n",
       "      <td>9.99</td>\n",
       "      <td>0</td>\n",
       "      <td>0.15</td>\n",
       "      <td>N</td>\n",
       "      <td>30</td>\n",
       "      <td>0</td>\n",
       "      <td>0</td>\n",
       "      <td>0</td>\n",
       "      <td>1</td>\n",
       "      <td>0</td>\n",
       "      <td>0</td>\n",
       "      <td>0</td>\n",
       "      <td>1</td>\n",
       "      <td>0</td>\n",
       "      <td>0</td>\n",
       "    </tr>\n",
       "  </tbody>\n",
       "</table>\n",
       "<p>32581 rows × 20 columns</p>\n",
       "</div>"
      ],
      "text/plain": [
       "       person_age  person_income  person_emp_length loan_grade  loan_amnt  \\\n",
       "0              22          59000              123.0          D      35000   \n",
       "1              21           9600                5.0          B       1000   \n",
       "2              25           9600                1.0          C       5500   \n",
       "3              23          65500                4.0          C      35000   \n",
       "4              24          54400                8.0          C      35000   \n",
       "...           ...            ...                ...        ...        ...   \n",
       "32576          57          53000                1.0          C       5800   \n",
       "32577          54         120000                4.0          A      17625   \n",
       "32578          65          76000                3.0          B      35000   \n",
       "32579          56         150000                5.0          B      15000   \n",
       "32580          66          42000                2.0          B       6475   \n",
       "\n",
       "       loan_int_rate  loan_status  loan_percent_income  \\\n",
       "0              16.02            1                 0.59   \n",
       "1              11.14            0                 0.10   \n",
       "2              12.87            1                 0.57   \n",
       "3              15.23            1                 0.53   \n",
       "4              14.27            1                 0.55   \n",
       "...              ...          ...                  ...   \n",
       "32576          13.16            0                 0.11   \n",
       "32577           7.49            0                 0.15   \n",
       "32578          10.99            1                 0.46   \n",
       "32579          11.48            0                 0.10   \n",
       "32580           9.99            0                 0.15   \n",
       "\n",
       "      cb_person_default_on_file  cb_person_cred_hist_length  \\\n",
       "0                             Y                           3   \n",
       "1                             N                           2   \n",
       "2                             N                           3   \n",
       "3                             N                           2   \n",
       "4                             Y                           4   \n",
       "...                         ...                         ...   \n",
       "32576                         N                          30   \n",
       "32577                         N                          19   \n",
       "32578                         N                          28   \n",
       "32579                         N                          26   \n",
       "32580                         N                          30   \n",
       "\n",
       "       person_home_ownership_MORTGAGE  person_home_ownership_OTHER  \\\n",
       "0                                   0                            0   \n",
       "1                                   0                            0   \n",
       "2                                   1                            0   \n",
       "3                                   0                            0   \n",
       "4                                   0                            0   \n",
       "...                               ...                          ...   \n",
       "32576                               1                            0   \n",
       "32577                               1                            0   \n",
       "32578                               0                            0   \n",
       "32579                               1                            0   \n",
       "32580                               0                            0   \n",
       "\n",
       "       person_home_ownership_OWN  person_home_ownership_RENT  \\\n",
       "0                              0                           1   \n",
       "1                              1                           0   \n",
       "2                              0                           0   \n",
       "3                              0                           1   \n",
       "4                              0                           1   \n",
       "...                          ...                         ...   \n",
       "32576                          0                           0   \n",
       "32577                          0                           0   \n",
       "32578                          0                           1   \n",
       "32579                          0                           0   \n",
       "32580                          0                           1   \n",
       "\n",
       "       loan_intent_DEBTCONSOLIDATION  loan_intent_EDUCATION  \\\n",
       "0                                  0                      0   \n",
       "1                                  0                      1   \n",
       "2                                  0                      0   \n",
       "3                                  0                      0   \n",
       "4                                  0                      0   \n",
       "...                              ...                    ...   \n",
       "32576                              0                      0   \n",
       "32577                              0                      0   \n",
       "32578                              0                      0   \n",
       "32579                              0                      0   \n",
       "32580                              0                      0   \n",
       "\n",
       "       loan_intent_HOMEIMPROVEMENT  loan_intent_MEDICAL  loan_intent_PERSONAL  \\\n",
       "0                                0                    0                     1   \n",
       "1                                0                    0                     0   \n",
       "2                                0                    1                     0   \n",
       "3                                0                    1                     0   \n",
       "4                                0                    1                     0   \n",
       "...                            ...                  ...                   ...   \n",
       "32576                            0                    0                     1   \n",
       "32577                            0                    0                     1   \n",
       "32578                            1                    0                     0   \n",
       "32579                            0                    0                     1   \n",
       "32580                            0                    1                     0   \n",
       "\n",
       "       loan_intent_VENTURE  \n",
       "0                        0  \n",
       "1                        0  \n",
       "2                        0  \n",
       "3                        0  \n",
       "4                        0  \n",
       "...                    ...  \n",
       "32576                    0  \n",
       "32577                    0  \n",
       "32578                    0  \n",
       "32579                    0  \n",
       "32580                    0  \n",
       "\n",
       "[32581 rows x 20 columns]"
      ]
     },
     "execution_count": 6,
     "metadata": {},
     "output_type": "execute_result"
    }
   ],
   "source": [
    "coded = pd.get_dummies(df[['person_home_ownership','loan_intent']])\n",
    "df = df.drop(columns=['person_home_ownership','loan_intent'])\n",
    "df = df.join(coded)\n",
    "df"
   ]
  },
  {
   "cell_type": "markdown",
   "id": "a52e9265",
   "metadata": {},
   "source": [
    "Порядкові - loan_grade, cb_person_default_on_file"
   ]
  },
  {
   "cell_type": "code",
   "execution_count": 7,
   "id": "52bdfc42",
   "metadata": {},
   "outputs": [
    {
     "data": {
      "text/html": [
       "<div>\n",
       "<style scoped>\n",
       "    .dataframe tbody tr th:only-of-type {\n",
       "        vertical-align: middle;\n",
       "    }\n",
       "\n",
       "    .dataframe tbody tr th {\n",
       "        vertical-align: top;\n",
       "    }\n",
       "\n",
       "    .dataframe thead th {\n",
       "        text-align: right;\n",
       "    }\n",
       "</style>\n",
       "<table border=\"1\" class=\"dataframe\">\n",
       "  <thead>\n",
       "    <tr style=\"text-align: right;\">\n",
       "      <th></th>\n",
       "      <th>loan_grade</th>\n",
       "      <th>cb_person_default_on_file</th>\n",
       "    </tr>\n",
       "  </thead>\n",
       "  <tbody>\n",
       "    <tr>\n",
       "      <th>0</th>\n",
       "      <td>D</td>\n",
       "      <td>Y</td>\n",
       "    </tr>\n",
       "    <tr>\n",
       "      <th>1</th>\n",
       "      <td>B</td>\n",
       "      <td>N</td>\n",
       "    </tr>\n",
       "    <tr>\n",
       "      <th>2</th>\n",
       "      <td>C</td>\n",
       "      <td>N</td>\n",
       "    </tr>\n",
       "    <tr>\n",
       "      <th>3</th>\n",
       "      <td>C</td>\n",
       "      <td>N</td>\n",
       "    </tr>\n",
       "    <tr>\n",
       "      <th>4</th>\n",
       "      <td>C</td>\n",
       "      <td>Y</td>\n",
       "    </tr>\n",
       "    <tr>\n",
       "      <th>...</th>\n",
       "      <td>...</td>\n",
       "      <td>...</td>\n",
       "    </tr>\n",
       "    <tr>\n",
       "      <th>32576</th>\n",
       "      <td>C</td>\n",
       "      <td>N</td>\n",
       "    </tr>\n",
       "    <tr>\n",
       "      <th>32577</th>\n",
       "      <td>A</td>\n",
       "      <td>N</td>\n",
       "    </tr>\n",
       "    <tr>\n",
       "      <th>32578</th>\n",
       "      <td>B</td>\n",
       "      <td>N</td>\n",
       "    </tr>\n",
       "    <tr>\n",
       "      <th>32579</th>\n",
       "      <td>B</td>\n",
       "      <td>N</td>\n",
       "    </tr>\n",
       "    <tr>\n",
       "      <th>32580</th>\n",
       "      <td>B</td>\n",
       "      <td>N</td>\n",
       "    </tr>\n",
       "  </tbody>\n",
       "</table>\n",
       "<p>32581 rows × 2 columns</p>\n",
       "</div>"
      ],
      "text/plain": [
       "      loan_grade cb_person_default_on_file\n",
       "0              D                         Y\n",
       "1              B                         N\n",
       "2              C                         N\n",
       "3              C                         N\n",
       "4              C                         Y\n",
       "...          ...                       ...\n",
       "32576          C                         N\n",
       "32577          A                         N\n",
       "32578          B                         N\n",
       "32579          B                         N\n",
       "32580          B                         N\n",
       "\n",
       "[32581 rows x 2 columns]"
      ]
     },
     "execution_count": 7,
     "metadata": {},
     "output_type": "execute_result"
    }
   ],
   "source": [
    "df[['loan_grade', 'cb_person_default_on_file']]"
   ]
  },
  {
   "cell_type": "code",
   "execution_count": 8,
   "id": "c35a729f",
   "metadata": {},
   "outputs": [
    {
     "data": {
      "text/plain": [
       "array([3, 1, 2, ..., 1, 1, 1])"
      ]
     },
     "execution_count": 8,
     "metadata": {},
     "output_type": "execute_result"
    }
   ],
   "source": [
    "class_le1 = LabelEncoder()\n",
    "y1 = class_le1.fit_transform(df['loan_grade'].values)\n",
    "y1"
   ]
  },
  {
   "cell_type": "code",
   "execution_count": 9,
   "id": "7d630ab1",
   "metadata": {},
   "outputs": [
    {
     "data": {
      "text/plain": [
       "array([1, 0, 0, ..., 0, 0, 0])"
      ]
     },
     "execution_count": 9,
     "metadata": {},
     "output_type": "execute_result"
    }
   ],
   "source": [
    "class_le2 = LabelEncoder()\n",
    "y2 = class_le2.fit_transform(df['cb_person_default_on_file'].values)\n",
    "y2"
   ]
  },
  {
   "cell_type": "code",
   "execution_count": 10,
   "id": "26213ab4",
   "metadata": {},
   "outputs": [
    {
     "data": {
      "text/html": [
       "<div>\n",
       "<style scoped>\n",
       "    .dataframe tbody tr th:only-of-type {\n",
       "        vertical-align: middle;\n",
       "    }\n",
       "\n",
       "    .dataframe tbody tr th {\n",
       "        vertical-align: top;\n",
       "    }\n",
       "\n",
       "    .dataframe thead th {\n",
       "        text-align: right;\n",
       "    }\n",
       "</style>\n",
       "<table border=\"1\" class=\"dataframe\">\n",
       "  <thead>\n",
       "    <tr style=\"text-align: right;\">\n",
       "      <th></th>\n",
       "      <th>person_age</th>\n",
       "      <th>person_income</th>\n",
       "      <th>person_emp_length</th>\n",
       "      <th>loan_grade</th>\n",
       "      <th>loan_amnt</th>\n",
       "      <th>loan_int_rate</th>\n",
       "      <th>loan_status</th>\n",
       "      <th>loan_percent_income</th>\n",
       "      <th>cb_person_default_on_file</th>\n",
       "      <th>cb_person_cred_hist_length</th>\n",
       "      <th>person_home_ownership_MORTGAGE</th>\n",
       "      <th>person_home_ownership_OTHER</th>\n",
       "      <th>person_home_ownership_OWN</th>\n",
       "      <th>person_home_ownership_RENT</th>\n",
       "      <th>loan_intent_DEBTCONSOLIDATION</th>\n",
       "      <th>loan_intent_EDUCATION</th>\n",
       "      <th>loan_intent_HOMEIMPROVEMENT</th>\n",
       "      <th>loan_intent_MEDICAL</th>\n",
       "      <th>loan_intent_PERSONAL</th>\n",
       "      <th>loan_intent_VENTURE</th>\n",
       "    </tr>\n",
       "  </thead>\n",
       "  <tbody>\n",
       "    <tr>\n",
       "      <th>0</th>\n",
       "      <td>22</td>\n",
       "      <td>59000</td>\n",
       "      <td>123.0</td>\n",
       "      <td>3</td>\n",
       "      <td>35000</td>\n",
       "      <td>16.02</td>\n",
       "      <td>1</td>\n",
       "      <td>0.59</td>\n",
       "      <td>1</td>\n",
       "      <td>3</td>\n",
       "      <td>0</td>\n",
       "      <td>0</td>\n",
       "      <td>0</td>\n",
       "      <td>1</td>\n",
       "      <td>0</td>\n",
       "      <td>0</td>\n",
       "      <td>0</td>\n",
       "      <td>0</td>\n",
       "      <td>1</td>\n",
       "      <td>0</td>\n",
       "    </tr>\n",
       "    <tr>\n",
       "      <th>1</th>\n",
       "      <td>21</td>\n",
       "      <td>9600</td>\n",
       "      <td>5.0</td>\n",
       "      <td>1</td>\n",
       "      <td>1000</td>\n",
       "      <td>11.14</td>\n",
       "      <td>0</td>\n",
       "      <td>0.10</td>\n",
       "      <td>0</td>\n",
       "      <td>2</td>\n",
       "      <td>0</td>\n",
       "      <td>0</td>\n",
       "      <td>1</td>\n",
       "      <td>0</td>\n",
       "      <td>0</td>\n",
       "      <td>1</td>\n",
       "      <td>0</td>\n",
       "      <td>0</td>\n",
       "      <td>0</td>\n",
       "      <td>0</td>\n",
       "    </tr>\n",
       "    <tr>\n",
       "      <th>2</th>\n",
       "      <td>25</td>\n",
       "      <td>9600</td>\n",
       "      <td>1.0</td>\n",
       "      <td>2</td>\n",
       "      <td>5500</td>\n",
       "      <td>12.87</td>\n",
       "      <td>1</td>\n",
       "      <td>0.57</td>\n",
       "      <td>0</td>\n",
       "      <td>3</td>\n",
       "      <td>1</td>\n",
       "      <td>0</td>\n",
       "      <td>0</td>\n",
       "      <td>0</td>\n",
       "      <td>0</td>\n",
       "      <td>0</td>\n",
       "      <td>0</td>\n",
       "      <td>1</td>\n",
       "      <td>0</td>\n",
       "      <td>0</td>\n",
       "    </tr>\n",
       "    <tr>\n",
       "      <th>3</th>\n",
       "      <td>23</td>\n",
       "      <td>65500</td>\n",
       "      <td>4.0</td>\n",
       "      <td>2</td>\n",
       "      <td>35000</td>\n",
       "      <td>15.23</td>\n",
       "      <td>1</td>\n",
       "      <td>0.53</td>\n",
       "      <td>0</td>\n",
       "      <td>2</td>\n",
       "      <td>0</td>\n",
       "      <td>0</td>\n",
       "      <td>0</td>\n",
       "      <td>1</td>\n",
       "      <td>0</td>\n",
       "      <td>0</td>\n",
       "      <td>0</td>\n",
       "      <td>1</td>\n",
       "      <td>0</td>\n",
       "      <td>0</td>\n",
       "    </tr>\n",
       "    <tr>\n",
       "      <th>4</th>\n",
       "      <td>24</td>\n",
       "      <td>54400</td>\n",
       "      <td>8.0</td>\n",
       "      <td>2</td>\n",
       "      <td>35000</td>\n",
       "      <td>14.27</td>\n",
       "      <td>1</td>\n",
       "      <td>0.55</td>\n",
       "      <td>1</td>\n",
       "      <td>4</td>\n",
       "      <td>0</td>\n",
       "      <td>0</td>\n",
       "      <td>0</td>\n",
       "      <td>1</td>\n",
       "      <td>0</td>\n",
       "      <td>0</td>\n",
       "      <td>0</td>\n",
       "      <td>1</td>\n",
       "      <td>0</td>\n",
       "      <td>0</td>\n",
       "    </tr>\n",
       "    <tr>\n",
       "      <th>...</th>\n",
       "      <td>...</td>\n",
       "      <td>...</td>\n",
       "      <td>...</td>\n",
       "      <td>...</td>\n",
       "      <td>...</td>\n",
       "      <td>...</td>\n",
       "      <td>...</td>\n",
       "      <td>...</td>\n",
       "      <td>...</td>\n",
       "      <td>...</td>\n",
       "      <td>...</td>\n",
       "      <td>...</td>\n",
       "      <td>...</td>\n",
       "      <td>...</td>\n",
       "      <td>...</td>\n",
       "      <td>...</td>\n",
       "      <td>...</td>\n",
       "      <td>...</td>\n",
       "      <td>...</td>\n",
       "      <td>...</td>\n",
       "    </tr>\n",
       "    <tr>\n",
       "      <th>32576</th>\n",
       "      <td>57</td>\n",
       "      <td>53000</td>\n",
       "      <td>1.0</td>\n",
       "      <td>2</td>\n",
       "      <td>5800</td>\n",
       "      <td>13.16</td>\n",
       "      <td>0</td>\n",
       "      <td>0.11</td>\n",
       "      <td>0</td>\n",
       "      <td>30</td>\n",
       "      <td>1</td>\n",
       "      <td>0</td>\n",
       "      <td>0</td>\n",
       "      <td>0</td>\n",
       "      <td>0</td>\n",
       "      <td>0</td>\n",
       "      <td>0</td>\n",
       "      <td>0</td>\n",
       "      <td>1</td>\n",
       "      <td>0</td>\n",
       "    </tr>\n",
       "    <tr>\n",
       "      <th>32577</th>\n",
       "      <td>54</td>\n",
       "      <td>120000</td>\n",
       "      <td>4.0</td>\n",
       "      <td>0</td>\n",
       "      <td>17625</td>\n",
       "      <td>7.49</td>\n",
       "      <td>0</td>\n",
       "      <td>0.15</td>\n",
       "      <td>0</td>\n",
       "      <td>19</td>\n",
       "      <td>1</td>\n",
       "      <td>0</td>\n",
       "      <td>0</td>\n",
       "      <td>0</td>\n",
       "      <td>0</td>\n",
       "      <td>0</td>\n",
       "      <td>0</td>\n",
       "      <td>0</td>\n",
       "      <td>1</td>\n",
       "      <td>0</td>\n",
       "    </tr>\n",
       "    <tr>\n",
       "      <th>32578</th>\n",
       "      <td>65</td>\n",
       "      <td>76000</td>\n",
       "      <td>3.0</td>\n",
       "      <td>1</td>\n",
       "      <td>35000</td>\n",
       "      <td>10.99</td>\n",
       "      <td>1</td>\n",
       "      <td>0.46</td>\n",
       "      <td>0</td>\n",
       "      <td>28</td>\n",
       "      <td>0</td>\n",
       "      <td>0</td>\n",
       "      <td>0</td>\n",
       "      <td>1</td>\n",
       "      <td>0</td>\n",
       "      <td>0</td>\n",
       "      <td>1</td>\n",
       "      <td>0</td>\n",
       "      <td>0</td>\n",
       "      <td>0</td>\n",
       "    </tr>\n",
       "    <tr>\n",
       "      <th>32579</th>\n",
       "      <td>56</td>\n",
       "      <td>150000</td>\n",
       "      <td>5.0</td>\n",
       "      <td>1</td>\n",
       "      <td>15000</td>\n",
       "      <td>11.48</td>\n",
       "      <td>0</td>\n",
       "      <td>0.10</td>\n",
       "      <td>0</td>\n",
       "      <td>26</td>\n",
       "      <td>1</td>\n",
       "      <td>0</td>\n",
       "      <td>0</td>\n",
       "      <td>0</td>\n",
       "      <td>0</td>\n",
       "      <td>0</td>\n",
       "      <td>0</td>\n",
       "      <td>0</td>\n",
       "      <td>1</td>\n",
       "      <td>0</td>\n",
       "    </tr>\n",
       "    <tr>\n",
       "      <th>32580</th>\n",
       "      <td>66</td>\n",
       "      <td>42000</td>\n",
       "      <td>2.0</td>\n",
       "      <td>1</td>\n",
       "      <td>6475</td>\n",
       "      <td>9.99</td>\n",
       "      <td>0</td>\n",
       "      <td>0.15</td>\n",
       "      <td>0</td>\n",
       "      <td>30</td>\n",
       "      <td>0</td>\n",
       "      <td>0</td>\n",
       "      <td>0</td>\n",
       "      <td>1</td>\n",
       "      <td>0</td>\n",
       "      <td>0</td>\n",
       "      <td>0</td>\n",
       "      <td>1</td>\n",
       "      <td>0</td>\n",
       "      <td>0</td>\n",
       "    </tr>\n",
       "  </tbody>\n",
       "</table>\n",
       "<p>32581 rows × 20 columns</p>\n",
       "</div>"
      ],
      "text/plain": [
       "       person_age  person_income  person_emp_length  loan_grade  loan_amnt  \\\n",
       "0              22          59000              123.0           3      35000   \n",
       "1              21           9600                5.0           1       1000   \n",
       "2              25           9600                1.0           2       5500   \n",
       "3              23          65500                4.0           2      35000   \n",
       "4              24          54400                8.0           2      35000   \n",
       "...           ...            ...                ...         ...        ...   \n",
       "32576          57          53000                1.0           2       5800   \n",
       "32577          54         120000                4.0           0      17625   \n",
       "32578          65          76000                3.0           1      35000   \n",
       "32579          56         150000                5.0           1      15000   \n",
       "32580          66          42000                2.0           1       6475   \n",
       "\n",
       "       loan_int_rate  loan_status  loan_percent_income  \\\n",
       "0              16.02            1                 0.59   \n",
       "1              11.14            0                 0.10   \n",
       "2              12.87            1                 0.57   \n",
       "3              15.23            1                 0.53   \n",
       "4              14.27            1                 0.55   \n",
       "...              ...          ...                  ...   \n",
       "32576          13.16            0                 0.11   \n",
       "32577           7.49            0                 0.15   \n",
       "32578          10.99            1                 0.46   \n",
       "32579          11.48            0                 0.10   \n",
       "32580           9.99            0                 0.15   \n",
       "\n",
       "       cb_person_default_on_file  cb_person_cred_hist_length  \\\n",
       "0                              1                           3   \n",
       "1                              0                           2   \n",
       "2                              0                           3   \n",
       "3                              0                           2   \n",
       "4                              1                           4   \n",
       "...                          ...                         ...   \n",
       "32576                          0                          30   \n",
       "32577                          0                          19   \n",
       "32578                          0                          28   \n",
       "32579                          0                          26   \n",
       "32580                          0                          30   \n",
       "\n",
       "       person_home_ownership_MORTGAGE  person_home_ownership_OTHER  \\\n",
       "0                                   0                            0   \n",
       "1                                   0                            0   \n",
       "2                                   1                            0   \n",
       "3                                   0                            0   \n",
       "4                                   0                            0   \n",
       "...                               ...                          ...   \n",
       "32576                               1                            0   \n",
       "32577                               1                            0   \n",
       "32578                               0                            0   \n",
       "32579                               1                            0   \n",
       "32580                               0                            0   \n",
       "\n",
       "       person_home_ownership_OWN  person_home_ownership_RENT  \\\n",
       "0                              0                           1   \n",
       "1                              1                           0   \n",
       "2                              0                           0   \n",
       "3                              0                           1   \n",
       "4                              0                           1   \n",
       "...                          ...                         ...   \n",
       "32576                          0                           0   \n",
       "32577                          0                           0   \n",
       "32578                          0                           1   \n",
       "32579                          0                           0   \n",
       "32580                          0                           1   \n",
       "\n",
       "       loan_intent_DEBTCONSOLIDATION  loan_intent_EDUCATION  \\\n",
       "0                                  0                      0   \n",
       "1                                  0                      1   \n",
       "2                                  0                      0   \n",
       "3                                  0                      0   \n",
       "4                                  0                      0   \n",
       "...                              ...                    ...   \n",
       "32576                              0                      0   \n",
       "32577                              0                      0   \n",
       "32578                              0                      0   \n",
       "32579                              0                      0   \n",
       "32580                              0                      0   \n",
       "\n",
       "       loan_intent_HOMEIMPROVEMENT  loan_intent_MEDICAL  loan_intent_PERSONAL  \\\n",
       "0                                0                    0                     1   \n",
       "1                                0                    0                     0   \n",
       "2                                0                    1                     0   \n",
       "3                                0                    1                     0   \n",
       "4                                0                    1                     0   \n",
       "...                            ...                  ...                   ...   \n",
       "32576                            0                    0                     1   \n",
       "32577                            0                    0                     1   \n",
       "32578                            1                    0                     0   \n",
       "32579                            0                    0                     1   \n",
       "32580                            0                    1                     0   \n",
       "\n",
       "       loan_intent_VENTURE  \n",
       "0                        0  \n",
       "1                        0  \n",
       "2                        0  \n",
       "3                        0  \n",
       "4                        0  \n",
       "...                    ...  \n",
       "32576                    0  \n",
       "32577                    0  \n",
       "32578                    0  \n",
       "32579                    0  \n",
       "32580                    0  \n",
       "\n",
       "[32581 rows x 20 columns]"
      ]
     },
     "execution_count": 10,
     "metadata": {},
     "output_type": "execute_result"
    }
   ],
   "source": [
    "df['loan_grade']=y1\n",
    "df['cb_person_default_on_file']=y2\n",
    "df"
   ]
  },
  {
   "cell_type": "markdown",
   "id": "7f9080f7",
   "metadata": {},
   "source": [
    "Першу частину лабораторної виконано"
   ]
  },
  {
   "cell_type": "markdown",
   "id": "101e0ec3",
   "metadata": {},
   "source": [
    "Датасет другої частини - https://archive.ics.uci.edu/dataset/172/ozone+level+detection"
   ]
  },
  {
   "cell_type": "code",
   "execution_count": 12,
   "id": "ef7fbd4c",
   "metadata": {},
   "outputs": [],
   "source": [
    "from ucimlrepo import fetch_ucirepo "
   ]
  },
  {
   "cell_type": "code",
   "execution_count": 16,
   "id": "3a10e11f",
   "metadata": {},
   "outputs": [],
   "source": [
    "ozone_level_detection = fetch_ucirepo(id=172)\n",
    "X = ozone_level_detection.data.features \n",
    "y = ozone_level_detection.data.targets "
   ]
  },
  {
   "cell_type": "code",
   "execution_count": 17,
   "id": "0157c590",
   "metadata": {},
   "outputs": [
    {
     "data": {
      "text/html": [
       "<div>\n",
       "<style scoped>\n",
       "    .dataframe tbody tr th:only-of-type {\n",
       "        vertical-align: middle;\n",
       "    }\n",
       "\n",
       "    .dataframe tbody tr th {\n",
       "        vertical-align: top;\n",
       "    }\n",
       "\n",
       "    .dataframe thead th {\n",
       "        text-align: right;\n",
       "    }\n",
       "</style>\n",
       "<table border=\"1\" class=\"dataframe\">\n",
       "  <thead>\n",
       "    <tr style=\"text-align: right;\">\n",
       "      <th></th>\n",
       "      <th>WSR0</th>\n",
       "      <th>WSR1</th>\n",
       "      <th>WSR2</th>\n",
       "      <th>WSR3</th>\n",
       "      <th>WSR4</th>\n",
       "      <th>WSR5</th>\n",
       "      <th>WSR6</th>\n",
       "      <th>WSR7</th>\n",
       "      <th>WSR8</th>\n",
       "      <th>WSR9</th>\n",
       "      <th>...</th>\n",
       "      <th>T50</th>\n",
       "      <th>RH50</th>\n",
       "      <th>U50</th>\n",
       "      <th>V50</th>\n",
       "      <th>HT50</th>\n",
       "      <th>KI</th>\n",
       "      <th>TT</th>\n",
       "      <th>SLP</th>\n",
       "      <th>SLP_</th>\n",
       "      <th>Precp</th>\n",
       "    </tr>\n",
       "  </thead>\n",
       "  <tbody>\n",
       "    <tr>\n",
       "      <th>0</th>\n",
       "      <td>0.8</td>\n",
       "      <td>1.8</td>\n",
       "      <td>2.4</td>\n",
       "      <td>2.1</td>\n",
       "      <td>2.0</td>\n",
       "      <td>2.1</td>\n",
       "      <td>1.5</td>\n",
       "      <td>1.7</td>\n",
       "      <td>1.9</td>\n",
       "      <td>2.3</td>\n",
       "      <td>...</td>\n",
       "      <td>-15.5</td>\n",
       "      <td>0.15</td>\n",
       "      <td>10.67</td>\n",
       "      <td>-1.56</td>\n",
       "      <td>5795.0</td>\n",
       "      <td>-12.10</td>\n",
       "      <td>17.90</td>\n",
       "      <td>10330.0</td>\n",
       "      <td>-55.0</td>\n",
       "      <td>0.00</td>\n",
       "    </tr>\n",
       "    <tr>\n",
       "      <th>1</th>\n",
       "      <td>2.8</td>\n",
       "      <td>3.2</td>\n",
       "      <td>3.3</td>\n",
       "      <td>2.7</td>\n",
       "      <td>3.3</td>\n",
       "      <td>3.2</td>\n",
       "      <td>2.9</td>\n",
       "      <td>2.8</td>\n",
       "      <td>3.1</td>\n",
       "      <td>3.4</td>\n",
       "      <td>...</td>\n",
       "      <td>-14.5</td>\n",
       "      <td>0.48</td>\n",
       "      <td>8.39</td>\n",
       "      <td>3.84</td>\n",
       "      <td>5805.0</td>\n",
       "      <td>14.05</td>\n",
       "      <td>29.00</td>\n",
       "      <td>10275.0</td>\n",
       "      <td>-55.0</td>\n",
       "      <td>0.00</td>\n",
       "    </tr>\n",
       "    <tr>\n",
       "      <th>2</th>\n",
       "      <td>2.9</td>\n",
       "      <td>2.8</td>\n",
       "      <td>2.6</td>\n",
       "      <td>2.1</td>\n",
       "      <td>2.2</td>\n",
       "      <td>2.5</td>\n",
       "      <td>2.5</td>\n",
       "      <td>2.7</td>\n",
       "      <td>2.2</td>\n",
       "      <td>2.5</td>\n",
       "      <td>...</td>\n",
       "      <td>-15.9</td>\n",
       "      <td>0.60</td>\n",
       "      <td>6.94</td>\n",
       "      <td>9.80</td>\n",
       "      <td>5790.0</td>\n",
       "      <td>17.90</td>\n",
       "      <td>41.30</td>\n",
       "      <td>10235.0</td>\n",
       "      <td>-40.0</td>\n",
       "      <td>0.00</td>\n",
       "    </tr>\n",
       "    <tr>\n",
       "      <th>3</th>\n",
       "      <td>4.7</td>\n",
       "      <td>3.8</td>\n",
       "      <td>3.7</td>\n",
       "      <td>3.8</td>\n",
       "      <td>2.9</td>\n",
       "      <td>3.1</td>\n",
       "      <td>2.8</td>\n",
       "      <td>2.5</td>\n",
       "      <td>2.4</td>\n",
       "      <td>3.1</td>\n",
       "      <td>...</td>\n",
       "      <td>-16.8</td>\n",
       "      <td>0.49</td>\n",
       "      <td>8.73</td>\n",
       "      <td>10.54</td>\n",
       "      <td>5775.0</td>\n",
       "      <td>31.15</td>\n",
       "      <td>51.70</td>\n",
       "      <td>10195.0</td>\n",
       "      <td>-40.0</td>\n",
       "      <td>2.08</td>\n",
       "    </tr>\n",
       "    <tr>\n",
       "      <th>4</th>\n",
       "      <td>2.6</td>\n",
       "      <td>2.1</td>\n",
       "      <td>1.6</td>\n",
       "      <td>1.4</td>\n",
       "      <td>0.9</td>\n",
       "      <td>1.5</td>\n",
       "      <td>1.2</td>\n",
       "      <td>1.4</td>\n",
       "      <td>1.3</td>\n",
       "      <td>1.4</td>\n",
       "      <td>...</td>\n",
       "      <td>NaN</td>\n",
       "      <td>NaN</td>\n",
       "      <td>NaN</td>\n",
       "      <td>NaN</td>\n",
       "      <td>NaN</td>\n",
       "      <td>NaN</td>\n",
       "      <td>NaN</td>\n",
       "      <td>NaN</td>\n",
       "      <td>NaN</td>\n",
       "      <td>0.58</td>\n",
       "    </tr>\n",
       "    <tr>\n",
       "      <th>...</th>\n",
       "      <td>...</td>\n",
       "      <td>...</td>\n",
       "      <td>...</td>\n",
       "      <td>...</td>\n",
       "      <td>...</td>\n",
       "      <td>...</td>\n",
       "      <td>...</td>\n",
       "      <td>...</td>\n",
       "      <td>...</td>\n",
       "      <td>...</td>\n",
       "      <td>...</td>\n",
       "      <td>...</td>\n",
       "      <td>...</td>\n",
       "      <td>...</td>\n",
       "      <td>...</td>\n",
       "      <td>...</td>\n",
       "      <td>...</td>\n",
       "      <td>...</td>\n",
       "      <td>...</td>\n",
       "      <td>...</td>\n",
       "      <td>...</td>\n",
       "    </tr>\n",
       "    <tr>\n",
       "      <th>5065</th>\n",
       "      <td>0.3</td>\n",
       "      <td>0.4</td>\n",
       "      <td>0.5</td>\n",
       "      <td>0.5</td>\n",
       "      <td>0.2</td>\n",
       "      <td>0.3</td>\n",
       "      <td>0.4</td>\n",
       "      <td>0.4</td>\n",
       "      <td>1.3</td>\n",
       "      <td>2.2</td>\n",
       "      <td>...</td>\n",
       "      <td>-12.4</td>\n",
       "      <td>0.07</td>\n",
       "      <td>7.93</td>\n",
       "      <td>-4.41</td>\n",
       "      <td>5800.0</td>\n",
       "      <td>-25.60</td>\n",
       "      <td>21.80</td>\n",
       "      <td>10295.0</td>\n",
       "      <td>65.0</td>\n",
       "      <td>0.00</td>\n",
       "    </tr>\n",
       "    <tr>\n",
       "      <th>5066</th>\n",
       "      <td>1.0</td>\n",
       "      <td>1.4</td>\n",
       "      <td>1.1</td>\n",
       "      <td>1.7</td>\n",
       "      <td>1.5</td>\n",
       "      <td>1.7</td>\n",
       "      <td>1.8</td>\n",
       "      <td>1.5</td>\n",
       "      <td>2.1</td>\n",
       "      <td>2.4</td>\n",
       "      <td>...</td>\n",
       "      <td>-12.0</td>\n",
       "      <td>0.04</td>\n",
       "      <td>5.95</td>\n",
       "      <td>-1.14</td>\n",
       "      <td>5845.0</td>\n",
       "      <td>-19.40</td>\n",
       "      <td>19.10</td>\n",
       "      <td>10310.0</td>\n",
       "      <td>15.0</td>\n",
       "      <td>0.00</td>\n",
       "    </tr>\n",
       "    <tr>\n",
       "      <th>5067</th>\n",
       "      <td>0.8</td>\n",
       "      <td>0.8</td>\n",
       "      <td>1.2</td>\n",
       "      <td>0.9</td>\n",
       "      <td>0.4</td>\n",
       "      <td>0.6</td>\n",
       "      <td>0.8</td>\n",
       "      <td>1.1</td>\n",
       "      <td>1.5</td>\n",
       "      <td>1.5</td>\n",
       "      <td>...</td>\n",
       "      <td>-11.8</td>\n",
       "      <td>0.06</td>\n",
       "      <td>7.80</td>\n",
       "      <td>-0.64</td>\n",
       "      <td>5845.0</td>\n",
       "      <td>-9.60</td>\n",
       "      <td>35.20</td>\n",
       "      <td>10275.0</td>\n",
       "      <td>-35.0</td>\n",
       "      <td>0.00</td>\n",
       "    </tr>\n",
       "    <tr>\n",
       "      <th>5068</th>\n",
       "      <td>1.3</td>\n",
       "      <td>0.9</td>\n",
       "      <td>1.5</td>\n",
       "      <td>1.2</td>\n",
       "      <td>1.6</td>\n",
       "      <td>1.8</td>\n",
       "      <td>1.1</td>\n",
       "      <td>1.0</td>\n",
       "      <td>1.9</td>\n",
       "      <td>2.0</td>\n",
       "      <td>...</td>\n",
       "      <td>-10.8</td>\n",
       "      <td>0.25</td>\n",
       "      <td>7.72</td>\n",
       "      <td>-0.89</td>\n",
       "      <td>5845.0</td>\n",
       "      <td>-19.60</td>\n",
       "      <td>34.20</td>\n",
       "      <td>10245.0</td>\n",
       "      <td>-30.0</td>\n",
       "      <td>0.05</td>\n",
       "    </tr>\n",
       "    <tr>\n",
       "      <th>5069</th>\n",
       "      <td>1.5</td>\n",
       "      <td>1.3</td>\n",
       "      <td>1.8</td>\n",
       "      <td>1.4</td>\n",
       "      <td>1.2</td>\n",
       "      <td>1.7</td>\n",
       "      <td>1.6</td>\n",
       "      <td>1.4</td>\n",
       "      <td>1.6</td>\n",
       "      <td>3.0</td>\n",
       "      <td>...</td>\n",
       "      <td>-11.9</td>\n",
       "      <td>0.54</td>\n",
       "      <td>13.07</td>\n",
       "      <td>9.15</td>\n",
       "      <td>5820.0</td>\n",
       "      <td>1.95</td>\n",
       "      <td>39.35</td>\n",
       "      <td>10220.0</td>\n",
       "      <td>-25.0</td>\n",
       "      <td>0.00</td>\n",
       "    </tr>\n",
       "  </tbody>\n",
       "</table>\n",
       "<p>5070 rows × 72 columns</p>\n",
       "</div>"
      ],
      "text/plain": [
       "      WSR0  WSR1  WSR2  WSR3  WSR4  WSR5  WSR6  WSR7  WSR8  WSR9  ...   T50  \\\n",
       "0      0.8   1.8   2.4   2.1   2.0   2.1   1.5   1.7   1.9   2.3  ... -15.5   \n",
       "1      2.8   3.2   3.3   2.7   3.3   3.2   2.9   2.8   3.1   3.4  ... -14.5   \n",
       "2      2.9   2.8   2.6   2.1   2.2   2.5   2.5   2.7   2.2   2.5  ... -15.9   \n",
       "3      4.7   3.8   3.7   3.8   2.9   3.1   2.8   2.5   2.4   3.1  ... -16.8   \n",
       "4      2.6   2.1   1.6   1.4   0.9   1.5   1.2   1.4   1.3   1.4  ...   NaN   \n",
       "...    ...   ...   ...   ...   ...   ...   ...   ...   ...   ...  ...   ...   \n",
       "5065   0.3   0.4   0.5   0.5   0.2   0.3   0.4   0.4   1.3   2.2  ... -12.4   \n",
       "5066   1.0   1.4   1.1   1.7   1.5   1.7   1.8   1.5   2.1   2.4  ... -12.0   \n",
       "5067   0.8   0.8   1.2   0.9   0.4   0.6   0.8   1.1   1.5   1.5  ... -11.8   \n",
       "5068   1.3   0.9   1.5   1.2   1.6   1.8   1.1   1.0   1.9   2.0  ... -10.8   \n",
       "5069   1.5   1.3   1.8   1.4   1.2   1.7   1.6   1.4   1.6   3.0  ... -11.9   \n",
       "\n",
       "      RH50    U50    V50    HT50     KI     TT      SLP  SLP_  Precp  \n",
       "0     0.15  10.67  -1.56  5795.0 -12.10  17.90  10330.0 -55.0   0.00  \n",
       "1     0.48   8.39   3.84  5805.0  14.05  29.00  10275.0 -55.0   0.00  \n",
       "2     0.60   6.94   9.80  5790.0  17.90  41.30  10235.0 -40.0   0.00  \n",
       "3     0.49   8.73  10.54  5775.0  31.15  51.70  10195.0 -40.0   2.08  \n",
       "4      NaN    NaN    NaN     NaN    NaN    NaN      NaN   NaN   0.58  \n",
       "...    ...    ...    ...     ...    ...    ...      ...   ...    ...  \n",
       "5065  0.07   7.93  -4.41  5800.0 -25.60  21.80  10295.0  65.0   0.00  \n",
       "5066  0.04   5.95  -1.14  5845.0 -19.40  19.10  10310.0  15.0   0.00  \n",
       "5067  0.06   7.80  -0.64  5845.0  -9.60  35.20  10275.0 -35.0   0.00  \n",
       "5068  0.25   7.72  -0.89  5845.0 -19.60  34.20  10245.0 -30.0   0.05  \n",
       "5069  0.54  13.07   9.15  5820.0   1.95  39.35  10220.0 -25.0   0.00  \n",
       "\n",
       "[5070 rows x 72 columns]"
      ]
     },
     "execution_count": 17,
     "metadata": {},
     "output_type": "execute_result"
    }
   ],
   "source": [
    "X"
   ]
  },
  {
   "cell_type": "code",
   "execution_count": 20,
   "id": "c0227056",
   "metadata": {},
   "outputs": [
    {
     "data": {
      "text/plain": [
       "Index(['WSR0', 'WSR1', 'WSR2', 'WSR3', 'WSR4', 'WSR5', 'WSR6', 'WSR7', 'WSR8',\n",
       "       'WSR9', 'WSR10', 'WSR11', 'WSR12', 'WSR13', 'WSR14', 'WSR15', 'WSR16',\n",
       "       'WSR17', 'WSR18', 'WSR19', 'WSR20', 'WSR21', 'WSR22', 'WSR23', 'WSR_PK',\n",
       "       'WSR_AV', 'T0', 'T1', 'T2', 'T3', 'T4', 'T5', 'T6', 'T7', 'T8', 'T9',\n",
       "       'T10', 'T11', 'T12', 'T13', 'T14', 'T15', 'T16', 'T17', 'T18', 'T19',\n",
       "       'T20', 'T21', 'T22', 'T23', 'T_PK', 'T_AV', 'T85', 'RH85', 'U85', 'V85',\n",
       "       'HT85', 'T70', 'RH70', 'U70', 'V70', 'HT70', 'T50', 'RH50', 'U50',\n",
       "       'V50', 'HT50', 'KI', 'TT', 'SLP', 'SLP_', 'Precp'],\n",
       "      dtype='object')"
      ]
     },
     "execution_count": 20,
     "metadata": {},
     "output_type": "execute_result"
    }
   ],
   "source": [
    "X.columns"
   ]
  },
  {
   "cell_type": "code",
   "execution_count": 22,
   "id": "37a6c639",
   "metadata": {},
   "outputs": [
    {
     "data": {
      "text/plain": [
       "WSR0     598\n",
       "WSR1     584\n",
       "WSR2     588\n",
       "WSR3     584\n",
       "WSR4     586\n",
       "        ... \n",
       "KI       272\n",
       "TT       250\n",
       "SLP      190\n",
       "SLP_     317\n",
       "Precp      4\n",
       "Length: 72, dtype: int64"
      ]
     },
     "execution_count": 22,
     "metadata": {},
     "output_type": "execute_result"
    }
   ],
   "source": [
    "X.isna().sum()"
   ]
  },
  {
   "cell_type": "code",
   "execution_count": 23,
   "id": "7897dd20",
   "metadata": {},
   "outputs": [],
   "source": [
    "data = X.values"
   ]
  },
  {
   "cell_type": "code",
   "execution_count": 25,
   "id": "583a8130",
   "metadata": {},
   "outputs": [],
   "source": [
    "from sklearn.experimental import enable_iterative_imputer\n",
    "from sklearn.impute import KNNImputer, SimpleImputer, IterativeImputer"
   ]
  },
  {
   "cell_type": "markdown",
   "id": "8ebd5b42",
   "metadata": {},
   "source": [
    "Simple imputer"
   ]
  },
  {
   "cell_type": "markdown",
   "id": "b722436e",
   "metadata": {},
   "source": [
    "Замінимо середніми значенням"
   ]
  },
  {
   "cell_type": "code",
   "execution_count": 30,
   "id": "25b42567",
   "metadata": {},
   "outputs": [
    {
     "data": {
      "text/plain": [
       "array([[ 8.0000e-01,  1.8000e+00,  2.4000e+00, ...,  1.0330e+04,\n",
       "        -5.5000e+01,  0.0000e+00],\n",
       "       [ 2.8000e+00,  3.2000e+00,  3.3000e+00, ...,  1.0275e+04,\n",
       "        -5.5000e+01,  0.0000e+00],\n",
       "       [ 2.9000e+00,  2.8000e+00,  2.6000e+00, ...,  1.0235e+04,\n",
       "        -4.0000e+01,  0.0000e+00],\n",
       "       ...,\n",
       "       [ 8.0000e-01,  8.0000e-01,  1.2000e+00, ...,  1.0275e+04,\n",
       "        -3.5000e+01,  0.0000e+00],\n",
       "       [ 1.3000e+00,  9.0000e-01,  1.5000e+00, ...,  1.0245e+04,\n",
       "        -3.0000e+01,  5.0000e-02],\n",
       "       [ 1.5000e+00,  1.3000e+00,  1.8000e+00, ...,  1.0220e+04,\n",
       "        -2.5000e+01,  0.0000e+00]])"
      ]
     },
     "execution_count": 30,
     "metadata": {},
     "output_type": "execute_result"
    }
   ],
   "source": [
    "imr1 = SimpleImputer(missing_values=np.nan, strategy='mean')\n",
    "imr1 = imr1.fit(data)\n",
    "imputed_data = imr1.transform(data)\n",
    "imputed_data"
   ]
  },
  {
   "cell_type": "markdown",
   "id": "2b8f2e91",
   "metadata": {},
   "source": [
    "Виведемо значення"
   ]
  },
  {
   "cell_type": "code",
   "execution_count": 31,
   "id": "400db662",
   "metadata": {},
   "outputs": [
    {
     "data": {
      "text/plain": [
       "array([ 1.64072004e+00,  1.58689255e+00,  1.54609549e+00,  1.52683905e+00,\n",
       "        1.52285905e+00,  1.54266607e+00,  1.63805704e+00,  2.04772930e+00,\n",
       "        2.53975501e+00,  2.84815391e+00,  2.97033823e+00,  3.01676326e+00,\n",
       "        3.04448399e+00,  3.10716511e+00,  3.17801513e+00,  3.23152512e+00,\n",
       "        3.19335851e+00,  2.93530195e+00,  2.56204980e+00,  2.28631297e+00,\n",
       "        2.09031682e+00,  1.93925067e+00,  1.80474273e+00,  1.70958445e+00,\n",
       "        4.17256852e+00,  2.31549514e+00,  1.86527505e+01,  1.83513830e+01,\n",
       "        1.80645443e+01,  1.78249894e+01,  1.76149724e+01,  1.74792092e+01,\n",
       "        1.75932185e+01,  1.84221088e+01,  1.97831064e+01,  2.12211489e+01,\n",
       "        2.24666383e+01,  2.33975032e+01,  2.40291347e+01,  2.44369667e+01,\n",
       "        2.47088348e+01,  2.47237862e+01,  2.44010634e+01,  2.36354654e+01,\n",
       "        2.25131221e+01,  2.14289305e+01,  2.06186701e+01,  2.00349149e+01,\n",
       "        1.95060819e+01,  1.90657289e+01,  2.55817585e+01,  2.08441525e+01,\n",
       "        1.35778120e+01,  5.77273663e-01,  2.13757962e+00,  1.66518471e+00,\n",
       "        1.53150195e+03,  5.93358731e+00,  4.06373967e-01,  5.45836417e+00,\n",
       "        9.95132464e-01,  3.14544179e+03, -1.05098347e+01,  3.04692946e-01,\n",
       "        9.86986452e+00,  8.31004301e-01,  5.81885988e+03,  1.05109316e+01,\n",
       "        3.73883506e+01,  1.01641895e+04, -1.25184094e-01,  3.71879195e-01])"
      ]
     },
     "execution_count": 31,
     "metadata": {},
     "output_type": "execute_result"
    }
   ],
   "source": [
    "imr1.statistics_"
   ]
  },
  {
   "cell_type": "markdown",
   "id": "ff1019a9",
   "metadata": {},
   "source": [
    "Тепер візьмемо медіанне значення для заміни"
   ]
  },
  {
   "cell_type": "code",
   "execution_count": 32,
   "id": "77e2f5c0",
   "metadata": {},
   "outputs": [
    {
     "data": {
      "text/plain": [
       "array([ 1.64072004e+00,  1.58689255e+00,  1.54609549e+00,  1.52683905e+00,\n",
       "        1.52285905e+00,  1.54266607e+00,  1.63805704e+00,  2.04772930e+00,\n",
       "        2.53975501e+00,  2.84815391e+00,  2.97033823e+00,  3.01676326e+00,\n",
       "        3.04448399e+00,  3.10716511e+00,  3.17801513e+00,  3.23152512e+00,\n",
       "        3.19335851e+00,  2.93530195e+00,  2.56204980e+00,  2.28631297e+00,\n",
       "        2.09031682e+00,  1.93925067e+00,  1.80474273e+00,  1.70958445e+00,\n",
       "        4.17256852e+00,  2.31549514e+00,  1.86527505e+01,  1.83513830e+01,\n",
       "        1.80645443e+01,  1.78249894e+01,  1.76149724e+01,  1.74792092e+01,\n",
       "        1.75932185e+01,  1.84221088e+01,  1.97831064e+01,  2.12211489e+01,\n",
       "        2.24666383e+01,  2.33975032e+01,  2.40291347e+01,  2.44369667e+01,\n",
       "        2.47088348e+01,  2.47237862e+01,  2.44010634e+01,  2.36354654e+01,\n",
       "        2.25131221e+01,  2.14289305e+01,  2.06186701e+01,  2.00349149e+01,\n",
       "        1.95060819e+01,  1.90657289e+01,  2.55817585e+01,  2.08441525e+01,\n",
       "        1.35778120e+01,  5.77273663e-01,  2.13757962e+00,  1.66518471e+00,\n",
       "        1.53150195e+03,  5.93358731e+00,  4.06373967e-01,  5.45836417e+00,\n",
       "        9.95132464e-01,  3.14544179e+03, -1.05098347e+01,  3.04692946e-01,\n",
       "        9.86986452e+00,  8.31004301e-01,  5.81885988e+03,  1.05109316e+01,\n",
       "        3.73883506e+01,  1.01641895e+04, -1.25184094e-01,  3.71879195e-01])"
      ]
     },
     "execution_count": 32,
     "metadata": {},
     "output_type": "execute_result"
    }
   ],
   "source": [
    "imr2 = SimpleImputer(missing_values=np.nan, strategy='median')\n",
    "imr2 = imr1.fit(data)\n",
    "imputed_data = imr1.transform(data)\n",
    "imr2.statistics_"
   ]
  },
  {
   "cell_type": "code",
   "execution_count": 34,
   "id": "acaf6041",
   "metadata": {},
   "outputs": [
    {
     "data": {
      "text/plain": [
       "WSR0     0\n",
       "WSR1     0\n",
       "WSR2     0\n",
       "WSR3     0\n",
       "WSR4     0\n",
       "        ..\n",
       "KI       0\n",
       "TT       0\n",
       "SLP      0\n",
       "SLP_     0\n",
       "Precp    0\n",
       "Length: 72, dtype: int64"
      ]
     },
     "execution_count": 34,
     "metadata": {},
     "output_type": "execute_result"
    }
   ],
   "source": [
    "df1 = pd.DataFrame(imputed_data,columns=X.columns)\n",
    "df1.isna().sum()"
   ]
  },
  {
   "cell_type": "markdown",
   "id": "4cfed256",
   "metadata": {},
   "source": [
    "Тепер замінимо значенням, яке зустрічається найчастіше"
   ]
  },
  {
   "cell_type": "code",
   "execution_count": 38,
   "id": "4d8ab5ce",
   "metadata": {},
   "outputs": [
    {
     "data": {
      "text/plain": [
       "array([ 1.64072004e+00,  1.58689255e+00,  1.54609549e+00,  1.52683905e+00,\n",
       "        1.52285905e+00,  1.54266607e+00,  1.63805704e+00,  2.04772930e+00,\n",
       "        2.53975501e+00,  2.84815391e+00,  2.97033823e+00,  3.01676326e+00,\n",
       "        3.04448399e+00,  3.10716511e+00,  3.17801513e+00,  3.23152512e+00,\n",
       "        3.19335851e+00,  2.93530195e+00,  2.56204980e+00,  2.28631297e+00,\n",
       "        2.09031682e+00,  1.93925067e+00,  1.80474273e+00,  1.70958445e+00,\n",
       "        4.17256852e+00,  2.31549514e+00,  1.86527505e+01,  1.83513830e+01,\n",
       "        1.80645443e+01,  1.78249894e+01,  1.76149724e+01,  1.74792092e+01,\n",
       "        1.75932185e+01,  1.84221088e+01,  1.97831064e+01,  2.12211489e+01,\n",
       "        2.24666383e+01,  2.33975032e+01,  2.40291347e+01,  2.44369667e+01,\n",
       "        2.47088348e+01,  2.47237862e+01,  2.44010634e+01,  2.36354654e+01,\n",
       "        2.25131221e+01,  2.14289305e+01,  2.06186701e+01,  2.00349149e+01,\n",
       "        1.95060819e+01,  1.90657289e+01,  2.55817585e+01,  2.08441525e+01,\n",
       "        1.35778120e+01,  5.77273663e-01,  2.13757962e+00,  1.66518471e+00,\n",
       "        1.53150195e+03,  5.93358731e+00,  4.06373967e-01,  5.45836417e+00,\n",
       "        9.95132464e-01,  3.14544179e+03, -1.05098347e+01,  3.04692946e-01,\n",
       "        9.86986452e+00,  8.31004301e-01,  5.81885988e+03,  1.05109316e+01,\n",
       "        3.73883506e+01,  1.01641895e+04, -1.25184094e-01,  3.71879195e-01])"
      ]
     },
     "execution_count": 38,
     "metadata": {},
     "output_type": "execute_result"
    }
   ],
   "source": [
    "imr3 = SimpleImputer(missing_values=np.nan, strategy='most_frequent')\n",
    "imr3 = imr1.fit(data)\n",
    "imputed_data = imr3.transform(data)\n",
    "imr3.statistics_"
   ]
  },
  {
   "cell_type": "code",
   "execution_count": 37,
   "id": "c0e1baf2",
   "metadata": {},
   "outputs": [
    {
     "data": {
      "text/plain": [
       "WSR0     0\n",
       "WSR1     0\n",
       "WSR2     0\n",
       "WSR3     0\n",
       "WSR4     0\n",
       "        ..\n",
       "KI       0\n",
       "TT       0\n",
       "SLP      0\n",
       "SLP_     0\n",
       "Precp    0\n",
       "Length: 72, dtype: int64"
      ]
     },
     "execution_count": 37,
     "metadata": {},
     "output_type": "execute_result"
    }
   ],
   "source": [
    "df1 = pd.DataFrame(imputed_data,columns=X.columns)\n",
    "df1.isna().sum()"
   ]
  },
  {
   "cell_type": "markdown",
   "id": "965f9461",
   "metadata": {},
   "source": [
    "Розглянемо заміну константою, спершу нулем"
   ]
  },
  {
   "cell_type": "code",
   "execution_count": 41,
   "id": "694920f3",
   "metadata": {},
   "outputs": [
    {
     "data": {
      "text/plain": [
       "array([0., 0., 0., 0., 0., 0., 0., 0., 0., 0., 0., 0., 0., 0., 0., 0., 0.,\n",
       "       0., 0., 0., 0., 0., 0., 0., 0., 0., 0., 0., 0., 0., 0., 0., 0., 0.,\n",
       "       0., 0., 0., 0., 0., 0., 0., 0., 0., 0., 0., 0., 0., 0., 0., 0., 0.,\n",
       "       0., 0., 0., 0., 0., 0., 0., 0., 0., 0., 0., 0., 0., 0., 0., 0., 0.,\n",
       "       0., 0., 0., 0.])"
      ]
     },
     "execution_count": 41,
     "metadata": {},
     "output_type": "execute_result"
    }
   ],
   "source": [
    "imr4 = SimpleImputer(missing_values=np.nan, strategy='constant',fill_value=0)\n",
    "imr4 = imr4.fit(data)\n",
    "imputed_data = imr4.transform(data)\n",
    "imr4.statistics_"
   ]
  },
  {
   "cell_type": "code",
   "execution_count": 42,
   "id": "d7cedce0",
   "metadata": {},
   "outputs": [
    {
     "data": {
      "text/plain": [
       "WSR0     0\n",
       "WSR1     0\n",
       "WSR2     0\n",
       "WSR3     0\n",
       "WSR4     0\n",
       "        ..\n",
       "KI       0\n",
       "TT       0\n",
       "SLP      0\n",
       "SLP_     0\n",
       "Precp    0\n",
       "Length: 72, dtype: int64"
      ]
     },
     "execution_count": 42,
     "metadata": {},
     "output_type": "execute_result"
    }
   ],
   "source": [
    "df1 = pd.DataFrame(imputed_data,columns=X.columns)\n",
    "df1.isna().sum()"
   ]
  },
  {
   "cell_type": "markdown",
   "id": "8641c9f8",
   "metadata": {},
   "source": [
    "Можна побачити, що все все заміняється нулем у обох колонках. Тепер розглянемо зі значенням 10"
   ]
  },
  {
   "cell_type": "code",
   "execution_count": 43,
   "id": "cb8c0ebf",
   "metadata": {},
   "outputs": [
    {
     "data": {
      "text/plain": [
       "array([10., 10., 10., 10., 10., 10., 10., 10., 10., 10., 10., 10., 10.,\n",
       "       10., 10., 10., 10., 10., 10., 10., 10., 10., 10., 10., 10., 10.,\n",
       "       10., 10., 10., 10., 10., 10., 10., 10., 10., 10., 10., 10., 10.,\n",
       "       10., 10., 10., 10., 10., 10., 10., 10., 10., 10., 10., 10., 10.,\n",
       "       10., 10., 10., 10., 10., 10., 10., 10., 10., 10., 10., 10., 10.,\n",
       "       10., 10., 10., 10., 10., 10., 10.])"
      ]
     },
     "execution_count": 43,
     "metadata": {},
     "output_type": "execute_result"
    }
   ],
   "source": [
    "imr5 = SimpleImputer(missing_values=np.nan, strategy='constant',fill_value=10)\n",
    "imr5 = imr5.fit(data)\n",
    "imputed_data = imr5.transform(data)\n",
    "imr5.statistics_"
   ]
  },
  {
   "cell_type": "code",
   "execution_count": 44,
   "id": "aa9ac4bc",
   "metadata": {},
   "outputs": [
    {
     "data": {
      "text/plain": [
       "WSR0     0\n",
       "WSR1     0\n",
       "WSR2     0\n",
       "WSR3     0\n",
       "WSR4     0\n",
       "        ..\n",
       "KI       0\n",
       "TT       0\n",
       "SLP      0\n",
       "SLP_     0\n",
       "Precp    0\n",
       "Length: 72, dtype: int64"
      ]
     },
     "execution_count": 44,
     "metadata": {},
     "output_type": "execute_result"
    }
   ],
   "source": [
    "df1 = pd.DataFrame(imputed_data,columns=X.columns)\n",
    "df1.isna().sum()"
   ]
  },
  {
   "cell_type": "markdown",
   "id": "6388e7d8",
   "metadata": {},
   "source": [
    "Отримані результати для заміни на 10. Спробуємо ще заміну на 7."
   ]
  },
  {
   "cell_type": "code",
   "execution_count": 45,
   "id": "871ee022",
   "metadata": {},
   "outputs": [
    {
     "data": {
      "text/plain": [
       "array([7., 7., 7., 7., 7., 7., 7., 7., 7., 7., 7., 7., 7., 7., 7., 7., 7.,\n",
       "       7., 7., 7., 7., 7., 7., 7., 7., 7., 7., 7., 7., 7., 7., 7., 7., 7.,\n",
       "       7., 7., 7., 7., 7., 7., 7., 7., 7., 7., 7., 7., 7., 7., 7., 7., 7.,\n",
       "       7., 7., 7., 7., 7., 7., 7., 7., 7., 7., 7., 7., 7., 7., 7., 7., 7.,\n",
       "       7., 7., 7., 7.])"
      ]
     },
     "execution_count": 45,
     "metadata": {},
     "output_type": "execute_result"
    }
   ],
   "source": [
    "imr6 = SimpleImputer(missing_values=np.nan, strategy='constant',fill_value=7)\n",
    "imr6 = imr6.fit(data)\n",
    "imputed_data = imr6.transform(data)\n",
    "imr6.statistics_"
   ]
  },
  {
   "cell_type": "code",
   "execution_count": 46,
   "id": "90be3a23",
   "metadata": {},
   "outputs": [
    {
     "data": {
      "text/plain": [
       "WSR0     0\n",
       "WSR1     0\n",
       "WSR2     0\n",
       "WSR3     0\n",
       "WSR4     0\n",
       "        ..\n",
       "KI       0\n",
       "TT       0\n",
       "SLP      0\n",
       "SLP_     0\n",
       "Precp    0\n",
       "Length: 72, dtype: int64"
      ]
     },
     "execution_count": 46,
     "metadata": {},
     "output_type": "execute_result"
    }
   ],
   "source": [
    "df1 = pd.DataFrame(imputed_data,columns=X.columns)\n",
    "df1.isna().sum()"
   ]
  },
  {
   "cell_type": "markdown",
   "id": "9360d9ee",
   "metadata": {},
   "source": [
    "Далі розглянемо KNNImputer."
   ]
  },
  {
   "cell_type": "code",
   "execution_count": 49,
   "id": "212c9aea",
   "metadata": {},
   "outputs": [
    {
     "data": {
      "text/plain": [
       "72"
      ]
     },
     "execution_count": 49,
     "metadata": {},
     "output_type": "execute_result"
    }
   ],
   "source": [
    "knn = KNNImputer(n_neighbors=2)\n",
    "knn= knn.fit(data)\n",
    "imputed_data = knn.transform(data)\n",
    "knn.n_features_in_"
   ]
  },
  {
   "cell_type": "code",
   "execution_count": null,
   "id": "14d76c8c",
   "metadata": {},
   "outputs": [],
   "source": []
  },
  {
   "cell_type": "code",
   "execution_count": 51,
   "id": "e125ebe9",
   "metadata": {},
   "outputs": [
    {
     "data": {
      "text/plain": [
       "WSR0     0\n",
       "WSR1     0\n",
       "WSR2     0\n",
       "WSR3     0\n",
       "WSR4     0\n",
       "        ..\n",
       "KI       0\n",
       "TT       0\n",
       "SLP      0\n",
       "SLP_     0\n",
       "Precp    0\n",
       "Length: 72, dtype: int64"
      ]
     },
     "execution_count": 51,
     "metadata": {},
     "output_type": "execute_result"
    }
   ],
   "source": [
    "df1 = pd.DataFrame(imputed_data,columns=X.columns)\n",
    "df1.isna().sum()"
   ]
  },
  {
   "cell_type": "code",
   "execution_count": 52,
   "id": "ad1ac4cc",
   "metadata": {},
   "outputs": [
    {
     "data": {
      "text/plain": [
       "WSR0     0\n",
       "WSR1     0\n",
       "WSR2     0\n",
       "WSR3     0\n",
       "WSR4     0\n",
       "        ..\n",
       "KI       0\n",
       "TT       0\n",
       "SLP      0\n",
       "SLP_     0\n",
       "Precp    0\n",
       "Length: 72, dtype: int64"
      ]
     },
     "execution_count": 52,
     "metadata": {},
     "output_type": "execute_result"
    }
   ],
   "source": [
    "knn = KNNImputer(n_neighbors=5)\n",
    "knn= knn.fit(data)\n",
    "imputed_data = knn.transform(data)\n",
    "df1 = pd.DataFrame(imputed_data,columns=X.columns)\n",
    "df1.isna().sum()"
   ]
  },
  {
   "cell_type": "code",
   "execution_count": 53,
   "id": "6a6d0eb2",
   "metadata": {},
   "outputs": [
    {
     "data": {
      "text/plain": [
       "WSR0     0\n",
       "WSR1     0\n",
       "WSR2     0\n",
       "WSR3     0\n",
       "WSR4     0\n",
       "        ..\n",
       "KI       0\n",
       "TT       0\n",
       "SLP      0\n",
       "SLP_     0\n",
       "Precp    0\n",
       "Length: 72, dtype: int64"
      ]
     },
     "execution_count": 53,
     "metadata": {},
     "output_type": "execute_result"
    }
   ],
   "source": [
    "imr2_2 = KNNImputer(n_neighbors=5,weights='distance')\n",
    "imr2_2= imr2_2.fit(data)\n",
    "imputed_data2 = imr2_2.transform(data)\n",
    "df1 = pd.DataFrame(imputed_data,columns=X.columns)\n",
    "df1.isna().sum()"
   ]
  },
  {
   "cell_type": "markdown",
   "id": "fb2523a9",
   "metadata": {},
   "source": [
    "Тепер розглянемо IterativeImputer, для початку зі стандартними параметрами estimator = BayesianRidge, initial strategy = mean, тобто середнє"
   ]
  },
  {
   "cell_type": "code",
   "execution_count": 54,
   "id": "0dda32b2",
   "metadata": {},
   "outputs": [
    {
     "data": {
      "text/plain": [
       "WSR0     0\n",
       "WSR1     0\n",
       "WSR2     0\n",
       "WSR3     0\n",
       "WSR4     0\n",
       "        ..\n",
       "KI       0\n",
       "TT       0\n",
       "SLP      0\n",
       "SLP_     0\n",
       "Precp    0\n",
       "Length: 72, dtype: int64"
      ]
     },
     "execution_count": 54,
     "metadata": {},
     "output_type": "execute_result"
    }
   ],
   "source": [
    "imr_i1 = IterativeImputer()\n",
    "imputed_data_i1 = imr_i1.fit_transform(data)\n",
    "df1 = pd.DataFrame(imputed_data,columns=X.columns)\n",
    "df1.isna().sum()"
   ]
  },
  {
   "cell_type": "markdown",
   "id": "049d0235",
   "metadata": {},
   "source": [
    "Далі розглянемо інші варіанти initial strategy"
   ]
  },
  {
   "cell_type": "code",
   "execution_count": 55,
   "id": "7d61335e",
   "metadata": {},
   "outputs": [
    {
     "name": "stderr",
     "output_type": "stream",
     "text": [
      "C:\\Users\\Borya\\AppData\\Local\\Programs\\Python\\Python311\\Lib\\site-packages\\sklearn\\impute\\_iterative.py:713: ConvergenceWarning: [IterativeImputer] Early stopping criterion not reached.\n",
      "  warnings.warn(\n"
     ]
    },
    {
     "data": {
      "text/plain": [
       "WSR0     0\n",
       "WSR1     0\n",
       "WSR2     0\n",
       "WSR3     0\n",
       "WSR4     0\n",
       "        ..\n",
       "KI       0\n",
       "TT       0\n",
       "SLP      0\n",
       "SLP_     0\n",
       "Precp    0\n",
       "Length: 72, dtype: int64"
      ]
     },
     "execution_count": 55,
     "metadata": {},
     "output_type": "execute_result"
    }
   ],
   "source": [
    "imr_i22 = IterativeImputer(initial_strategy='most_frequent')\n",
    "imputed_data_i22 = imr_i22.fit_transform(data)\n",
    "df1 = pd.DataFrame(imputed_data_i22,columns=X.columns)\n",
    "df1.isna().sum()"
   ]
  },
  {
   "cell_type": "code",
   "execution_count": 56,
   "id": "e30d6893",
   "metadata": {},
   "outputs": [
    {
     "name": "stderr",
     "output_type": "stream",
     "text": [
      "C:\\Users\\Borya\\AppData\\Local\\Programs\\Python\\Python311\\Lib\\site-packages\\sklearn\\impute\\_iterative.py:713: ConvergenceWarning: [IterativeImputer] Early stopping criterion not reached.\n",
      "  warnings.warn(\n"
     ]
    },
    {
     "data": {
      "text/plain": [
       "WSR0     0\n",
       "WSR1     0\n",
       "WSR2     0\n",
       "WSR3     0\n",
       "WSR4     0\n",
       "        ..\n",
       "KI       0\n",
       "TT       0\n",
       "SLP      0\n",
       "SLP_     0\n",
       "Precp    0\n",
       "Length: 72, dtype: int64"
      ]
     },
     "execution_count": 56,
     "metadata": {},
     "output_type": "execute_result"
    }
   ],
   "source": [
    "imr_i33 = IterativeImputer(initial_strategy='median')\n",
    "imputed_data_i33 = imr_i33.fit_transform(data)\n",
    "df1 = pd.DataFrame(imputed_data_i33,columns=X.columns)\n",
    "df1.isna().sum()"
   ]
  },
  {
   "cell_type": "markdown",
   "id": "12c8a7de",
   "metadata": {},
   "source": [
    "Перейдемо до оцінки з конвеєрів. Було обрано KNeighborsRegressor у якості оцінщика та MSE"
   ]
  },
  {
   "cell_type": "code",
   "execution_count": 57,
   "id": "5ae4ee09",
   "metadata": {},
   "outputs": [],
   "source": [
    "from sklearn.linear_model import BayesianRidge, Ridge\n",
    "from sklearn.model_selection import cross_val_score\n",
    "from sklearn.pipeline import make_pipeline\n",
    "from sklearn.kernel_approximation import Nystroem\n",
    "from sklearn.ensemble import RandomForestRegressor\n",
    "from sklearn.neighbors import KNeighborsRegressor"
   ]
  },
  {
   "cell_type": "code",
   "execution_count": 75,
   "id": "1cbafd30",
   "metadata": {},
   "outputs": [],
   "source": [
    "scores = np.zeros([12])"
   ]
  },
  {
   "cell_type": "code",
   "execution_count": 66,
   "id": "8ba2de04",
   "metadata": {},
   "outputs": [
    {
     "data": {
      "text/plain": [
       "array([-0.05106114, -0.03021696])"
      ]
     },
     "execution_count": 66,
     "metadata": {},
     "output_type": "execute_result"
    }
   ],
   "source": [
    "pipeline = make_pipeline(\n",
    "    SimpleImputer(strategy='mean'),\n",
    "    KNeighborsRegressor()\n",
    ")\n",
    "\n",
    "scores = cross_val_score(pipeline, data, y, scoring='neg_mean_squared_error', cv=2)"
   ]
  },
  {
   "cell_type": "code",
   "execution_count": 70,
   "id": "7f6b9580",
   "metadata": {},
   "outputs": [],
   "source": [
    "estimators = [SimpleImputer(strategy='mean'), \n",
    "              SimpleImputer(missing_values=np.nan, strategy='median'),\n",
    "              SimpleImputer(missing_values=np.nan, strategy='most_frequent'),\n",
    "                SimpleImputer(missing_values=np.nan, strategy='constant',fill_value=0),\n",
    "                SimpleImputer(missing_values=np.nan, strategy='constant',fill_value=10),\n",
    "                SimpleImputer(missing_values=np.nan, strategy='constant',fill_value=7),\n",
    "                KNNImputer(n_neighbors=2), KNNImputer(n_neighbors=5),\n",
    "                KNNImputer(n_neighbors=5,weights='distance'),\n",
    "                IterativeImputer(),\n",
    "                IterativeImputer(initial_strategy='most_frequent'),\n",
    "                IterativeImputer(initial_strategy='median')\n",
    "               ]"
   ]
  },
  {
   "cell_type": "code",
   "execution_count": 76,
   "id": "6e4babf4",
   "metadata": {},
   "outputs": [
    {
     "name": "stderr",
     "output_type": "stream",
     "text": [
      "C:\\Users\\Borya\\AppData\\Local\\Programs\\Python\\Python311\\Lib\\site-packages\\sklearn\\impute\\_iterative.py:713: ConvergenceWarning: [IterativeImputer] Early stopping criterion not reached.\n",
      "  warnings.warn(\n",
      "C:\\Users\\Borya\\AppData\\Local\\Programs\\Python\\Python311\\Lib\\site-packages\\sklearn\\impute\\_iterative.py:713: ConvergenceWarning: [IterativeImputer] Early stopping criterion not reached.\n",
      "  warnings.warn(\n",
      "C:\\Users\\Borya\\AppData\\Local\\Programs\\Python\\Python311\\Lib\\site-packages\\sklearn\\impute\\_iterative.py:713: ConvergenceWarning: [IterativeImputer] Early stopping criterion not reached.\n",
      "  warnings.warn(\n",
      "C:\\Users\\Borya\\AppData\\Local\\Programs\\Python\\Python311\\Lib\\site-packages\\sklearn\\impute\\_iterative.py:713: ConvergenceWarning: [IterativeImputer] Early stopping criterion not reached.\n",
      "  warnings.warn(\n"
     ]
    }
   ],
   "source": [
    "for i in range(12):\n",
    "    pipeline = make_pipeline(\n",
    "    estimators[i],\n",
    "    KNeighborsRegressor()\n",
    "    )\n",
    "    scores[i] = max(cross_val_score(pipeline, data, y, scoring='neg_mean_squared_error', cv=2))*(-1)"
   ]
  },
  {
   "cell_type": "code",
   "execution_count": 77,
   "id": "66b47c8f",
   "metadata": {},
   "outputs": [
    {
     "name": "stdout",
     "output_type": "stream",
     "text": [
      "[0.03021696 0.0301854  0.0298856  0.03100592 0.03070611 0.03114793\n",
      " 0.03136884 0.03078501 0.03054832 0.030643   0.03002761 0.0301854 ]\n"
     ]
    }
   ],
   "source": [
    "print(scores)"
   ]
  },
  {
   "cell_type": "markdown",
   "id": "802b002f",
   "metadata": {},
   "source": [
    "Вище отримано оцінки роботи при різних алгоритмах по заміні пропущених значень. Тепер зробимо таблицю для виведення графіка"
   ]
  },
  {
   "cell_type": "code",
   "execution_count": 81,
   "id": "f4217c58",
   "metadata": {},
   "outputs": [],
   "source": [
    "columns = ['SimpleImputer mean', 'SimpleImputer median', 'SimpleImputer most_frequent',\n",
    "                'SimpleImputer const=0', 'SimpleImputer const=10', 'SimpleImputer const=7',\n",
    "                'KNNImputer(n_neighbors=2)', 'KNNImputer(n_neighbors=5)',\n",
    "                'KNNImputer(n_neighbors=5,distance)',\n",
    "                'IterativeImputer',\n",
    "                'IterativeImputer most_frequent',\n",
    "                'IterativeImputermedian']"
   ]
  },
  {
   "cell_type": "code",
   "execution_count": 82,
   "id": "1a117e82",
   "metadata": {},
   "outputs": [],
   "source": [
    "fdf = pd.Series(scores,index=columns)"
   ]
  },
  {
   "cell_type": "code",
   "execution_count": 84,
   "id": "260a28f5",
   "metadata": {},
   "outputs": [
    {
     "data": {
      "text/plain": [
       "<AxesSubplot: >"
      ]
     },
     "execution_count": 84,
     "metadata": {},
     "output_type": "execute_result"
    },
    {
     "data": {
      "image/png": "[encoded data removed]",
      "text/plain": [
       "<Figure size 640x480 with 1 Axes>"
      ]
     },
     "metadata": {},
     "output_type": "display_data"
    }
   ],
   "source": [
    "fdf.plot(kind = 'bar')"
   ]
  },
  {
   "cell_type": "markdown",
   "id": "c096dbf7",
   "metadata": {},
   "source": [
    "Найгірший результат - у KNNImputer з n_neighbors=2"
   ]
  },
  {
   "cell_type": "code",
   "execution_count": 85,
   "id": "142e27e4",
   "metadata": {},
   "outputs": [
    {
     "data": {
      "text/plain": [
       "0.03136883629191322"
      ]
     },
     "execution_count": 85,
     "metadata": {},
     "output_type": "execute_result"
    }
   ],
   "source": [
    "max(scores)"
   ]
  },
  {
   "cell_type": "code",
   "execution_count": 89,
   "id": "981eee69",
   "metadata": {},
   "outputs": [
    {
     "data": {
      "text/plain": [
       "'KNNImputer(n_neighbors=2)'"
      ]
     },
     "execution_count": 89,
     "metadata": {},
     "output_type": "execute_result"
    }
   ],
   "source": [
    "fdf.idxmax()"
   ]
  },
  {
   "cell_type": "markdown",
   "id": "6c88a7d0",
   "metadata": {},
   "source": [
    "Найкращий результат - SimpleImputer most_frequent"
   ]
  },
  {
   "cell_type": "code",
   "execution_count": 86,
   "id": "8fa3cb92",
   "metadata": {},
   "outputs": [
    {
     "data": {
      "text/plain": [
       "0.029885601577909274"
      ]
     },
     "execution_count": 86,
     "metadata": {},
     "output_type": "execute_result"
    }
   ],
   "source": [
    "min(scores)"
   ]
  },
  {
   "cell_type": "code",
   "execution_count": 91,
   "id": "cdbf15c1",
   "metadata": {},
   "outputs": [
    {
     "data": {
      "text/plain": [
       "'SimpleImputer most_frequent'"
      ]
     },
     "execution_count": 91,
     "metadata": {},
     "output_type": "execute_result"
    }
   ],
   "source": [
    "fdf.idxmin()"
   ]
  },
  {
   "cell_type": "markdown",
   "id": "f65609fa",
   "metadata": {},
   "source": [
    "Виведемо різницю між макс і мін"
   ]
  },
  {
   "cell_type": "code",
   "execution_count": 92,
   "id": "8017c881",
   "metadata": {},
   "outputs": [
    {
     "data": {
      "text/plain": [
       "0.0014832347140039462"
      ]
     },
     "execution_count": 92,
     "metadata": {},
     "output_type": "execute_result"
    }
   ],
   "source": [
    "max(scores)-min(scores)"
   ]
  },
  {
   "cell_type": "markdown",
   "id": "43e42cde",
   "metadata": {},
   "source": [
    "Висновки"
   ]
  },
  {
   "cell_type": "markdown",
   "id": "123ca747",
   "metadata": {},
   "source": [
    "Отже, у роботі було розглянуто два датасети. У першому було замінено номінальні та порядкові ознаки. У тому датасеті були також і пропущені значення, але вони були у числових полях і не заважали виконанню завдання першої частини, а у другій не використовувалися через проблеми з обчисленням, які я не зміг виправити"
   ]
  },
  {
   "cell_type": "markdown",
   "id": "b5696d94",
   "metadata": {},
   "source": [
    "Щодо заповнення пропущених значень, то для мого датасета найкраще себе показав simpleImputer, що заповнює значення тими, які найчастіше зустрічаються у колонці. Найгірше себе показав метод KNNimputer з кількістю сусідів 2. Варто уточнити, що різниця між ними складає близько 0.0015, тому залежно від потрібної точності методи можуть бути не так важливі. Загалом, з графіку можна побачити, що iterative imputer показав себе краще за knn imputer i всі simple imputer крім того, що використовує найчастіші значення "
   ]
  },
  {
   "cell_type": "code",
   "execution_count": null,
   "id": "ea894844",
   "metadata": {},
   "outputs": [],
   "source": []
  }
 ],
 "metadata": {
  "kernelspec": {
   "display_name": "Python 3 (ipykernel)",
   "language": "python",
   "name": "python3"
  },
  "language_info": {
   "codemirror_mode": {
    "name": "ipython",
    "version": 3
   },
   "file_extension": ".py",
   "mimetype": "text/x-python",
   "name": "python",
   "nbconvert_exporter": "python",
   "pygments_lexer": "ipython3",
   "version": "3.11.0"
  }
 },
 "nbformat": 4,
 "nbformat_minor": 5
}

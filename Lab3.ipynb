{
 "cells": [
  {
   "cell_type": "code",
   "execution_count": 55,
   "id": "b8547071",
   "metadata": {},
   "outputs": [],
   "source": [
    "import numpy as np\n",
    "import pandas as pd\n",
    "from ucimlrepo import fetch_ucirepo"
   ]
  },
  {
   "cell_type": "markdown",
   "id": "11f49a8f",
   "metadata": {},
   "source": [
    "Практикум номер 3 з дисципліни Інтелектуальний аналіз великих сховищ даних, виконав студент Ка-32МП Гулкевич борис"
   ]
  },
  {
   "cell_type": "code",
   "execution_count": 56,
   "id": "993fa430",
   "metadata": {},
   "outputs": [],
   "source": [
    "spambase = fetch_ucirepo(id=94) \n",
    "  \n",
    "# data (as pandas dataframes) \n",
    "X_s = spambase.data.features \n",
    "y_s = spambase.data.targets \n",
    "#statlog_vehicle_silhouettes = fetch_ucirepo(id=149) \n",
    "#X_s = statlog_vehicle_silhouettes.data.features \n",
    "#y_s = statlog_vehicle_silhouettes.data.targets "
   ]
  },
  {
   "cell_type": "markdown",
   "id": "f29b59eb",
   "metadata": {},
   "source": [
    "Дані - Spambase. The \"spam\" concept is diverse: advertisements for products/web sites, make money fast schemes, chain letters, pornography...\n",
    "\n",
    "The classification task for this dataset is to determine whether a given email is spam or not."
   ]
  },
  {
   "cell_type": "code",
   "execution_count": 57,
   "id": "468c6129",
   "metadata": {},
   "outputs": [],
   "source": [
    "from sklearn.model_selection import train_test_split\n",
    "X_train, X_test, y_train, y_test = \\\n",
    "    train_test_split(X_s, y_s, test_size=0.3,\n",
    "                     stratify=y_s,\n",
    "                     random_state=0)"
   ]
  },
  {
   "cell_type": "code",
   "execution_count": 58,
   "id": "1b5d59cd",
   "metadata": {},
   "outputs": [
    {
     "name": "stdout",
     "output_type": "stream",
     "text": [
      "      word_freq_make  word_freq_address  word_freq_all  word_freq_3d  \\\n",
      "0               0.00               0.64           0.64           0.0   \n",
      "1               0.21               0.28           0.50           0.0   \n",
      "2               0.06               0.00           0.71           0.0   \n",
      "3               0.00               0.00           0.00           0.0   \n",
      "4               0.00               0.00           0.00           0.0   \n",
      "...              ...                ...            ...           ...   \n",
      "4596            0.31               0.00           0.62           0.0   \n",
      "4597            0.00               0.00           0.00           0.0   \n",
      "4598            0.30               0.00           0.30           0.0   \n",
      "4599            0.96               0.00           0.00           0.0   \n",
      "4600            0.00               0.00           0.65           0.0   \n",
      "\n",
      "      word_freq_our  word_freq_over  word_freq_remove  word_freq_internet  \\\n",
      "0              0.32            0.00              0.00                0.00   \n",
      "1              0.14            0.28              0.21                0.07   \n",
      "2              1.23            0.19              0.19                0.12   \n",
      "3              0.63            0.00              0.31                0.63   \n",
      "4              0.63            0.00              0.31                0.63   \n",
      "...             ...             ...               ...                 ...   \n",
      "4596           0.00            0.31              0.00                0.00   \n",
      "4597           0.00            0.00              0.00                0.00   \n",
      "4598           0.00            0.00              0.00                0.00   \n",
      "4599           0.32            0.00              0.00                0.00   \n",
      "4600           0.00            0.00              0.00                0.00   \n",
      "\n",
      "      word_freq_order  word_freq_mail  ...  word_freq_conference  char_freq_;  \\\n",
      "0                0.00            0.00  ...                   0.0        0.000   \n",
      "1                0.00            0.94  ...                   0.0        0.000   \n",
      "2                0.64            0.25  ...                   0.0        0.010   \n",
      "3                0.31            0.63  ...                   0.0        0.000   \n",
      "4                0.31            0.63  ...                   0.0        0.000   \n",
      "...               ...             ...  ...                   ...          ...   \n",
      "4596             0.00            0.00  ...                   0.0        0.000   \n",
      "4597             0.00            0.00  ...                   0.0        0.000   \n",
      "4598             0.00            0.00  ...                   0.0        0.102   \n",
      "4599             0.00            0.00  ...                   0.0        0.000   \n",
      "4600             0.00            0.00  ...                   0.0        0.000   \n",
      "\n",
      "      char_freq_(  char_freq_[  char_freq_!  char_freq_$  char_freq_#  \\\n",
      "0           0.000          0.0        0.778        0.000        0.000   \n",
      "1           0.132          0.0        0.372        0.180        0.048   \n",
      "2           0.143          0.0        0.276        0.184        0.010   \n",
      "3           0.137          0.0        0.137        0.000        0.000   \n",
      "4           0.135          0.0        0.135        0.000        0.000   \n",
      "...           ...          ...          ...          ...          ...   \n",
      "4596        0.232          0.0        0.000        0.000        0.000   \n",
      "4597        0.000          0.0        0.353        0.000        0.000   \n",
      "4598        0.718          0.0        0.000        0.000        0.000   \n",
      "4599        0.057          0.0        0.000        0.000        0.000   \n",
      "4600        0.000          0.0        0.125        0.000        0.000   \n",
      "\n",
      "      capital_run_length_average  capital_run_length_longest  \\\n",
      "0                          3.756                          61   \n",
      "1                          5.114                         101   \n",
      "2                          9.821                         485   \n",
      "3                          3.537                          40   \n",
      "4                          3.537                          40   \n",
      "...                          ...                         ...   \n",
      "4596                       1.142                           3   \n",
      "4597                       1.555                           4   \n",
      "4598                       1.404                           6   \n",
      "4599                       1.147                           5   \n",
      "4600                       1.250                           5   \n",
      "\n",
      "      capital_run_length_total  \n",
      "0                          278  \n",
      "1                         1028  \n",
      "2                         2259  \n",
      "3                          191  \n",
      "4                          191  \n",
      "...                        ...  \n",
      "4596                        88  \n",
      "4597                        14  \n",
      "4598                       118  \n",
      "4599                        78  \n",
      "4600                        40  \n",
      "\n",
      "[4601 rows x 57 columns]\n"
     ]
    }
   ],
   "source": [
    "print(X_s)"
   ]
  },
  {
   "cell_type": "code",
   "execution_count": 59,
   "id": "f7645e60",
   "metadata": {},
   "outputs": [],
   "source": [
    "from sklearn.preprocessing import StandardScaler\n",
    "sc = StandardScaler()\n",
    "X_train_std_1 = sc.fit_transform(X_train)\n",
    "X_test_std_1 = sc.transform(X_test)"
   ]
  },
  {
   "cell_type": "code",
   "execution_count": 60,
   "id": "baedf73a",
   "metadata": {},
   "outputs": [
    {
     "data": {
      "image/png": "[encoded data removed]",
      "text/plain": [
       "<Figure size 640x480 with 1 Axes>"
      ]
     },
     "metadata": {},
     "output_type": "display_data"
    }
   ],
   "source": [
    "cov_mat = np.cov(X_train_std.T)\n",
    "\n",
    "eigen_vals, eigen_vecs = np.linalg.eig(cov_mat)\n",
    "tot = sum(eigen_vals)\n",
    "var_exp = [(i / tot) for i in sorted(eigen_vals, reverse=True)]\n",
    "cum_var_exp = np.cumsum(var_exp)\n",
    "\n",
    "import matplotlib.pyplot as plt\n",
    "\n",
    "\n",
    "plt.bar(range(0, 57), var_exp, alpha=0.5, align='center',\n",
    "        label='Індивідуальна пояснена дисперсія')\n",
    "plt.step(range(0, 57), cum_var_exp, where='mid',\n",
    "         label='Кумулятивна пояснена дисперсія')\n",
    "plt.ylabel('Коефіцієнт поясненої дисперсії')\n",
    "plt.xlabel('Індекс головного компонента')\n",
    "plt.legend(loc='best')\n",
    "plt.tight_layout()\n",
    "# plt.savefig('images/PCA_LDA_02.png', dpi=300)\n",
    "plt.show()"
   ]
  },
  {
   "cell_type": "markdown",
   "id": "d976e0b6",
   "metadata": {},
   "source": [
    "Розглянувши графік вище я думаю обрати число компонентів у кількості 25. Візьмемо алгоритм PCA."
   ]
  },
  {
   "cell_type": "code",
   "execution_count": 61,
   "id": "e073d5bf",
   "metadata": {},
   "outputs": [],
   "source": [
    "from sklearn.decomposition import PCA\n",
    "\n",
    "X_train_std = X_train_std_1\n",
    "X_test_std = X_test_std_1"
   ]
  },
  {
   "cell_type": "code",
   "execution_count": 62,
   "id": "7fa2cb57",
   "metadata": {},
   "outputs": [
    {
     "name": "stdout",
     "output_type": "stream",
     "text": [
      "(3220, 25)\n"
     ]
    }
   ],
   "source": [
    "pca = PCA(n_components =25, svd_solver = 'full')\n",
    "pca.fit(X_train_std)\n",
    "X_train_pca = pca.fit_transform(X_train_std)\n",
    "X_test_pca = pca.transform(X_test_std)\n",
    "print(X_train_pca.shape)"
   ]
  },
  {
   "cell_type": "code",
   "execution_count": 77,
   "id": "9ff1cba4",
   "metadata": {
    "scrolled": true
   },
   "outputs": [
    {
     "data": {
      "text/plain": [
       "0.6665343011704373"
      ]
     },
     "execution_count": 77,
     "metadata": {},
     "output_type": "execute_result"
    }
   ],
   "source": [
    "pca.explained_variance_ratio_.sum()"
   ]
  },
  {
   "cell_type": "markdown",
   "id": "7fbff3b4",
   "metadata": {},
   "source": [
    "Для порівняння методів зменшення розмірності використовуватимемо логістичну регресію, яка буде однакова для всіх алгоритмів"
   ]
  },
  {
   "cell_type": "code",
   "execution_count": 64,
   "id": "50ae2da7",
   "metadata": {},
   "outputs": [
    {
     "name": "stderr",
     "output_type": "stream",
     "text": [
      "C:\\Users\\Borya\\AppData\\Local\\Programs\\Python\\Python311\\Lib\\site-packages\\sklearn\\utils\\validation.py:1111: DataConversionWarning: A column-vector y was passed when a 1d array was expected. Please change the shape of y to (n_samples, ), for example using ravel().\n",
      "  y = column_or_1d(y, warn=True)\n"
     ]
    },
    {
     "data": {
      "text/plain": [
       "0.9203475742215785"
      ]
     },
     "execution_count": 64,
     "metadata": {},
     "output_type": "execute_result"
    }
   ],
   "source": [
    "from sklearn.linear_model import LogisticRegression\n",
    "\n",
    "lr = LogisticRegression(multi_class='ovr', random_state=1, solver='lbfgs')\n",
    "lr = lr.fit(X_train_pca, y_train)\n",
    "lr.score(X_test_pca, y_test)"
   ]
  },
  {
   "cell_type": "markdown",
   "id": "9a5d215e",
   "metadata": {},
   "source": [
    "Incremental PCA"
   ]
  },
  {
   "cell_type": "code",
   "execution_count": 73,
   "id": "247809d0",
   "metadata": {},
   "outputs": [],
   "source": [
    "from sklearn.decomposition import IncrementalPCA"
   ]
  },
  {
   "cell_type": "code",
   "execution_count": 75,
   "id": "dbeb45f8",
   "metadata": {},
   "outputs": [],
   "source": [
    "ipca = IncrementalPCA(n_components=25)\n",
    "ipca.fit(X_train_std)\n",
    "X_train_ipca=ipca.transform(X_train_std)\n",
    "X_test_ipca = ipca.transform(X_test_std)"
   ]
  },
  {
   "cell_type": "code",
   "execution_count": 78,
   "id": "6c62cd26",
   "metadata": {},
   "outputs": [
    {
     "data": {
      "text/plain": [
       "0.6338104887355465"
      ]
     },
     "execution_count": 78,
     "metadata": {},
     "output_type": "execute_result"
    }
   ],
   "source": [
    "ipca.explained_variance_ratio_.sum()"
   ]
  },
  {
   "cell_type": "code",
   "execution_count": 76,
   "id": "15758dcd",
   "metadata": {},
   "outputs": [
    {
     "name": "stderr",
     "output_type": "stream",
     "text": [
      "C:\\Users\\Borya\\AppData\\Local\\Programs\\Python\\Python311\\Lib\\site-packages\\sklearn\\utils\\validation.py:1111: DataConversionWarning: A column-vector y was passed when a 1d array was expected. Please change the shape of y to (n_samples, ), for example using ravel().\n",
      "  y = column_or_1d(y, warn=True)\n"
     ]
    },
    {
     "data": {
      "text/plain": [
       "0.9181752353367125"
      ]
     },
     "execution_count": 76,
     "metadata": {},
     "output_type": "execute_result"
    }
   ],
   "source": [
    "lr = LogisticRegression(multi_class='ovr', random_state=1, solver='lbfgs')\n",
    "lr = lr.fit(X_train_ipca, y_train)\n",
    "lr.score(X_test_ipca, y_test)"
   ]
  },
  {
   "cell_type": "markdown",
   "id": "026359f7",
   "metadata": {},
   "source": [
    "У цьому алгоритмі важливо пам'ятати про параметр batch_size, при вказуванні якого ваша кількість параметрів має бути менша або рівна. У фінальному варіанті я його не використовую, але варто пам'ятати. Загалом, даний алгоритм в кінці на тому ж естіматорі дав нижчу якість ніж просто PCA."
   ]
  },
  {
   "cell_type": "markdown",
   "id": "000b7be7",
   "metadata": {},
   "source": [
    "PCA з рандомізованим розкладом за власними числами"
   ]
  },
  {
   "cell_type": "markdown",
   "id": "c4a6e2c3",
   "metadata": {},
   "source": [
    "Truncated singular value decomposition and latent semantic analysis"
   ]
  },
  {
   "cell_type": "code",
   "execution_count": 80,
   "id": "10b38513",
   "metadata": {},
   "outputs": [],
   "source": [
    "from sklearn.decomposition import TruncatedSVD\n",
    "from scipy.sparse import csr_matrix\n",
    "svd = TruncatedSVD(n_components=25, random_state=42)\n",
    "X_train_svd = svd.fit_transform(X_train_std)\n",
    "X_test_svd = svd.transform(X_test_std)"
   ]
  },
  {
   "cell_type": "code",
   "execution_count": 81,
   "id": "7e77914c",
   "metadata": {},
   "outputs": [
    {
     "name": "stderr",
     "output_type": "stream",
     "text": [
      "C:\\Users\\Borya\\AppData\\Local\\Programs\\Python\\Python311\\Lib\\site-packages\\sklearn\\utils\\validation.py:1111: DataConversionWarning: A column-vector y was passed when a 1d array was expected. Please change the shape of y to (n_samples, ), for example using ravel().\n",
      "  y = column_or_1d(y, warn=True)\n"
     ]
    },
    {
     "data": {
      "text/plain": [
       "0.9167270094134685"
      ]
     },
     "execution_count": 81,
     "metadata": {},
     "output_type": "execute_result"
    }
   ],
   "source": [
    "lr = LogisticRegression(multi_class='ovr', random_state=1, solver='lbfgs')\n",
    "lr = lr.fit(X_train_svd, y_train)\n",
    "lr.score(X_test_svd, y_test)"
   ]
  },
  {
   "cell_type": "markdown",
   "id": "439585b9",
   "metadata": {},
   "source": [
    "Для нашого датасету отримано ще гірший результат ніж у попередніх алгоритмах"
   ]
  },
  {
   "cell_type": "markdown",
   "id": "ab214a34",
   "metadata": {},
   "source": [
    "Розріджений метод головних компонент"
   ]
  },
  {
   "cell_type": "markdown",
   "id": "ac122222",
   "metadata": {},
   "source": [
    "SparsePCA "
   ]
  },
  {
   "cell_type": "code",
   "execution_count": 83,
   "id": "fbfc8e3b",
   "metadata": {},
   "outputs": [],
   "source": [
    "from sklearn.decomposition import SparsePCA\n",
    "\n",
    "sparce_pca = SparsePCA(n_components=25, random_state=0)\n",
    "X_train_sparce = sparce_pca.fit_transform(X_train_std)\n",
    "X_test_sparce = sparce_pca.transform(X_test_std)"
   ]
  },
  {
   "cell_type": "code",
   "execution_count": 84,
   "id": "ecffe416",
   "metadata": {},
   "outputs": [
    {
     "name": "stderr",
     "output_type": "stream",
     "text": [
      "C:\\Users\\Borya\\AppData\\Local\\Programs\\Python\\Python311\\Lib\\site-packages\\sklearn\\utils\\validation.py:1111: DataConversionWarning: A column-vector y was passed when a 1d array was expected. Please change the shape of y to (n_samples, ), for example using ravel().\n",
      "  y = column_or_1d(y, warn=True)\n"
     ]
    },
    {
     "data": {
      "text/plain": [
       "0.9123823316437364"
      ]
     },
     "execution_count": 84,
     "metadata": {},
     "output_type": "execute_result"
    }
   ],
   "source": [
    "lr = LogisticRegression(multi_class='ovr', random_state=1, solver='lbfgs')\n",
    "lr = lr.fit(X_train_sparce, y_train)\n",
    "lr.score(X_test_sparce, y_test)"
   ]
  },
  {
   "cell_type": "markdown",
   "id": "9a044db5",
   "metadata": {},
   "source": [
    "MiniBatchSparsePCA"
   ]
  },
  {
   "cell_type": "code",
   "execution_count": 85,
   "id": "b3c0e274",
   "metadata": {},
   "outputs": [],
   "source": [
    "from sklearn.decomposition import MiniBatchSparsePCA\n",
    "\n",
    "sparce_mpca = MiniBatchSparsePCA(n_components=25, random_state=0)\n",
    "X_train_msparce = sparce_mpca.fit_transform(X_train_std)\n",
    "X_test_msparce = sparce_mpca.transform(X_test_std)"
   ]
  },
  {
   "cell_type": "code",
   "execution_count": 86,
   "id": "f0b07394",
   "metadata": {},
   "outputs": [
    {
     "name": "stderr",
     "output_type": "stream",
     "text": [
      "C:\\Users\\Borya\\AppData\\Local\\Programs\\Python\\Python311\\Lib\\site-packages\\sklearn\\utils\\validation.py:1111: DataConversionWarning: A column-vector y was passed when a 1d array was expected. Please change the shape of y to (n_samples, ), for example using ravel().\n",
      "  y = column_or_1d(y, warn=True)\n"
     ]
    },
    {
     "data": {
      "text/plain": [
       "0.9152787834902245"
      ]
     },
     "execution_count": 86,
     "metadata": {},
     "output_type": "execute_result"
    }
   ],
   "source": [
    "lr = LogisticRegression(multi_class='ovr', random_state=1, solver='lbfgs')\n",
    "lr = lr.fit(X_train_msparce, y_train)\n",
    "lr.score(X_test_msparce, y_test)"
   ]
  },
  {
   "cell_type": "markdown",
   "id": "971b4127",
   "metadata": {},
   "source": [
    "MiniBatchSparsePCA спрацював швидше за просто SparsePCA та на моєму датасеті показав кращий результат, хоча звісно дещо гірший за перший алгоритм рса"
   ]
  },
  {
   "cell_type": "markdown",
   "id": "fea75e48",
   "metadata": {},
   "source": [
    "Kernel PCA"
   ]
  },
  {
   "cell_type": "code",
   "execution_count": 87,
   "id": "e7bdf638",
   "metadata": {},
   "outputs": [],
   "source": [
    "from sklearn.decomposition import KernelPCA"
   ]
  },
  {
   "cell_type": "code",
   "execution_count": 88,
   "id": "22e86a03",
   "metadata": {},
   "outputs": [
    {
     "data": {
      "text/plain": [
       "(3220, 25)"
      ]
     },
     "execution_count": 88,
     "metadata": {},
     "output_type": "execute_result"
    }
   ],
   "source": [
    "kernel_pca = KernelPCA(\n",
    "    n_components=25, kernel=\"rbf\", gamma=10, fit_inverse_transform=True, alpha=0.1\n",
    ")\n",
    "X_train_kpca = pca.fit_transform(X_train_std)\n",
    "X_test_kpca = pca.transform(X_test_std)\n",
    "X_train_kpca.shape"
   ]
  },
  {
   "cell_type": "code",
   "execution_count": 89,
   "id": "dce87a73",
   "metadata": {},
   "outputs": [
    {
     "name": "stderr",
     "output_type": "stream",
     "text": [
      "C:\\Users\\Borya\\AppData\\Local\\Programs\\Python\\Python311\\Lib\\site-packages\\sklearn\\utils\\validation.py:1111: DataConversionWarning: A column-vector y was passed when a 1d array was expected. Please change the shape of y to (n_samples, ), for example using ravel().\n",
      "  y = column_or_1d(y, warn=True)\n"
     ]
    },
    {
     "data": {
      "text/plain": [
       "0.9203475742215785"
      ]
     },
     "execution_count": 89,
     "metadata": {},
     "output_type": "execute_result"
    }
   ],
   "source": [
    "lr = LogisticRegression(multi_class='ovr', random_state=1, solver='lbfgs')\n",
    "lr = lr.fit(X_train_kpca, y_train)\n",
    "lr.score(X_test_kpca, y_test)"
   ]
  },
  {
   "cell_type": "markdown",
   "id": "b0072e0d",
   "metadata": {},
   "source": [
    "Показує результат ідентичний першому розглянутому алгоритму рса. Я не помітив якоїсь великої різниці з рса у швидкодії на своїх даних, але нібито як цей алгоритм має програвати. Можливо це краще проявляється на інших даних."
   ]
  },
  {
   "cell_type": "markdown",
   "id": "b2d1dbe8",
   "metadata": {},
   "source": [
    "Dictionary Learning"
   ]
  },
  {
   "cell_type": "code",
   "execution_count": 91,
   "id": "664984d1",
   "metadata": {},
   "outputs": [],
   "source": [
    "from sklearn.decomposition import DictionaryLearning"
   ]
  },
  {
   "cell_type": "code",
   "execution_count": 92,
   "id": "a8d16e60",
   "metadata": {},
   "outputs": [
    {
     "data": {
      "text/plain": [
       "(3220, 25)"
      ]
     },
     "execution_count": 92,
     "metadata": {},
     "output_type": "execute_result"
    }
   ],
   "source": [
    "dict_learner = DictionaryLearning(n_components=25, transform_algorithm='lasso_lars', transform_alpha=0.1,random_state=42)\n",
    "X_train_dict = dict_learner.fit_transform(X_train_std)\n",
    "X_test_dict = dict_learner.transform(X_test_std)\n",
    "X_train_dict.shape"
   ]
  },
  {
   "cell_type": "code",
   "execution_count": 93,
   "id": "fcffd7a0",
   "metadata": {},
   "outputs": [
    {
     "name": "stderr",
     "output_type": "stream",
     "text": [
      "C:\\Users\\Borya\\AppData\\Local\\Programs\\Python\\Python311\\Lib\\site-packages\\sklearn\\utils\\validation.py:1111: DataConversionWarning: A column-vector y was passed when a 1d array was expected. Please change the shape of y to (n_samples, ), for example using ravel().\n",
      "  y = column_or_1d(y, warn=True)\n"
     ]
    },
    {
     "data": {
      "text/plain": [
       "0.9000724112961622"
      ]
     },
     "execution_count": 93,
     "metadata": {},
     "output_type": "execute_result"
    }
   ],
   "source": [
    "lr = LogisticRegression(multi_class='ovr', random_state=1, solver='lbfgs')\n",
    "lr = lr.fit(X_train_dict, y_train)\n",
    "lr.score(X_test_dict, y_test)"
   ]
  },
  {
   "cell_type": "markdown",
   "id": "37531b0a",
   "metadata": {},
   "source": [
    "Для словникового навчання було отримано результат гірший за усі попередні результати на моїх даних"
   ]
  },
  {
   "cell_type": "markdown",
   "id": "362a5c15",
   "metadata": {},
   "source": [
    "MiniBatchDictionaryLearning"
   ]
  },
  {
   "cell_type": "code",
   "execution_count": 94,
   "id": "284e731d",
   "metadata": {},
   "outputs": [
    {
     "data": {
      "text/plain": [
       "(3220, 25)"
      ]
     },
     "execution_count": 94,
     "metadata": {},
     "output_type": "execute_result"
    }
   ],
   "source": [
    "from sklearn.decomposition import MiniBatchDictionaryLearning\n",
    "\n",
    "mdict_learner = MiniBatchDictionaryLearning(n_components=25, batch_size=5, \n",
    "                                           transform_algorithm='lasso_lars',transform_alpha=0.1, \n",
    "                                           random_state=42)\n",
    "\n",
    "X_train_mdict = mdict_learner.fit_transform(X_train_std)\n",
    "X_test_mdict = mdict_learner.transform(X_test_std)\n",
    "X_train_mdict.shape"
   ]
  },
  {
   "cell_type": "code",
   "execution_count": 95,
   "id": "c60c34a6",
   "metadata": {},
   "outputs": [
    {
     "name": "stderr",
     "output_type": "stream",
     "text": [
      "C:\\Users\\Borya\\AppData\\Local\\Programs\\Python\\Python311\\Lib\\site-packages\\sklearn\\utils\\validation.py:1111: DataConversionWarning: A column-vector y was passed when a 1d array was expected. Please change the shape of y to (n_samples, ), for example using ravel().\n",
      "  y = column_or_1d(y, warn=True)\n"
     ]
    },
    {
     "data": {
      "text/plain": [
       "0.9044170890658942"
      ]
     },
     "execution_count": 95,
     "metadata": {},
     "output_type": "execute_result"
    }
   ],
   "source": [
    "lr = LogisticRegression(multi_class='ovr', random_state=1, solver='lbfgs')\n",
    "lr = lr.fit(X_train_mdict, y_train)\n",
    "lr.score(X_test_mdict, y_test)"
   ]
  },
  {
   "cell_type": "markdown",
   "id": "e069e182",
   "metadata": {},
   "source": [
    "У MiniBatchDictionaryLearning відбулося дуже невелике покращення, яке попри все не міняє думки про поки найгірший результат серед усіх алгоритмів, до чого додається їхній довший час на обробку взятих мною даних"
   ]
  },
  {
   "cell_type": "markdown",
   "id": "34315e6b",
   "metadata": {},
   "source": [
    "Factor Analysis"
   ]
  },
  {
   "cell_type": "code",
   "execution_count": 96,
   "id": "c7b78225",
   "metadata": {},
   "outputs": [
    {
     "data": {
      "text/plain": [
       "(3220, 25)"
      ]
     },
     "execution_count": 96,
     "metadata": {},
     "output_type": "execute_result"
    }
   ],
   "source": [
    "from sklearn.decomposition import FactorAnalysis\n",
    "\n",
    "fa = FactorAnalysis(n_components=25, random_state=0)\n",
    "X_train_fa = fa.fit_transform(X_train_std)\n",
    "X_test_fa = fa.transform(X_test_std)\n",
    "X_train_fa.shape"
   ]
  },
  {
   "cell_type": "code",
   "execution_count": 97,
   "id": "be74649c",
   "metadata": {},
   "outputs": [
    {
     "name": "stderr",
     "output_type": "stream",
     "text": [
      "C:\\Users\\Borya\\AppData\\Local\\Programs\\Python\\Python311\\Lib\\site-packages\\sklearn\\utils\\validation.py:1111: DataConversionWarning: A column-vector y was passed when a 1d array was expected. Please change the shape of y to (n_samples, ), for example using ravel().\n",
      "  y = column_or_1d(y, warn=True)\n"
     ]
    },
    {
     "data": {
      "text/plain": [
       "0.9145546705286025"
      ]
     },
     "execution_count": 97,
     "metadata": {},
     "output_type": "execute_result"
    }
   ],
   "source": [
    "lr = LogisticRegression(multi_class='ovr', random_state=1, solver='lbfgs')\n",
    "lr = lr.fit(X_train_fa, y_train)\n",
    "lr.score(X_test_fa, y_test)"
   ]
  },
  {
   "cell_type": "markdown",
   "id": "8dbe358a",
   "metadata": {},
   "source": [
    "У факторного аналізу результат кращий за словниковий аналіз (у порівнянні), але поки гірше за PCA i KernelPCA. При цьому час роботи на взятих мною даних є дуже хорошиим"
   ]
  },
  {
   "cell_type": "markdown",
   "id": "20437cfe",
   "metadata": {},
   "source": [
    "Independent component analysis"
   ]
  },
  {
   "cell_type": "markdown",
   "id": "74ca965b",
   "metadata": {},
   "source": [
    "У sklearn представлено швидким алгоритмом FastICA"
   ]
  },
  {
   "cell_type": "code",
   "execution_count": 100,
   "id": "2d41488a",
   "metadata": {},
   "outputs": [
    {
     "data": {
      "text/plain": [
       "(3220, 25)"
      ]
     },
     "execution_count": 100,
     "metadata": {},
     "output_type": "execute_result"
    }
   ],
   "source": [
    "from sklearn.decomposition import FastICA\n",
    "\n",
    "fica = FastICA(n_components=25, random_state=0, whiten='unit-variance')\n",
    "X_train_fica = fica.fit_transform(X_train_std)\n",
    "X_test_fica = fica.transform(X_test_std)\n",
    "X_train_fica.shape"
   ]
  },
  {
   "cell_type": "code",
   "execution_count": 102,
   "id": "42621750",
   "metadata": {},
   "outputs": [
    {
     "name": "stderr",
     "output_type": "stream",
     "text": [
      "C:\\Users\\Borya\\AppData\\Local\\Programs\\Python\\Python311\\Lib\\site-packages\\sklearn\\utils\\validation.py:1111: DataConversionWarning: A column-vector y was passed when a 1d array was expected. Please change the shape of y to (n_samples, ), for example using ravel().\n",
      "  y = column_or_1d(y, warn=True)\n"
     ]
    },
    {
     "data": {
      "text/plain": [
       "0.9196234612599565"
      ]
     },
     "execution_count": 102,
     "metadata": {},
     "output_type": "execute_result"
    }
   ],
   "source": [
    "lr = LogisticRegression(multi_class='ovr', random_state=1, solver='lbfgs')\n",
    "lr = lr.fit(X_train_fica, y_train)\n",
    "lr.score(X_test_fica, y_test)"
   ]
  },
  {
   "cell_type": "markdown",
   "id": "db60f75e",
   "metadata": {},
   "source": [
    "FastICA поки що найближче підійшов до результатів PCA та KernelPCA, переважаючі інші поки що розглянуті алгоритми. Швидкість роботи на взятих даних теж висока"
   ]
  },
  {
   "cell_type": "markdown",
   "id": "758a7e66",
   "metadata": {},
   "source": [
    "Метод матричної факторизації "
   ]
  },
  {
   "cell_type": "code",
   "execution_count": 103,
   "id": "8b208fbe",
   "metadata": {},
   "outputs": [
    {
     "data": {
      "text/plain": [
       "(3220, 25)"
      ]
     },
     "execution_count": 103,
     "metadata": {},
     "output_type": "execute_result"
    }
   ],
   "source": [
    "from sklearn.decomposition import NMF\n",
    "\n",
    "nmf = NMF(n_components=25, init='random', random_state=0)\n",
    "X_train_nmf = fica.fit_transform(X_train_std)\n",
    "X_test_nmf = fica.transform(X_test_std)\n",
    "X_train_nmf.shape"
   ]
  },
  {
   "cell_type": "code",
   "execution_count": 107,
   "id": "6dd0aed8",
   "metadata": {},
   "outputs": [
    {
     "data": {
      "text/plain": [
       "0.9196234612599565"
      ]
     },
     "execution_count": 107,
     "metadata": {},
     "output_type": "execute_result"
    }
   ],
   "source": [
    "lr = LogisticRegression(multi_class='ovr', random_state=1, solver='lbfgs')\n",
    "lr = lr.fit(X_train_nmf, y_train.values.ravel())\n",
    "lr.score(X_test_nmf, y_test.values.ravel())"
   ]
  },
  {
   "cell_type": "markdown",
   "id": "78d89060",
   "metadata": {},
   "source": [
    "Результат на моїх даних такий самий як і при роботі аналізу незалежних компонент"
   ]
  },
  {
   "cell_type": "markdown",
   "id": "5a174e39",
   "metadata": {},
   "source": [
    "Скритий розподіл Дирихле"
   ]
  },
  {
   "cell_type": "code",
   "execution_count": 112,
   "id": "c828d774",
   "metadata": {},
   "outputs": [],
   "source": [
    "#from sklearn.decomposition import LatentDirichletAllocation\n",
    "\n",
    "#lda = LatentDirichletAllocation(n_components=25, random_state=0)\n",
    "#X_train_lda = lda.fit_transform(X_train_std)\n",
    "#X_test_lda = lda.transform(X_test_std)\n",
    "#X_train_lda.shape"
   ]
  },
  {
   "cell_type": "markdown",
   "id": "2dc931b7",
   "metadata": {},
   "source": [
    "ValueError: Negative values in data passed to LatentDirichletAllocation.fit"
   ]
  },
  {
   "cell_type": "code",
   "execution_count": 113,
   "id": "924af4be",
   "metadata": {},
   "outputs": [],
   "source": [
    "#lr = LogisticRegression(multi_class='ovr', random_state=1, solver='lbfgs')\n",
    "#lr = lr.fit(X_train_lda, y_train.values.ravel())\n",
    "#lr.score(X_test_lda, y_test.values.ravel())"
   ]
  },
  {
   "cell_type": "markdown",
   "id": "72600901",
   "metadata": {},
   "source": [
    "Linear Discriminant Analysis"
   ]
  },
  {
   "cell_type": "code",
   "execution_count": 114,
   "id": "e262516b",
   "metadata": {},
   "outputs": [],
   "source": [
    "from sklearn.discriminant_analysis import LinearDiscriminantAnalysis"
   ]
  },
  {
   "cell_type": "code",
   "execution_count": 119,
   "id": "3cd097ac",
   "metadata": {},
   "outputs": [
    {
     "name": "stderr",
     "output_type": "stream",
     "text": [
      "C:\\Users\\Borya\\AppData\\Local\\Programs\\Python\\Python311\\Lib\\site-packages\\sklearn\\utils\\validation.py:1111: DataConversionWarning: A column-vector y was passed when a 1d array was expected. Please change the shape of y to (n_samples, ), for example using ravel().\n",
      "  y = column_or_1d(y, warn=True)\n"
     ]
    },
    {
     "data": {
      "text/plain": [
       "(3220, 1)"
      ]
     },
     "execution_count": 119,
     "metadata": {},
     "output_type": "execute_result"
    }
   ],
   "source": [
    "lda = LinearDiscriminantAnalysis(n_components=1)\n",
    "X_train_lda = lda.fit_transform(X_train_std,y_train)\n",
    "X_test_lda = lda.transform(X_test_std)\n",
    "X_train_lda.shape"
   ]
  },
  {
   "cell_type": "code",
   "execution_count": 120,
   "id": "cf8456be",
   "metadata": {},
   "outputs": [
    {
     "data": {
      "text/plain": [
       "0.9145546705286025"
      ]
     },
     "execution_count": 120,
     "metadata": {},
     "output_type": "execute_result"
    }
   ],
   "source": [
    "lr = LogisticRegression(multi_class='ovr', random_state=1, solver='lbfgs')\n",
    "lr = lr.fit(X_train_lda, y_train.values.ravel())\n",
    "lr.score(X_test_lda, y_test.values.ravel())"
   ]
  },
  {
   "cell_type": "markdown",
   "id": "e980f945",
   "metadata": {},
   "source": [
    "Через кількість класів у базових даних довелося кількість компонент звести до одної. Отримана точність ненайгірша, хоча і не результат PCA/KErnelPCA. Цікавий алгоритм"
   ]
  },
  {
   "cell_type": "markdown",
   "id": "c8a3f0f2",
   "metadata": {},
   "source": [
    "Автокодувальник з лінійною функцією активації"
   ]
  },
  {
   "cell_type": "code",
   "execution_count": 129,
   "id": "69cb4d89",
   "metadata": {},
   "outputs": [],
   "source": [
    "from sklearn.neural_network import MLPRegressor\n",
    "\n",
    "autoencoder = MLPRegressor(hidden_layer_sizes=(25,), activation='relu', solver='adam', random_state=42)\n",
    "autoencoder.fit(X_train_std, X_train_std[:,:25]) \n",
    "\n",
    "\n",
    "X_train_auec = autoencoder.predict(X_train_std)\n",
    "X_test_auec = autoencoder.predict(X_test_std)"
   ]
  },
  {
   "cell_type": "code",
   "execution_count": 130,
   "id": "d759861a",
   "metadata": {},
   "outputs": [
    {
     "data": {
      "text/plain": [
       "(3220, 25)"
      ]
     },
     "execution_count": 130,
     "metadata": {},
     "output_type": "execute_result"
    }
   ],
   "source": [
    "X_train_auec.shape"
   ]
  },
  {
   "cell_type": "code",
   "execution_count": 131,
   "id": "00888bc4",
   "metadata": {},
   "outputs": [
    {
     "data": {
      "text/plain": [
       "0.8819695872556119"
      ]
     },
     "execution_count": 131,
     "metadata": {},
     "output_type": "execute_result"
    }
   ],
   "source": [
    "lr = LogisticRegression(multi_class='ovr', random_state=1, solver='lbfgs')\n",
    "lr = lr.fit(X_train_auec, y_train.values.ravel())\n",
    "lr.score(X_test_auec, y_test.values.ravel())"
   ]
  },
  {
   "cell_type": "markdown",
   "id": "c40e07b7",
   "metadata": {},
   "source": [
    "У лінійного автокодувальника отримана найгірша точність, можливо це пов'язано з лінійною функцією активації, а можливо з тим що я неправильно використав автокодувальник"
   ]
  },
  {
   "cell_type": "markdown",
   "id": "2d97a376",
   "metadata": {},
   "source": [
    "Автокодувальник з лінійною функцією активації"
   ]
  },
  {
   "cell_type": "code",
   "execution_count": 132,
   "id": "f3c1deac",
   "metadata": {},
   "outputs": [
    {
     "name": "stderr",
     "output_type": "stream",
     "text": [
      "C:\\Users\\Borya\\AppData\\Local\\Programs\\Python\\Python311\\Lib\\site-packages\\sklearn\\neural_network\\_multilayer_perceptron.py:702: ConvergenceWarning: Stochastic Optimizer: Maximum iterations (200) reached and the optimization hasn't converged yet.\n",
      "  warnings.warn(\n"
     ]
    },
    {
     "data": {
      "text/plain": [
       "0.8769007965242578"
      ]
     },
     "execution_count": 132,
     "metadata": {},
     "output_type": "execute_result"
    }
   ],
   "source": [
    "autoencoder1 = MLPRegressor(hidden_layer_sizes=(25,), activation='tanh', solver='adam', random_state=42)\n",
    "autoencoder1.fit(X_train_std, X_train_std[:,:25]) \n",
    "\n",
    "\n",
    "X_train_auecn = autoencoder1.predict(X_train_std)\n",
    "X_test_auecn = autoencoder1.predict(X_test_std)\n",
    "lr = LogisticRegression(multi_class='ovr', random_state=1, solver='lbfgs')\n",
    "lr = lr.fit(X_train_auecn, y_train.values.ravel())\n",
    "lr.score(X_test_auecn, y_test.values.ravel())"
   ]
  },
  {
   "cell_type": "markdown",
   "id": "590bafdd",
   "metadata": {},
   "source": [
    "Тож, застосування автокодувальника для зменшення розмірності лише погіршило результати, оскільки нелінійна функція активації дала гірший результат за лінійну. Можливо, проблема у даних, а можливо проблема у невірному застосуванні мною."
   ]
  },
  {
   "cell_type": "markdown",
   "id": "b8ba9065",
   "metadata": {},
   "source": [
    "Висновок"
   ]
  },
  {
   "cell_type": "markdown",
   "id": "eda94fed",
   "metadata": {},
   "source": [
    "Найкращий результат було отримано при застосуванні методу PCA та KernelPCA, причому він вийшов однаковим. Звичайно, це залежить від обраних мною даних і необхідної до виконання там задачі класифікації. Також, можливо я впустив якісь параметри які могли б допомогти добитися кращого результату. Використання автокодувальника тільки погіршило результати та дало \"віддалений\" від кращих методів результат. Хоча це віддалення звісно не дуже і велике."
   ]
  },
  {
   "cell_type": "code",
   "execution_count": null,
   "id": "7166d5e5",
   "metadata": {},
   "outputs": [],
   "source": []
  }
 ],
 "metadata": {
  "kernelspec": {
   "display_name": "Python 3 (ipykernel)",
   "language": "python",
   "name": "python3"
  },
  "language_info": {
   "codemirror_mode": {
    "name": "ipython",
    "version": 3
   },
   "file_extension": ".py",
   "mimetype": "text/x-python",
   "name": "python",
   "nbconvert_exporter": "python",
   "pygments_lexer": "ipython3",
   "version": "3.11.0"
  }
 },
 "nbformat": 4,
 "nbformat_minor": 5
}
